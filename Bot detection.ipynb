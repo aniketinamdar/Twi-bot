{
  "nbformat": 4,
  "nbformat_minor": 0,
  "metadata": {
    "colab": {
      "provenance": [],
      "mount_file_id": "1dWC1-1kiQAaXIftYsDb32bScT2FwCExP",
      "authorship_tag": "ABX9TyMRptMJoKRH/elJj2WBlAnY",
      "include_colab_link": true
    },
    "kernelspec": {
      "name": "python3",
      "display_name": "Python 3"
    },
    "language_info": {
      "name": "python"
    },
    "accelerator": "GPU",
    "gpuClass": "standard"
  },
  "cells": [
    {
      "cell_type": "markdown",
      "metadata": {
        "id": "view-in-github",
        "colab_type": "text"
      },
      "source": [
        "<a href=\"https://colab.research.google.com/github/aniketinamdar/Twitter-Bot/blob/main/Bot%20detection.ipynb\" target=\"_parent\"><img src=\"https://colab.research.google.com/assets/colab-badge.svg\" alt=\"Open In Colab\"/></a>"
      ]
    },
    {
      "cell_type": "markdown",
      "source": [
        "#Installing necesaary libraries"
      ],
      "metadata": {
        "id": "x69rGAvglkjY"
      }
    },
    {
      "cell_type": "code",
      "source": [
        "!pip install Levenshtein\n",
        "!pip install fuzzywuzzy"
      ],
      "metadata": {
        "colab": {
          "base_uri": "https://localhost:8080/"
        },
        "id": "ArbchYW-QMyU",
        "outputId": "e199e9aa-8445-43b9-b585-c26eb1499814"
      },
      "execution_count": 1,
      "outputs": [
        {
          "output_type": "stream",
          "name": "stdout",
          "text": [
            "Looking in indexes: https://pypi.org/simple, https://us-python.pkg.dev/colab-wheels/public/simple/\n",
            "Collecting Levenshtein\n",
            "  Downloading Levenshtein-0.21.0-cp39-cp39-manylinux_2_17_x86_64.manylinux2014_x86_64.whl (175 kB)\n",
            "\u001b[2K     \u001b[90m━━━━━━━━━━━━━━━━━━━━━━━━━━━━━━━━━━━━━━\u001b[0m \u001b[32m175.5/175.5 kB\u001b[0m \u001b[31m10.3 MB/s\u001b[0m eta \u001b[36m0:00:00\u001b[0m\n",
            "\u001b[?25hCollecting rapidfuzz<4.0.0,>=2.3.0\n",
            "  Downloading rapidfuzz-3.0.0-cp39-cp39-manylinux_2_17_x86_64.manylinux2014_x86_64.whl (3.1 MB)\n",
            "\u001b[2K     \u001b[90m━━━━━━━━━━━━━━━━━━━━━━━━━━━━━━━━━━━━━━━━\u001b[0m \u001b[32m3.1/3.1 MB\u001b[0m \u001b[31m81.2 MB/s\u001b[0m eta \u001b[36m0:00:00\u001b[0m\n",
            "\u001b[?25hInstalling collected packages: rapidfuzz, Levenshtein\n",
            "Successfully installed Levenshtein-0.21.0 rapidfuzz-3.0.0\n",
            "Looking in indexes: https://pypi.org/simple, https://us-python.pkg.dev/colab-wheels/public/simple/\n",
            "Collecting fuzzywuzzy\n",
            "  Downloading fuzzywuzzy-0.18.0-py2.py3-none-any.whl (18 kB)\n",
            "Installing collected packages: fuzzywuzzy\n",
            "Successfully installed fuzzywuzzy-0.18.0\n"
          ]
        }
      ]
    },
    {
      "cell_type": "markdown",
      "source": [
        "#Importing necessary libraries"
      ],
      "metadata": {
        "id": "JwFpHlPAln-Q"
      }
    },
    {
      "cell_type": "code",
      "execution_count": 2,
      "metadata": {
        "id": "If60TCdZP8h3"
      },
      "outputs": [],
      "source": [
        "import pandas as pd \n",
        "import numpy as np \n",
        "import os  \n",
        "import matplotlib.pyplot as plt \n",
        "import Levenshtein as Lev \n",
        "from fuzzywuzzy import fuzz \n",
        "from fuzzywuzzy import process \n",
        "from sklearn.utils import shuffle\n",
        "import datetime as dt  \n",
        "from mlxtend.plotting import plot_decision_regions \n",
        "from itertools import product"
      ]
    },
    {
      "cell_type": "markdown",
      "source": [
        "#Reading the dataset"
      ],
      "metadata": {
        "id": "v046ZeKnluRm"
      }
    },
    {
      "cell_type": "code",
      "source": [
        "df = pd.read_csv('/content/drive/MyDrive/cresci/social_spambots_1.csv/social_spambots_1.csv/users.csv') \n",
        "df.info() "
      ],
      "metadata": {
        "colab": {
          "base_uri": "https://localhost:8080/"
        },
        "id": "R_DJP4UbQLQ9",
        "outputId": "25d56000-5b02-45d3-9e75-3c65ad86eba2"
      },
      "execution_count": 3,
      "outputs": [
        {
          "output_type": "stream",
          "name": "stdout",
          "text": [
            "<class 'pandas.core.frame.DataFrame'>\n",
            "RangeIndex: 991 entries, 0 to 990\n",
            "Data columns (total 41 columns):\n",
            " #   Column                              Non-Null Count  Dtype  \n",
            "---  ------                              --------------  -----  \n",
            " 0   id                                  991 non-null    int64  \n",
            " 1   name                                991 non-null    object \n",
            " 2   screen_name                         991 non-null    object \n",
            " 3   statuses_count                      991 non-null    int64  \n",
            " 4   followers_count                     991 non-null    int64  \n",
            " 5   friends_count                       991 non-null    int64  \n",
            " 6   favourites_count                    991 non-null    int64  \n",
            " 7   listed_count                        991 non-null    int64  \n",
            " 8   url                                 22 non-null     object \n",
            " 9   lang                                991 non-null    object \n",
            " 10  time_zone                           903 non-null    object \n",
            " 11  location                            745 non-null    object \n",
            " 12  default_profile                     145 non-null    float64\n",
            " 13  default_profile_image               1 non-null      float64\n",
            " 14  geo_enabled                         18 non-null     float64\n",
            " 15  profile_image_url                   991 non-null    object \n",
            " 16  profile_banner_url                  77 non-null     object \n",
            " 17  profile_use_background_image        988 non-null    float64\n",
            " 18  profile_background_image_url_https  991 non-null    object \n",
            " 19  profile_text_color                  991 non-null    object \n",
            " 20  profile_image_url_https             991 non-null    object \n",
            " 21  profile_sidebar_border_color        991 non-null    object \n",
            " 22  profile_background_tile             266 non-null    float64\n",
            " 23  profile_sidebar_fill_color          991 non-null    object \n",
            " 24  profile_background_image_url        991 non-null    object \n",
            " 25  profile_background_color            991 non-null    object \n",
            " 26  profile_link_color                  991 non-null    object \n",
            " 27  utc_offset                          903 non-null    float64\n",
            " 28  is_translator                       0 non-null      float64\n",
            " 29  follow_request_sent                 0 non-null      float64\n",
            " 30  protected                           0 non-null      float64\n",
            " 31  verified                            0 non-null      float64\n",
            " 32  notifications                       0 non-null      float64\n",
            " 33  description                         943 non-null    object \n",
            " 34  contributors_enabled                0 non-null      float64\n",
            " 35  following                           0 non-null      float64\n",
            " 36  created_at                          991 non-null    object \n",
            " 37  timestamp                           991 non-null    object \n",
            " 38  crawled_at                          991 non-null    object \n",
            " 39  updated                             991 non-null    object \n",
            " 40  test_set_1                          991 non-null    int64  \n",
            "dtypes: float64(13), int64(7), object(21)\n",
            "memory usage: 317.6+ KB\n"
          ]
        }
      ]
    },
    {
      "cell_type": "code",
      "source": [
        "df = df.fillna('') \n",
        "df.iloc[:5,:20] "
      ],
      "metadata": {
        "colab": {
          "base_uri": "https://localhost:8080/",
          "height": 374
        },
        "id": "d24OGHxeRcFv",
        "outputId": "6a70bef9-9f51-4acd-f584-1a78c6ebedf7"
      },
      "execution_count": 4,
      "outputs": [
        {
          "output_type": "execute_result",
          "data": {
            "text/plain": [
              "         id                name     screen_name  statuses_count  \\\n",
              "0  24858289      Davide Bertoli       davideb66            1299   \n",
              "1  33212890      Elisa D'Ospina    ElisaDospina           18665   \n",
              "2  39773427     Donato Vincenzo      Vladimir65           22987   \n",
              "3  57007623  Rafiela Morales L.  RafielaMorales            7975   \n",
              "4  63258466        § h a † u r♄     FabrizioC_c           20218   \n",
              "\n",
              "   followers_count  friends_count  favourites_count  listed_count  \\\n",
              "0               22             40                 1             0   \n",
              "1            12561           3442             16358           110   \n",
              "2              600            755                14             6   \n",
              "3              398            350                11             2   \n",
              "4              413            405               162             8   \n",
              "\n",
              "                      url lang                   time_zone  \\\n",
              "0                           it                        Rome   \n",
              "1  http://t.co/ceK8TovxwI   it                   Greenland   \n",
              "2                           it                        Rome   \n",
              "3                           en  Pacific Time (US & Canada)   \n",
              "4  http://t.co/PK5F0JDKcy   it                        Rome   \n",
              "\n",
              "                     location default_profile default_profile_image  \\\n",
              "0                                         1.0                   1.0   \n",
              "1                       Italy                                         \n",
              "2  iPhone: 45.471680,9.192429                                         \n",
              "3  ÜT: 18.4698712,-69.9327525                                         \n",
              "4                     Firenze                                         \n",
              "\n",
              "  geo_enabled                                  profile_image_url  \\\n",
              "0         1.0  http://abs.twimg.com/sticky/default_profile_im...   \n",
              "1         1.0  http://pbs.twimg.com/profile_images/2603147033...   \n",
              "2              http://pbs.twimg.com/profile_images/2290354446...   \n",
              "3              http://pbs.twimg.com/profile_images/3788000008...   \n",
              "4         1.0  http://pbs.twimg.com/profile_images/4633019422...   \n",
              "\n",
              "                                  profile_banner_url  \\\n",
              "0                                                      \n",
              "1  https://pbs.twimg.com/profile_banners/33212890...   \n",
              "2  https://pbs.twimg.com/profile_banners/39773427...   \n",
              "3  https://pbs.twimg.com/profile_banners/57007623...   \n",
              "4  https://pbs.twimg.com/profile_banners/63258466...   \n",
              "\n",
              "  profile_use_background_image  \\\n",
              "0                          1.0   \n",
              "1                          1.0   \n",
              "2                          1.0   \n",
              "3                          1.0   \n",
              "4                          1.0   \n",
              "\n",
              "                  profile_background_image_url_https profile_text_color  \n",
              "0  https://abs.twimg.com/images/themes/theme1/bg.png             333333  \n",
              "1  https://pbs.twimg.com/profile_background_image...             333333  \n",
              "2  https://pbs.twimg.com/profile_background_image...             333333  \n",
              "3  https://pbs.twimg.com/profile_background_image...             3E4415  \n",
              "4  https://pbs.twimg.com/profile_background_image...             D67345  "
            ],
            "text/html": [
              "\n",
              "  <div id=\"df-45460419-a801-4fd9-9e25-696eb81c0b9d\">\n",
              "    <div class=\"colab-df-container\">\n",
              "      <div>\n",
              "<style scoped>\n",
              "    .dataframe tbody tr th:only-of-type {\n",
              "        vertical-align: middle;\n",
              "    }\n",
              "\n",
              "    .dataframe tbody tr th {\n",
              "        vertical-align: top;\n",
              "    }\n",
              "\n",
              "    .dataframe thead th {\n",
              "        text-align: right;\n",
              "    }\n",
              "</style>\n",
              "<table border=\"1\" class=\"dataframe\">\n",
              "  <thead>\n",
              "    <tr style=\"text-align: right;\">\n",
              "      <th></th>\n",
              "      <th>id</th>\n",
              "      <th>name</th>\n",
              "      <th>screen_name</th>\n",
              "      <th>statuses_count</th>\n",
              "      <th>followers_count</th>\n",
              "      <th>friends_count</th>\n",
              "      <th>favourites_count</th>\n",
              "      <th>listed_count</th>\n",
              "      <th>url</th>\n",
              "      <th>lang</th>\n",
              "      <th>time_zone</th>\n",
              "      <th>location</th>\n",
              "      <th>default_profile</th>\n",
              "      <th>default_profile_image</th>\n",
              "      <th>geo_enabled</th>\n",
              "      <th>profile_image_url</th>\n",
              "      <th>profile_banner_url</th>\n",
              "      <th>profile_use_background_image</th>\n",
              "      <th>profile_background_image_url_https</th>\n",
              "      <th>profile_text_color</th>\n",
              "    </tr>\n",
              "  </thead>\n",
              "  <tbody>\n",
              "    <tr>\n",
              "      <th>0</th>\n",
              "      <td>24858289</td>\n",
              "      <td>Davide Bertoli</td>\n",
              "      <td>davideb66</td>\n",
              "      <td>1299</td>\n",
              "      <td>22</td>\n",
              "      <td>40</td>\n",
              "      <td>1</td>\n",
              "      <td>0</td>\n",
              "      <td></td>\n",
              "      <td>it</td>\n",
              "      <td>Rome</td>\n",
              "      <td></td>\n",
              "      <td>1.0</td>\n",
              "      <td>1.0</td>\n",
              "      <td>1.0</td>\n",
              "      <td>http://abs.twimg.com/sticky/default_profile_im...</td>\n",
              "      <td></td>\n",
              "      <td>1.0</td>\n",
              "      <td>https://abs.twimg.com/images/themes/theme1/bg.png</td>\n",
              "      <td>333333</td>\n",
              "    </tr>\n",
              "    <tr>\n",
              "      <th>1</th>\n",
              "      <td>33212890</td>\n",
              "      <td>Elisa D'Ospina</td>\n",
              "      <td>ElisaDospina</td>\n",
              "      <td>18665</td>\n",
              "      <td>12561</td>\n",
              "      <td>3442</td>\n",
              "      <td>16358</td>\n",
              "      <td>110</td>\n",
              "      <td>http://t.co/ceK8TovxwI</td>\n",
              "      <td>it</td>\n",
              "      <td>Greenland</td>\n",
              "      <td>Italy</td>\n",
              "      <td></td>\n",
              "      <td></td>\n",
              "      <td>1.0</td>\n",
              "      <td>http://pbs.twimg.com/profile_images/2603147033...</td>\n",
              "      <td>https://pbs.twimg.com/profile_banners/33212890...</td>\n",
              "      <td>1.0</td>\n",
              "      <td>https://pbs.twimg.com/profile_background_image...</td>\n",
              "      <td>333333</td>\n",
              "    </tr>\n",
              "    <tr>\n",
              "      <th>2</th>\n",
              "      <td>39773427</td>\n",
              "      <td>Donato Vincenzo</td>\n",
              "      <td>Vladimir65</td>\n",
              "      <td>22987</td>\n",
              "      <td>600</td>\n",
              "      <td>755</td>\n",
              "      <td>14</td>\n",
              "      <td>6</td>\n",
              "      <td></td>\n",
              "      <td>it</td>\n",
              "      <td>Rome</td>\n",
              "      <td>iPhone: 45.471680,9.192429</td>\n",
              "      <td></td>\n",
              "      <td></td>\n",
              "      <td></td>\n",
              "      <td>http://pbs.twimg.com/profile_images/2290354446...</td>\n",
              "      <td>https://pbs.twimg.com/profile_banners/39773427...</td>\n",
              "      <td>1.0</td>\n",
              "      <td>https://pbs.twimg.com/profile_background_image...</td>\n",
              "      <td>333333</td>\n",
              "    </tr>\n",
              "    <tr>\n",
              "      <th>3</th>\n",
              "      <td>57007623</td>\n",
              "      <td>Rafiela Morales L.</td>\n",
              "      <td>RafielaMorales</td>\n",
              "      <td>7975</td>\n",
              "      <td>398</td>\n",
              "      <td>350</td>\n",
              "      <td>11</td>\n",
              "      <td>2</td>\n",
              "      <td></td>\n",
              "      <td>en</td>\n",
              "      <td>Pacific Time (US &amp; Canada)</td>\n",
              "      <td>ÜT: 18.4698712,-69.9327525</td>\n",
              "      <td></td>\n",
              "      <td></td>\n",
              "      <td></td>\n",
              "      <td>http://pbs.twimg.com/profile_images/3788000008...</td>\n",
              "      <td>https://pbs.twimg.com/profile_banners/57007623...</td>\n",
              "      <td>1.0</td>\n",
              "      <td>https://pbs.twimg.com/profile_background_image...</td>\n",
              "      <td>3E4415</td>\n",
              "    </tr>\n",
              "    <tr>\n",
              "      <th>4</th>\n",
              "      <td>63258466</td>\n",
              "      <td>§ h a † u r♄</td>\n",
              "      <td>FabrizioC_c</td>\n",
              "      <td>20218</td>\n",
              "      <td>413</td>\n",
              "      <td>405</td>\n",
              "      <td>162</td>\n",
              "      <td>8</td>\n",
              "      <td>http://t.co/PK5F0JDKcy</td>\n",
              "      <td>it</td>\n",
              "      <td>Rome</td>\n",
              "      <td>Firenze</td>\n",
              "      <td></td>\n",
              "      <td></td>\n",
              "      <td>1.0</td>\n",
              "      <td>http://pbs.twimg.com/profile_images/4633019422...</td>\n",
              "      <td>https://pbs.twimg.com/profile_banners/63258466...</td>\n",
              "      <td>1.0</td>\n",
              "      <td>https://pbs.twimg.com/profile_background_image...</td>\n",
              "      <td>D67345</td>\n",
              "    </tr>\n",
              "  </tbody>\n",
              "</table>\n",
              "</div>\n",
              "      <button class=\"colab-df-convert\" onclick=\"convertToInteractive('df-45460419-a801-4fd9-9e25-696eb81c0b9d')\"\n",
              "              title=\"Convert this dataframe to an interactive table.\"\n",
              "              style=\"display:none;\">\n",
              "        \n",
              "  <svg xmlns=\"http://www.w3.org/2000/svg\" height=\"24px\"viewBox=\"0 0 24 24\"\n",
              "       width=\"24px\">\n",
              "    <path d=\"M0 0h24v24H0V0z\" fill=\"none\"/>\n",
              "    <path d=\"M18.56 5.44l.94 2.06.94-2.06 2.06-.94-2.06-.94-.94-2.06-.94 2.06-2.06.94zm-11 1L8.5 8.5l.94-2.06 2.06-.94-2.06-.94L8.5 2.5l-.94 2.06-2.06.94zm10 10l.94 2.06.94-2.06 2.06-.94-2.06-.94-.94-2.06-.94 2.06-2.06.94z\"/><path d=\"M17.41 7.96l-1.37-1.37c-.4-.4-.92-.59-1.43-.59-.52 0-1.04.2-1.43.59L10.3 9.45l-7.72 7.72c-.78.78-.78 2.05 0 2.83L4 21.41c.39.39.9.59 1.41.59.51 0 1.02-.2 1.41-.59l7.78-7.78 2.81-2.81c.8-.78.8-2.07 0-2.86zM5.41 20L4 18.59l7.72-7.72 1.47 1.35L5.41 20z\"/>\n",
              "  </svg>\n",
              "      </button>\n",
              "      \n",
              "  <style>\n",
              "    .colab-df-container {\n",
              "      display:flex;\n",
              "      flex-wrap:wrap;\n",
              "      gap: 12px;\n",
              "    }\n",
              "\n",
              "    .colab-df-convert {\n",
              "      background-color: #E8F0FE;\n",
              "      border: none;\n",
              "      border-radius: 50%;\n",
              "      cursor: pointer;\n",
              "      display: none;\n",
              "      fill: #1967D2;\n",
              "      height: 32px;\n",
              "      padding: 0 0 0 0;\n",
              "      width: 32px;\n",
              "    }\n",
              "\n",
              "    .colab-df-convert:hover {\n",
              "      background-color: #E2EBFA;\n",
              "      box-shadow: 0px 1px 2px rgba(60, 64, 67, 0.3), 0px 1px 3px 1px rgba(60, 64, 67, 0.15);\n",
              "      fill: #174EA6;\n",
              "    }\n",
              "\n",
              "    [theme=dark] .colab-df-convert {\n",
              "      background-color: #3B4455;\n",
              "      fill: #D2E3FC;\n",
              "    }\n",
              "\n",
              "    [theme=dark] .colab-df-convert:hover {\n",
              "      background-color: #434B5C;\n",
              "      box-shadow: 0px 1px 3px 1px rgba(0, 0, 0, 0.15);\n",
              "      filter: drop-shadow(0px 1px 2px rgba(0, 0, 0, 0.3));\n",
              "      fill: #FFFFFF;\n",
              "    }\n",
              "  </style>\n",
              "\n",
              "      <script>\n",
              "        const buttonEl =\n",
              "          document.querySelector('#df-45460419-a801-4fd9-9e25-696eb81c0b9d button.colab-df-convert');\n",
              "        buttonEl.style.display =\n",
              "          google.colab.kernel.accessAllowed ? 'block' : 'none';\n",
              "\n",
              "        async function convertToInteractive(key) {\n",
              "          const element = document.querySelector('#df-45460419-a801-4fd9-9e25-696eb81c0b9d');\n",
              "          const dataTable =\n",
              "            await google.colab.kernel.invokeFunction('convertToInteractive',\n",
              "                                                     [key], {});\n",
              "          if (!dataTable) return;\n",
              "\n",
              "          const docLinkHtml = 'Like what you see? Visit the ' +\n",
              "            '<a target=\"_blank\" href=https://colab.research.google.com/notebooks/data_table.ipynb>data table notebook</a>'\n",
              "            + ' to learn more about interactive tables.';\n",
              "          element.innerHTML = '';\n",
              "          dataTable['output_type'] = 'display_data';\n",
              "          await google.colab.output.renderOutput(dataTable, element);\n",
              "          const docLink = document.createElement('div');\n",
              "          docLink.innerHTML = docLinkHtml;\n",
              "          element.appendChild(docLink);\n",
              "        }\n",
              "      </script>\n",
              "    </div>\n",
              "  </div>\n",
              "  "
            ]
          },
          "metadata": {},
          "execution_count": 4
        }
      ]
    },
    {
      "cell_type": "code",
      "source": [
        "df['default_profile'].isnull().values.sum() \n",
        "len(df['default_profile']) \n",
        "df.head() "
      ],
      "metadata": {
        "colab": {
          "base_uri": "https://localhost:8080/",
          "height": 473
        },
        "id": "UQZwKG7nRi1C",
        "outputId": "417fba84-5666-4188-c019-4aa36b7cf5bd"
      },
      "execution_count": 5,
      "outputs": [
        {
          "output_type": "execute_result",
          "data": {
            "text/plain": [
              "         id                name     screen_name  statuses_count  \\\n",
              "0  24858289      Davide Bertoli       davideb66            1299   \n",
              "1  33212890      Elisa D'Ospina    ElisaDospina           18665   \n",
              "2  39773427     Donato Vincenzo      Vladimir65           22987   \n",
              "3  57007623  Rafiela Morales L.  RafielaMorales            7975   \n",
              "4  63258466        § h a † u r♄     FabrizioC_c           20218   \n",
              "\n",
              "   followers_count  friends_count  favourites_count  listed_count  \\\n",
              "0               22             40                 1             0   \n",
              "1            12561           3442             16358           110   \n",
              "2              600            755                14             6   \n",
              "3              398            350                11             2   \n",
              "4              413            405               162             8   \n",
              "\n",
              "                      url lang  ... verified notifications  \\\n",
              "0                           it  ...                          \n",
              "1  http://t.co/ceK8TovxwI   it  ...                          \n",
              "2                           it  ...                          \n",
              "3                           en  ...                          \n",
              "4  http://t.co/PK5F0JDKcy   it  ...                          \n",
              "\n",
              "                                         description contributors_enabled  \\\n",
              "0                                                                           \n",
              "1  Autrice del libro #unavitatuttacurve dal 9 apr...                        \n",
              "2                            [Live Long and Prosper]                        \n",
              "3  Cuasi Odontologa*♥,#Bipolar, #Sarcastica & Som...                        \n",
              "4  I shall rise from my own death, to avenge hers...                        \n",
              "\n",
              "  following                      created_at            timestamp  \\\n",
              "0            Tue Mar 17 08:51:12 +0000 2009  2009-03-17 09:51:12   \n",
              "1            Sun Apr 19 14:38:04 +0000 2009  2009-04-19 16:38:04   \n",
              "2            Wed May 13 15:34:41 +0000 2009  2009-05-13 17:34:41   \n",
              "3            Wed Jul 15 12:55:03 +0000 2009  2009-07-15 14:55:03   \n",
              "4            Wed Aug 05 21:12:49 +0000 2009  2009-08-05 23:12:49   \n",
              "\n",
              "            crawled_at              updated test_set_1  \n",
              "0  2014-04-19 14:46:19  2016-03-15 14:12:22          1  \n",
              "1  2014-05-18 23:20:58  2016-03-15 14:17:13          1  \n",
              "2  2014-05-13 23:21:54  2016-03-15 14:16:44          1  \n",
              "3  2014-05-19 23:24:18  2016-03-15 14:18:54          1  \n",
              "4  2014-05-11 23:22:23  2016-03-15 14:17:05          1  \n",
              "\n",
              "[5 rows x 41 columns]"
            ],
            "text/html": [
              "\n",
              "  <div id=\"df-e90c4ad1-beec-4ca6-8b70-c711d6ee856f\">\n",
              "    <div class=\"colab-df-container\">\n",
              "      <div>\n",
              "<style scoped>\n",
              "    .dataframe tbody tr th:only-of-type {\n",
              "        vertical-align: middle;\n",
              "    }\n",
              "\n",
              "    .dataframe tbody tr th {\n",
              "        vertical-align: top;\n",
              "    }\n",
              "\n",
              "    .dataframe thead th {\n",
              "        text-align: right;\n",
              "    }\n",
              "</style>\n",
              "<table border=\"1\" class=\"dataframe\">\n",
              "  <thead>\n",
              "    <tr style=\"text-align: right;\">\n",
              "      <th></th>\n",
              "      <th>id</th>\n",
              "      <th>name</th>\n",
              "      <th>screen_name</th>\n",
              "      <th>statuses_count</th>\n",
              "      <th>followers_count</th>\n",
              "      <th>friends_count</th>\n",
              "      <th>favourites_count</th>\n",
              "      <th>listed_count</th>\n",
              "      <th>url</th>\n",
              "      <th>lang</th>\n",
              "      <th>...</th>\n",
              "      <th>verified</th>\n",
              "      <th>notifications</th>\n",
              "      <th>description</th>\n",
              "      <th>contributors_enabled</th>\n",
              "      <th>following</th>\n",
              "      <th>created_at</th>\n",
              "      <th>timestamp</th>\n",
              "      <th>crawled_at</th>\n",
              "      <th>updated</th>\n",
              "      <th>test_set_1</th>\n",
              "    </tr>\n",
              "  </thead>\n",
              "  <tbody>\n",
              "    <tr>\n",
              "      <th>0</th>\n",
              "      <td>24858289</td>\n",
              "      <td>Davide Bertoli</td>\n",
              "      <td>davideb66</td>\n",
              "      <td>1299</td>\n",
              "      <td>22</td>\n",
              "      <td>40</td>\n",
              "      <td>1</td>\n",
              "      <td>0</td>\n",
              "      <td></td>\n",
              "      <td>it</td>\n",
              "      <td>...</td>\n",
              "      <td></td>\n",
              "      <td></td>\n",
              "      <td></td>\n",
              "      <td></td>\n",
              "      <td></td>\n",
              "      <td>Tue Mar 17 08:51:12 +0000 2009</td>\n",
              "      <td>2009-03-17 09:51:12</td>\n",
              "      <td>2014-04-19 14:46:19</td>\n",
              "      <td>2016-03-15 14:12:22</td>\n",
              "      <td>1</td>\n",
              "    </tr>\n",
              "    <tr>\n",
              "      <th>1</th>\n",
              "      <td>33212890</td>\n",
              "      <td>Elisa D'Ospina</td>\n",
              "      <td>ElisaDospina</td>\n",
              "      <td>18665</td>\n",
              "      <td>12561</td>\n",
              "      <td>3442</td>\n",
              "      <td>16358</td>\n",
              "      <td>110</td>\n",
              "      <td>http://t.co/ceK8TovxwI</td>\n",
              "      <td>it</td>\n",
              "      <td>...</td>\n",
              "      <td></td>\n",
              "      <td></td>\n",
              "      <td>Autrice del libro #unavitatuttacurve dal 9 apr...</td>\n",
              "      <td></td>\n",
              "      <td></td>\n",
              "      <td>Sun Apr 19 14:38:04 +0000 2009</td>\n",
              "      <td>2009-04-19 16:38:04</td>\n",
              "      <td>2014-05-18 23:20:58</td>\n",
              "      <td>2016-03-15 14:17:13</td>\n",
              "      <td>1</td>\n",
              "    </tr>\n",
              "    <tr>\n",
              "      <th>2</th>\n",
              "      <td>39773427</td>\n",
              "      <td>Donato Vincenzo</td>\n",
              "      <td>Vladimir65</td>\n",
              "      <td>22987</td>\n",
              "      <td>600</td>\n",
              "      <td>755</td>\n",
              "      <td>14</td>\n",
              "      <td>6</td>\n",
              "      <td></td>\n",
              "      <td>it</td>\n",
              "      <td>...</td>\n",
              "      <td></td>\n",
              "      <td></td>\n",
              "      <td>[Live Long and Prosper]</td>\n",
              "      <td></td>\n",
              "      <td></td>\n",
              "      <td>Wed May 13 15:34:41 +0000 2009</td>\n",
              "      <td>2009-05-13 17:34:41</td>\n",
              "      <td>2014-05-13 23:21:54</td>\n",
              "      <td>2016-03-15 14:16:44</td>\n",
              "      <td>1</td>\n",
              "    </tr>\n",
              "    <tr>\n",
              "      <th>3</th>\n",
              "      <td>57007623</td>\n",
              "      <td>Rafiela Morales L.</td>\n",
              "      <td>RafielaMorales</td>\n",
              "      <td>7975</td>\n",
              "      <td>398</td>\n",
              "      <td>350</td>\n",
              "      <td>11</td>\n",
              "      <td>2</td>\n",
              "      <td></td>\n",
              "      <td>en</td>\n",
              "      <td>...</td>\n",
              "      <td></td>\n",
              "      <td></td>\n",
              "      <td>Cuasi Odontologa*♥,#Bipolar, #Sarcastica &amp; Som...</td>\n",
              "      <td></td>\n",
              "      <td></td>\n",
              "      <td>Wed Jul 15 12:55:03 +0000 2009</td>\n",
              "      <td>2009-07-15 14:55:03</td>\n",
              "      <td>2014-05-19 23:24:18</td>\n",
              "      <td>2016-03-15 14:18:54</td>\n",
              "      <td>1</td>\n",
              "    </tr>\n",
              "    <tr>\n",
              "      <th>4</th>\n",
              "      <td>63258466</td>\n",
              "      <td>§ h a † u r♄</td>\n",
              "      <td>FabrizioC_c</td>\n",
              "      <td>20218</td>\n",
              "      <td>413</td>\n",
              "      <td>405</td>\n",
              "      <td>162</td>\n",
              "      <td>8</td>\n",
              "      <td>http://t.co/PK5F0JDKcy</td>\n",
              "      <td>it</td>\n",
              "      <td>...</td>\n",
              "      <td></td>\n",
              "      <td></td>\n",
              "      <td>I shall rise from my own death, to avenge hers...</td>\n",
              "      <td></td>\n",
              "      <td></td>\n",
              "      <td>Wed Aug 05 21:12:49 +0000 2009</td>\n",
              "      <td>2009-08-05 23:12:49</td>\n",
              "      <td>2014-05-11 23:22:23</td>\n",
              "      <td>2016-03-15 14:17:05</td>\n",
              "      <td>1</td>\n",
              "    </tr>\n",
              "  </tbody>\n",
              "</table>\n",
              "<p>5 rows × 41 columns</p>\n",
              "</div>\n",
              "      <button class=\"colab-df-convert\" onclick=\"convertToInteractive('df-e90c4ad1-beec-4ca6-8b70-c711d6ee856f')\"\n",
              "              title=\"Convert this dataframe to an interactive table.\"\n",
              "              style=\"display:none;\">\n",
              "        \n",
              "  <svg xmlns=\"http://www.w3.org/2000/svg\" height=\"24px\"viewBox=\"0 0 24 24\"\n",
              "       width=\"24px\">\n",
              "    <path d=\"M0 0h24v24H0V0z\" fill=\"none\"/>\n",
              "    <path d=\"M18.56 5.44l.94 2.06.94-2.06 2.06-.94-2.06-.94-.94-2.06-.94 2.06-2.06.94zm-11 1L8.5 8.5l.94-2.06 2.06-.94-2.06-.94L8.5 2.5l-.94 2.06-2.06.94zm10 10l.94 2.06.94-2.06 2.06-.94-2.06-.94-.94-2.06-.94 2.06-2.06.94z\"/><path d=\"M17.41 7.96l-1.37-1.37c-.4-.4-.92-.59-1.43-.59-.52 0-1.04.2-1.43.59L10.3 9.45l-7.72 7.72c-.78.78-.78 2.05 0 2.83L4 21.41c.39.39.9.59 1.41.59.51 0 1.02-.2 1.41-.59l7.78-7.78 2.81-2.81c.8-.78.8-2.07 0-2.86zM5.41 20L4 18.59l7.72-7.72 1.47 1.35L5.41 20z\"/>\n",
              "  </svg>\n",
              "      </button>\n",
              "      \n",
              "  <style>\n",
              "    .colab-df-container {\n",
              "      display:flex;\n",
              "      flex-wrap:wrap;\n",
              "      gap: 12px;\n",
              "    }\n",
              "\n",
              "    .colab-df-convert {\n",
              "      background-color: #E8F0FE;\n",
              "      border: none;\n",
              "      border-radius: 50%;\n",
              "      cursor: pointer;\n",
              "      display: none;\n",
              "      fill: #1967D2;\n",
              "      height: 32px;\n",
              "      padding: 0 0 0 0;\n",
              "      width: 32px;\n",
              "    }\n",
              "\n",
              "    .colab-df-convert:hover {\n",
              "      background-color: #E2EBFA;\n",
              "      box-shadow: 0px 1px 2px rgba(60, 64, 67, 0.3), 0px 1px 3px 1px rgba(60, 64, 67, 0.15);\n",
              "      fill: #174EA6;\n",
              "    }\n",
              "\n",
              "    [theme=dark] .colab-df-convert {\n",
              "      background-color: #3B4455;\n",
              "      fill: #D2E3FC;\n",
              "    }\n",
              "\n",
              "    [theme=dark] .colab-df-convert:hover {\n",
              "      background-color: #434B5C;\n",
              "      box-shadow: 0px 1px 3px 1px rgba(0, 0, 0, 0.15);\n",
              "      filter: drop-shadow(0px 1px 2px rgba(0, 0, 0, 0.3));\n",
              "      fill: #FFFFFF;\n",
              "    }\n",
              "  </style>\n",
              "\n",
              "      <script>\n",
              "        const buttonEl =\n",
              "          document.querySelector('#df-e90c4ad1-beec-4ca6-8b70-c711d6ee856f button.colab-df-convert');\n",
              "        buttonEl.style.display =\n",
              "          google.colab.kernel.accessAllowed ? 'block' : 'none';\n",
              "\n",
              "        async function convertToInteractive(key) {\n",
              "          const element = document.querySelector('#df-e90c4ad1-beec-4ca6-8b70-c711d6ee856f');\n",
              "          const dataTable =\n",
              "            await google.colab.kernel.invokeFunction('convertToInteractive',\n",
              "                                                     [key], {});\n",
              "          if (!dataTable) return;\n",
              "\n",
              "          const docLinkHtml = 'Like what you see? Visit the ' +\n",
              "            '<a target=\"_blank\" href=https://colab.research.google.com/notebooks/data_table.ipynb>data table notebook</a>'\n",
              "            + ' to learn more about interactive tables.';\n",
              "          element.innerHTML = '';\n",
              "          dataTable['output_type'] = 'display_data';\n",
              "          await google.colab.output.renderOutput(dataTable, element);\n",
              "          const docLink = document.createElement('div');\n",
              "          docLink.innerHTML = docLinkHtml;\n",
              "          element.appendChild(docLink);\n",
              "        }\n",
              "      </script>\n",
              "    </div>\n",
              "  </div>\n",
              "  "
            ]
          },
          "metadata": {},
          "execution_count": 5
        }
      ]
    },
    {
      "cell_type": "code",
      "source": [
        "real = pd.read_csv('/content/drive/MyDrive/cresci/genuine_accounts.csv/genuine_accounts.csv/users.csv') \n",
        "real = real.fillna('') "
      ],
      "metadata": {
        "id": "HCcfg57cRz0G"
      },
      "execution_count": 6,
      "outputs": []
    },
    {
      "cell_type": "code",
      "source": [
        "fake_followers = pd.read_csv('/content/drive/MyDrive/cresci/fake_followers.csv/fake_followers.csv/users.csv') \n",
        "fake_followers.fillna('') "
      ],
      "metadata": {
        "colab": {
          "base_uri": "https://localhost:8080/",
          "height": 904
        },
        "id": "i_bPZxZLSEjr",
        "outputId": "efbf8458-0124-4498-9bae-8aab7252b0c9"
      },
      "execution_count": 7,
      "outputs": [
        {
          "output_type": "execute_result",
          "data": {
            "text/plain": [
              "              id                  name      screen_name  statuses_count  \\\n",
              "0       80479674               YI YUAN        yi_twitts              29   \n",
              "1       82487179        Marcos Perez C      marcos_peca            1408   \n",
              "2      105830531         curti lorenzo     curtilorenzo              39   \n",
              "3      114488344  ruben dario toscano        gatito2710              59   \n",
              "4      123222267          Malek Khalaf      MalekKhalaf             987   \n",
              "...          ...                   ...              ...             ...   \n",
              "3346  1391497074           Verda Marks      VerdaMarks1               1   \n",
              "3347  1391544607       Danial Campbell  DanialCampbell2               0   \n",
              "3348  1391622127          Maudie Meyer     MaudieMeyer1               2   \n",
              "3349  1391832212       Harriett Harvey  HarriettHarvey9               2   \n",
              "3350  1391998039       Gillian Wheeler  GillianWheeler3               0   \n",
              "\n",
              "      followers_count  friends_count  favourites_count  listed_count  \\\n",
              "0                  19            255                 1             0   \n",
              "1                 208            866               138             0   \n",
              "2                  59            962                 8             0   \n",
              "3                   7             49                 4             0   \n",
              "4                  60            521                61             1   \n",
              "...               ...            ...               ...           ...   \n",
              "3346                0             17                 0             0   \n",
              "3347                1             17                 0             0   \n",
              "3348                0             15                 0             0   \n",
              "3349                0             16                 0             0   \n",
              "3350                0             17                 0             0   \n",
              "\n",
              "                          created_at                                     url  \\\n",
              "0     Wed Oct 07 03:19:21 +0000 2009                  http://www.jycondo.com   \n",
              "1     Wed Oct 14 23:40:17 +0000 2009                                           \n",
              "2     Sun Jan 17 16:46:52 +0000 2010             http://www.valcavargna.com/   \n",
              "3     Mon Feb 15 15:49:58 +0000 2010                                           \n",
              "4     Mon Mar 15 11:38:55 +0000 2010  http://www.facebook.com/Malek.AlBalawi   \n",
              "...                              ...                                     ...   \n",
              "3346  Tue Apr 30 08:23:57 +0000 2013                                           \n",
              "3347  Tue Apr 30 08:34:49 +0000 2013                                           \n",
              "3348  Tue Apr 30 09:21:12 +0000 2013                                           \n",
              "3349  Tue Apr 30 11:25:11 +0000 2013                                           \n",
              "3350  Tue Apr 30 12:47:51 +0000 2013                                           \n",
              "\n",
              "      ... utc_offset is_translator follow_request_sent protected verified  \\\n",
              "0     ...   -18000.0                                                        \n",
              "1     ...   -21600.0                                                        \n",
              "2     ...        0.0                                                        \n",
              "3     ...   -18000.0                                                        \n",
              "4     ...    10800.0                                                        \n",
              "...   ...        ...           ...                 ...       ...      ...   \n",
              "3346  ...                                                                   \n",
              "3347  ...                                                                   \n",
              "3348  ...                                                                   \n",
              "3349  ...                                                                   \n",
              "3350  ...                                                                   \n",
              "\n",
              "     notifications                                        description  \\\n",
              "0                                                  real estate sales    \n",
              "1                                                                       \n",
              "2                   le corna del capro scappato dal gregge s'infil...   \n",
              "3                                                                       \n",
              "4                   MA student at JU, Interested in Juventus,Italy...   \n",
              "...            ...                                                ...   \n",
              "3346                I have been in business onlin and offline for ...   \n",
              "3347                                                                    \n",
              "3348                                                                    \n",
              "3349                                                                    \n",
              "3350                Hello!im a BELIEBER! IM A HUGE FAN OF JUSTIN B...   \n",
              "\n",
              "     contributors_enabled following              updated  \n",
              "0                                    2013-06-12 18:38:35  \n",
              "1                                    2013-06-12 18:38:35  \n",
              "2                                    2013-06-12 18:38:35  \n",
              "3                                    2013-06-12 18:38:35  \n",
              "4                                    2013-06-11 17:39:44  \n",
              "...                   ...       ...                  ...  \n",
              "3346                                 2013-06-12 18:38:26  \n",
              "3347                                 2013-06-12 18:38:35  \n",
              "3348                                 2013-06-12 18:38:35  \n",
              "3349                                 2013-06-12 18:38:26  \n",
              "3350                                 2013-06-12 18:38:26  \n",
              "\n",
              "[3351 rows x 38 columns]"
            ],
            "text/html": [
              "\n",
              "  <div id=\"df-3f68ddcb-8469-4974-8867-1f8e694eb8eb\">\n",
              "    <div class=\"colab-df-container\">\n",
              "      <div>\n",
              "<style scoped>\n",
              "    .dataframe tbody tr th:only-of-type {\n",
              "        vertical-align: middle;\n",
              "    }\n",
              "\n",
              "    .dataframe tbody tr th {\n",
              "        vertical-align: top;\n",
              "    }\n",
              "\n",
              "    .dataframe thead th {\n",
              "        text-align: right;\n",
              "    }\n",
              "</style>\n",
              "<table border=\"1\" class=\"dataframe\">\n",
              "  <thead>\n",
              "    <tr style=\"text-align: right;\">\n",
              "      <th></th>\n",
              "      <th>id</th>\n",
              "      <th>name</th>\n",
              "      <th>screen_name</th>\n",
              "      <th>statuses_count</th>\n",
              "      <th>followers_count</th>\n",
              "      <th>friends_count</th>\n",
              "      <th>favourites_count</th>\n",
              "      <th>listed_count</th>\n",
              "      <th>created_at</th>\n",
              "      <th>url</th>\n",
              "      <th>...</th>\n",
              "      <th>utc_offset</th>\n",
              "      <th>is_translator</th>\n",
              "      <th>follow_request_sent</th>\n",
              "      <th>protected</th>\n",
              "      <th>verified</th>\n",
              "      <th>notifications</th>\n",
              "      <th>description</th>\n",
              "      <th>contributors_enabled</th>\n",
              "      <th>following</th>\n",
              "      <th>updated</th>\n",
              "    </tr>\n",
              "  </thead>\n",
              "  <tbody>\n",
              "    <tr>\n",
              "      <th>0</th>\n",
              "      <td>80479674</td>\n",
              "      <td>YI YUAN</td>\n",
              "      <td>yi_twitts</td>\n",
              "      <td>29</td>\n",
              "      <td>19</td>\n",
              "      <td>255</td>\n",
              "      <td>1</td>\n",
              "      <td>0</td>\n",
              "      <td>Wed Oct 07 03:19:21 +0000 2009</td>\n",
              "      <td>http://www.jycondo.com</td>\n",
              "      <td>...</td>\n",
              "      <td>-18000.0</td>\n",
              "      <td></td>\n",
              "      <td></td>\n",
              "      <td></td>\n",
              "      <td></td>\n",
              "      <td></td>\n",
              "      <td>real estate sales</td>\n",
              "      <td></td>\n",
              "      <td></td>\n",
              "      <td>2013-06-12 18:38:35</td>\n",
              "    </tr>\n",
              "    <tr>\n",
              "      <th>1</th>\n",
              "      <td>82487179</td>\n",
              "      <td>Marcos Perez C</td>\n",
              "      <td>marcos_peca</td>\n",
              "      <td>1408</td>\n",
              "      <td>208</td>\n",
              "      <td>866</td>\n",
              "      <td>138</td>\n",
              "      <td>0</td>\n",
              "      <td>Wed Oct 14 23:40:17 +0000 2009</td>\n",
              "      <td></td>\n",
              "      <td>...</td>\n",
              "      <td>-21600.0</td>\n",
              "      <td></td>\n",
              "      <td></td>\n",
              "      <td></td>\n",
              "      <td></td>\n",
              "      <td></td>\n",
              "      <td></td>\n",
              "      <td></td>\n",
              "      <td></td>\n",
              "      <td>2013-06-12 18:38:35</td>\n",
              "    </tr>\n",
              "    <tr>\n",
              "      <th>2</th>\n",
              "      <td>105830531</td>\n",
              "      <td>curti lorenzo</td>\n",
              "      <td>curtilorenzo</td>\n",
              "      <td>39</td>\n",
              "      <td>59</td>\n",
              "      <td>962</td>\n",
              "      <td>8</td>\n",
              "      <td>0</td>\n",
              "      <td>Sun Jan 17 16:46:52 +0000 2010</td>\n",
              "      <td>http://www.valcavargna.com/</td>\n",
              "      <td>...</td>\n",
              "      <td>0.0</td>\n",
              "      <td></td>\n",
              "      <td></td>\n",
              "      <td></td>\n",
              "      <td></td>\n",
              "      <td></td>\n",
              "      <td>le corna del capro scappato dal gregge s'infil...</td>\n",
              "      <td></td>\n",
              "      <td></td>\n",
              "      <td>2013-06-12 18:38:35</td>\n",
              "    </tr>\n",
              "    <tr>\n",
              "      <th>3</th>\n",
              "      <td>114488344</td>\n",
              "      <td>ruben dario toscano</td>\n",
              "      <td>gatito2710</td>\n",
              "      <td>59</td>\n",
              "      <td>7</td>\n",
              "      <td>49</td>\n",
              "      <td>4</td>\n",
              "      <td>0</td>\n",
              "      <td>Mon Feb 15 15:49:58 +0000 2010</td>\n",
              "      <td></td>\n",
              "      <td>...</td>\n",
              "      <td>-18000.0</td>\n",
              "      <td></td>\n",
              "      <td></td>\n",
              "      <td></td>\n",
              "      <td></td>\n",
              "      <td></td>\n",
              "      <td></td>\n",
              "      <td></td>\n",
              "      <td></td>\n",
              "      <td>2013-06-12 18:38:35</td>\n",
              "    </tr>\n",
              "    <tr>\n",
              "      <th>4</th>\n",
              "      <td>123222267</td>\n",
              "      <td>Malek Khalaf</td>\n",
              "      <td>MalekKhalaf</td>\n",
              "      <td>987</td>\n",
              "      <td>60</td>\n",
              "      <td>521</td>\n",
              "      <td>61</td>\n",
              "      <td>1</td>\n",
              "      <td>Mon Mar 15 11:38:55 +0000 2010</td>\n",
              "      <td>http://www.facebook.com/Malek.AlBalawi</td>\n",
              "      <td>...</td>\n",
              "      <td>10800.0</td>\n",
              "      <td></td>\n",
              "      <td></td>\n",
              "      <td></td>\n",
              "      <td></td>\n",
              "      <td></td>\n",
              "      <td>MA student at JU, Interested in Juventus,Italy...</td>\n",
              "      <td></td>\n",
              "      <td></td>\n",
              "      <td>2013-06-11 17:39:44</td>\n",
              "    </tr>\n",
              "    <tr>\n",
              "      <th>...</th>\n",
              "      <td>...</td>\n",
              "      <td>...</td>\n",
              "      <td>...</td>\n",
              "      <td>...</td>\n",
              "      <td>...</td>\n",
              "      <td>...</td>\n",
              "      <td>...</td>\n",
              "      <td>...</td>\n",
              "      <td>...</td>\n",
              "      <td>...</td>\n",
              "      <td>...</td>\n",
              "      <td>...</td>\n",
              "      <td>...</td>\n",
              "      <td>...</td>\n",
              "      <td>...</td>\n",
              "      <td>...</td>\n",
              "      <td>...</td>\n",
              "      <td>...</td>\n",
              "      <td>...</td>\n",
              "      <td>...</td>\n",
              "      <td>...</td>\n",
              "    </tr>\n",
              "    <tr>\n",
              "      <th>3346</th>\n",
              "      <td>1391497074</td>\n",
              "      <td>Verda Marks</td>\n",
              "      <td>VerdaMarks1</td>\n",
              "      <td>1</td>\n",
              "      <td>0</td>\n",
              "      <td>17</td>\n",
              "      <td>0</td>\n",
              "      <td>0</td>\n",
              "      <td>Tue Apr 30 08:23:57 +0000 2013</td>\n",
              "      <td></td>\n",
              "      <td>...</td>\n",
              "      <td></td>\n",
              "      <td></td>\n",
              "      <td></td>\n",
              "      <td></td>\n",
              "      <td></td>\n",
              "      <td></td>\n",
              "      <td>I have been in business onlin and offline for ...</td>\n",
              "      <td></td>\n",
              "      <td></td>\n",
              "      <td>2013-06-12 18:38:26</td>\n",
              "    </tr>\n",
              "    <tr>\n",
              "      <th>3347</th>\n",
              "      <td>1391544607</td>\n",
              "      <td>Danial Campbell</td>\n",
              "      <td>DanialCampbell2</td>\n",
              "      <td>0</td>\n",
              "      <td>1</td>\n",
              "      <td>17</td>\n",
              "      <td>0</td>\n",
              "      <td>0</td>\n",
              "      <td>Tue Apr 30 08:34:49 +0000 2013</td>\n",
              "      <td></td>\n",
              "      <td>...</td>\n",
              "      <td></td>\n",
              "      <td></td>\n",
              "      <td></td>\n",
              "      <td></td>\n",
              "      <td></td>\n",
              "      <td></td>\n",
              "      <td></td>\n",
              "      <td></td>\n",
              "      <td></td>\n",
              "      <td>2013-06-12 18:38:35</td>\n",
              "    </tr>\n",
              "    <tr>\n",
              "      <th>3348</th>\n",
              "      <td>1391622127</td>\n",
              "      <td>Maudie Meyer</td>\n",
              "      <td>MaudieMeyer1</td>\n",
              "      <td>2</td>\n",
              "      <td>0</td>\n",
              "      <td>15</td>\n",
              "      <td>0</td>\n",
              "      <td>0</td>\n",
              "      <td>Tue Apr 30 09:21:12 +0000 2013</td>\n",
              "      <td></td>\n",
              "      <td>...</td>\n",
              "      <td></td>\n",
              "      <td></td>\n",
              "      <td></td>\n",
              "      <td></td>\n",
              "      <td></td>\n",
              "      <td></td>\n",
              "      <td></td>\n",
              "      <td></td>\n",
              "      <td></td>\n",
              "      <td>2013-06-12 18:38:35</td>\n",
              "    </tr>\n",
              "    <tr>\n",
              "      <th>3349</th>\n",
              "      <td>1391832212</td>\n",
              "      <td>Harriett Harvey</td>\n",
              "      <td>HarriettHarvey9</td>\n",
              "      <td>2</td>\n",
              "      <td>0</td>\n",
              "      <td>16</td>\n",
              "      <td>0</td>\n",
              "      <td>0</td>\n",
              "      <td>Tue Apr 30 11:25:11 +0000 2013</td>\n",
              "      <td></td>\n",
              "      <td>...</td>\n",
              "      <td></td>\n",
              "      <td></td>\n",
              "      <td></td>\n",
              "      <td></td>\n",
              "      <td></td>\n",
              "      <td></td>\n",
              "      <td></td>\n",
              "      <td></td>\n",
              "      <td></td>\n",
              "      <td>2013-06-12 18:38:26</td>\n",
              "    </tr>\n",
              "    <tr>\n",
              "      <th>3350</th>\n",
              "      <td>1391998039</td>\n",
              "      <td>Gillian Wheeler</td>\n",
              "      <td>GillianWheeler3</td>\n",
              "      <td>0</td>\n",
              "      <td>0</td>\n",
              "      <td>17</td>\n",
              "      <td>0</td>\n",
              "      <td>0</td>\n",
              "      <td>Tue Apr 30 12:47:51 +0000 2013</td>\n",
              "      <td></td>\n",
              "      <td>...</td>\n",
              "      <td></td>\n",
              "      <td></td>\n",
              "      <td></td>\n",
              "      <td></td>\n",
              "      <td></td>\n",
              "      <td></td>\n",
              "      <td>Hello!im a BELIEBER! IM A HUGE FAN OF JUSTIN B...</td>\n",
              "      <td></td>\n",
              "      <td></td>\n",
              "      <td>2013-06-12 18:38:26</td>\n",
              "    </tr>\n",
              "  </tbody>\n",
              "</table>\n",
              "<p>3351 rows × 38 columns</p>\n",
              "</div>\n",
              "      <button class=\"colab-df-convert\" onclick=\"convertToInteractive('df-3f68ddcb-8469-4974-8867-1f8e694eb8eb')\"\n",
              "              title=\"Convert this dataframe to an interactive table.\"\n",
              "              style=\"display:none;\">\n",
              "        \n",
              "  <svg xmlns=\"http://www.w3.org/2000/svg\" height=\"24px\"viewBox=\"0 0 24 24\"\n",
              "       width=\"24px\">\n",
              "    <path d=\"M0 0h24v24H0V0z\" fill=\"none\"/>\n",
              "    <path d=\"M18.56 5.44l.94 2.06.94-2.06 2.06-.94-2.06-.94-.94-2.06-.94 2.06-2.06.94zm-11 1L8.5 8.5l.94-2.06 2.06-.94-2.06-.94L8.5 2.5l-.94 2.06-2.06.94zm10 10l.94 2.06.94-2.06 2.06-.94-2.06-.94-.94-2.06-.94 2.06-2.06.94z\"/><path d=\"M17.41 7.96l-1.37-1.37c-.4-.4-.92-.59-1.43-.59-.52 0-1.04.2-1.43.59L10.3 9.45l-7.72 7.72c-.78.78-.78 2.05 0 2.83L4 21.41c.39.39.9.59 1.41.59.51 0 1.02-.2 1.41-.59l7.78-7.78 2.81-2.81c.8-.78.8-2.07 0-2.86zM5.41 20L4 18.59l7.72-7.72 1.47 1.35L5.41 20z\"/>\n",
              "  </svg>\n",
              "      </button>\n",
              "      \n",
              "  <style>\n",
              "    .colab-df-container {\n",
              "      display:flex;\n",
              "      flex-wrap:wrap;\n",
              "      gap: 12px;\n",
              "    }\n",
              "\n",
              "    .colab-df-convert {\n",
              "      background-color: #E8F0FE;\n",
              "      border: none;\n",
              "      border-radius: 50%;\n",
              "      cursor: pointer;\n",
              "      display: none;\n",
              "      fill: #1967D2;\n",
              "      height: 32px;\n",
              "      padding: 0 0 0 0;\n",
              "      width: 32px;\n",
              "    }\n",
              "\n",
              "    .colab-df-convert:hover {\n",
              "      background-color: #E2EBFA;\n",
              "      box-shadow: 0px 1px 2px rgba(60, 64, 67, 0.3), 0px 1px 3px 1px rgba(60, 64, 67, 0.15);\n",
              "      fill: #174EA6;\n",
              "    }\n",
              "\n",
              "    [theme=dark] .colab-df-convert {\n",
              "      background-color: #3B4455;\n",
              "      fill: #D2E3FC;\n",
              "    }\n",
              "\n",
              "    [theme=dark] .colab-df-convert:hover {\n",
              "      background-color: #434B5C;\n",
              "      box-shadow: 0px 1px 3px 1px rgba(0, 0, 0, 0.15);\n",
              "      filter: drop-shadow(0px 1px 2px rgba(0, 0, 0, 0.3));\n",
              "      fill: #FFFFFF;\n",
              "    }\n",
              "  </style>\n",
              "\n",
              "      <script>\n",
              "        const buttonEl =\n",
              "          document.querySelector('#df-3f68ddcb-8469-4974-8867-1f8e694eb8eb button.colab-df-convert');\n",
              "        buttonEl.style.display =\n",
              "          google.colab.kernel.accessAllowed ? 'block' : 'none';\n",
              "\n",
              "        async function convertToInteractive(key) {\n",
              "          const element = document.querySelector('#df-3f68ddcb-8469-4974-8867-1f8e694eb8eb');\n",
              "          const dataTable =\n",
              "            await google.colab.kernel.invokeFunction('convertToInteractive',\n",
              "                                                     [key], {});\n",
              "          if (!dataTable) return;\n",
              "\n",
              "          const docLinkHtml = 'Like what you see? Visit the ' +\n",
              "            '<a target=\"_blank\" href=https://colab.research.google.com/notebooks/data_table.ipynb>data table notebook</a>'\n",
              "            + ' to learn more about interactive tables.';\n",
              "          element.innerHTML = '';\n",
              "          dataTable['output_type'] = 'display_data';\n",
              "          await google.colab.output.renderOutput(dataTable, element);\n",
              "          const docLink = document.createElement('div');\n",
              "          docLink.innerHTML = docLinkHtml;\n",
              "          element.appendChild(docLink);\n",
              "        }\n",
              "      </script>\n",
              "    </div>\n",
              "  </div>\n",
              "  "
            ]
          },
          "metadata": {},
          "execution_count": 7
        }
      ]
    },
    {
      "cell_type": "code",
      "source": [
        "trad_spam_1 = pd.read_csv('/content/drive/MyDrive/cresci/traditional_spambots_1.csv/traditional_spambots_1.csv/users.csv') \n",
        "trad_spam_2 = pd.read_csv('/content/drive/MyDrive/cresci/traditional_spambots_2.csv/traditional_spambots_2.csv/users.csv') \n",
        "trad_spam_3 = pd.read_csv('/content/drive/MyDrive/cresci/traditional_spambots_3.csv/traditional_spambots_3.csv/users.csv') \n",
        "trad_spam_4 = pd.read_csv('/content/drive/MyDrive/cresci/traditional_spambots_4.csv/traditional_spambots_4.csv/users.csv')  \n",
        "\n",
        "trad_spam_1 = trad_spam_1.fillna('') \n",
        "trad_spam_2 = trad_spam_2.fillna('') \n",
        "trad_spam_3 = trad_spam_3.fillna('') \n",
        "trad_spam_4 = trad_spam_4.fillna('') "
      ],
      "metadata": {
        "id": "RudH4ptlSNl8"
      },
      "execution_count": 8,
      "outputs": []
    },
    {
      "cell_type": "code",
      "source": [
        "social_spam_1 = pd.read_csv('/content/drive/MyDrive/cresci/social_spambots_1.csv/social_spambots_1.csv/users.csv') \n",
        "social_spam_1 = social_spam_1.fillna('')  \n",
        "\n",
        "social_spam_2 = pd.read_csv('/content/drive/MyDrive/cresci/social_spambots_2.csv/social_spambots_2.csv/users.csv') \n",
        "social_spam_2 = social_spam_2.fillna('')   \n",
        "\n",
        "social_spam_3 = pd.read_csv('/content/drive/MyDrive/cresci/social_spambots_3.csv/social_spambots_3.csv/users.csv') \n",
        "social_spam_3 = social_spam_3.fillna('') "
      ],
      "metadata": {
        "id": "BWnL8T14SoBO"
      },
      "execution_count": 9,
      "outputs": []
    },
    {
      "cell_type": "code",
      "source": [
        "real['knownbot'] = 0 \n",
        "df['knownbot'] = 1 \n",
        "fake_followers['knownbot'] = 1 \n",
        "trad_spam_1['knownbot'] = 1 \n",
        "trad_spam_2['knownbot'] = 1 \n",
        "trad_spam_3['knownbot'] = 1 \n",
        "trad_spam_4['knownbot'] = 1 \n",
        "social_spam_1['knownbot'] = 1 \n",
        "social_spam_2['knownbot'] = 1 \n",
        "social_spam_3['knownbot'] = 1 "
      ],
      "metadata": {
        "id": "JuxHdvzXTDry"
      },
      "execution_count": 10,
      "outputs": []
    },
    {
      "cell_type": "code",
      "source": [
        "len(real['default_profile']) "
      ],
      "metadata": {
        "colab": {
          "base_uri": "https://localhost:8080/"
        },
        "id": "eNQfKLYCTR73",
        "outputId": "a3424aca-6b26-4552-c506-21d36b6df9d4"
      },
      "execution_count": 11,
      "outputs": [
        {
          "output_type": "execute_result",
          "data": {
            "text/plain": [
              "3474"
            ]
          },
          "metadata": {},
          "execution_count": 11
        }
      ]
    },
    {
      "cell_type": "markdown",
      "source": [
        "# Number of Twitter Accounts Per Dataset"
      ],
      "metadata": {
        "id": "KXyX4QhOT9Zi"
      }
    },
    {
      "cell_type": "code",
      "source": [
        "ss1 = len(social_spam_1) \n",
        "ss2 = len(social_spam_2) \n",
        "ss3 = len(social_spam_3) \n",
        "ts1 = len(trad_spam_1) \n",
        "ts2 = len(trad_spam_2) \n",
        "ts3 = len(trad_spam_3) \n",
        "r1 = len(real) \n",
        "f1 = len(fake_followers)"
      ],
      "metadata": {
        "id": "CmXIfasOTWxw"
      },
      "execution_count": 12,
      "outputs": []
    },
    {
      "cell_type": "markdown",
      "source": [
        " # Average number of followers "
      ],
      "metadata": {
        "id": "yWraKMuVUA67"
      }
    },
    {
      "cell_type": "code",
      "source": [
        "ss1 = social_spam_1['followers_count'].mean() \n",
        "ss2 = social_spam_2['followers_count'].mean() \n",
        "ss3 = social_spam_3['followers_count'].mean() \n",
        "ts1 = trad_spam_1['followers_count'].mean() \n",
        "ts2 = trad_spam_2['followers_count'].mean() \n",
        "ts3 = trad_spam_3['followers_count'].mean() \n",
        "r1 = real['followers_count'].mean() \n",
        "f1 = fake_followers['followers_count'].mean()"
      ],
      "metadata": {
        "id": "B7w42LnhTgy6"
      },
      "execution_count": 13,
      "outputs": []
    },
    {
      "cell_type": "code",
      "source": [
        "sets = [ss1,ss2,ss3,ts1,ts2,ts3,r1,f1] \n",
        "xlabel = ('Social 1', 'Social 2', 'Social 3', 'Traditional 1', 'Traditional 2', 'Traditional 3', 'Real Accounts', 'Fake Followers') \n",
        "ypos = np.arange(len(sets)) \n",
        "amount = [ss1,ss2,ss3,ts1,ts2,ts3,r1,f1]  \n",
        "plt.bar(xlabel, sets, align='center', alpha=0.5) \n",
        "plt.xticks(ypos,xlabel,rotation=30)\n",
        "plt.ylabel('Average Number of Followers') \n",
        "plt.title('Average Number of Followers Per Account Per Dataset') "
      ],
      "metadata": {
        "colab": {
          "base_uri": "https://localhost:8080/",
          "height": 518
        },
        "id": "9pN24GzsV0AV",
        "outputId": "cf882ede-dca5-46fb-f873-7f839f21fc48"
      },
      "execution_count": 14,
      "outputs": [
        {
          "output_type": "execute_result",
          "data": {
            "text/plain": [
              "Text(0.5, 1.0, 'Average Number of Followers Per Account Per Dataset')"
            ]
          },
          "metadata": {},
          "execution_count": 14
        },
        {
          "output_type": "display_data",
          "data": {
            "text/plain": [
              "<Figure size 640x480 with 1 Axes>"
            ],
            "image/png": "[encoded data removed]"
          },
          "metadata": {}
        }
      ]
    },
    {
      "cell_type": "markdown",
      "source": [
        "# Average number of friends"
      ],
      "metadata": {
        "id": "iHNRtMCRUGRS"
      }
    },
    {
      "cell_type": "code",
      "source": [
        "ss1 = social_spam_1['friends_count'].mean() \n",
        "ss2 = social_spam_2['friends_count'].mean() \n",
        "ss3 = social_spam_3['friends_count'].mean() \n",
        "ts1 = trad_spam_1['friends_count'].mean() \n",
        "ts2 = trad_spam_2['friends_count'].mean() \n",
        "ts3 = trad_spam_3['friends_count'].mean() \n",
        "r1 = real['friends_count'].mean() \n",
        "f1 = fake_followers['friends_count'].mean() "
      ],
      "metadata": {
        "id": "U1JCiwmzTrp0"
      },
      "execution_count": 15,
      "outputs": []
    },
    {
      "cell_type": "code",
      "source": [
        "sets = [ss1,ss2,ss3,ts1,ts2,ts3,r1,f1] \n",
        "xlabel = ('Social 1', 'Social 2', 'Social 3', 'Traditional 1', 'Traditional 2', 'Traditional 3', 'Real Accounts', 'Fake Followers') \n",
        "ypos = np.arange(len(sets)) \n",
        "amount = [ss1,ss2,ss3,ts1,ts2,ts3,r1,f1]  \n",
        "plt.bar(xlabel, sets, align='center', alpha=0.5) \n",
        "plt.xticks(ypos,xlabel,rotation=30)\n",
        "plt.ylabel('Average Number of Friends') \n",
        "plt.title('Average Number of Friends Per Account Per Dataset') "
      ],
      "metadata": {
        "colab": {
          "base_uri": "https://localhost:8080/",
          "height": 518
        },
        "id": "Q_m6pBvkV2aT",
        "outputId": "609c5e7c-1e5b-4533-b081-742e5361767a"
      },
      "execution_count": 16,
      "outputs": [
        {
          "output_type": "execute_result",
          "data": {
            "text/plain": [
              "Text(0.5, 1.0, 'Average Number of Friends Per Account Per Dataset')"
            ]
          },
          "metadata": {},
          "execution_count": 16
        },
        {
          "output_type": "display_data",
          "data": {
            "text/plain": [
              "<Figure size 640x480 with 1 Axes>"
            ],
            "image/png": "[encoded data removed]"
          },
          "metadata": {}
        }
      ]
    },
    {
      "cell_type": "markdown",
      "source": [
        " # Average number of Tweets"
      ],
      "metadata": {
        "id": "20n82iaGUWl7"
      }
    },
    {
      "cell_type": "code",
      "source": [
        " ss1 = social_spam_1['statuses_count'].mean() \n",
        " ss2 = social_spam_2['statuses_count'].mean() \n",
        " ss3 = social_spam_3['statuses_count'].mean() \n",
        " ts1 = trad_spam_1['statuses_count'].mean() \n",
        " ts2 = trad_spam_2['statuses_count'].mean() \n",
        " ts3 = trad_spam_3['statuses_count'].mean() \n",
        " r1 = real['statuses_count'].mean() \n",
        " f1 = fake_followers['statuses_count'].mean() "
      ],
      "metadata": {
        "id": "gNxQ97VDUOjM"
      },
      "execution_count": 17,
      "outputs": []
    },
    {
      "cell_type": "code",
      "source": [
        "sets = [ss1,ss2,ss3,ts1,ts2,ts3,r1,f1] \n",
        "xlabel = ('Social 1', 'Social 2', 'Social 3', 'Traditional 1', 'Traditional 2', 'Traditional 3', 'Real Accounts', 'Fake Followers') \n",
        "ypos = np.arange(len(sets)) \n",
        "amount = [ss1,ss2,ss3,ts1,ts2,ts3,r1,f1]  \n",
        "plt.bar(xlabel, sets, align='center', alpha=0.5) \n",
        "plt.xticks(ypos,xlabel,rotation=30)\n",
        "plt.ylabel('Average Number of Tweets') \n",
        "plt.title('Average Number of Tweets Per Account Per Dataset') "
      ],
      "metadata": {
        "colab": {
          "base_uri": "https://localhost:8080/",
          "height": 518
        },
        "id": "tef1DMFSV7aD",
        "outputId": "afdb5190-f639-4090-aa2b-0e4f68556fee"
      },
      "execution_count": 18,
      "outputs": [
        {
          "output_type": "execute_result",
          "data": {
            "text/plain": [
              "Text(0.5, 1.0, 'Average Number of Tweets Per Account Per Dataset')"
            ]
          },
          "metadata": {},
          "execution_count": 18
        },
        {
          "output_type": "display_data",
          "data": {
            "text/plain": [
              "<Figure size 640x480 with 1 Axes>"
            ],
            "image/png": "[encoded data removed]"
          },
          "metadata": {}
        }
      ]
    },
    {
      "cell_type": "markdown",
      "source": [
        "# Average number of Favorites Per Dataset"
      ],
      "metadata": {
        "id": "2arPoxvuUvAS"
      }
    },
    {
      "cell_type": "code",
      "source": [
        "ss1 = social_spam_1['favourites_count'].mean() \n",
        "ss2 = social_spam_2['favourites_count'].mean() \n",
        "ss3 = social_spam_3['favourites_count'].mean() \n",
        "ts1 = trad_spam_1['favourites_count'].mean() \n",
        "ts2 = trad_spam_2['favourites_count'].mean() \n",
        "ts3 = trad_spam_3['favourites_count'].mean() \n",
        "r1 = real['favourites_count'].mean() \n",
        "f1 = fake_followers['favourites_count'].mean() "
      ],
      "metadata": {
        "id": "CQvflVkWUaEc"
      },
      "execution_count": 19,
      "outputs": []
    },
    {
      "cell_type": "code",
      "source": [
        "sets = [ss1,ss2,ss3,ts1,ts2,ts3,r1,f1] \n",
        "xlabel = ('Social 1', 'Social 2', 'Social 3', 'Traditional 1', 'Traditional 2', 'Traditional 3', 'Real Accounts', 'Fake Followers') \n",
        "ypos = np.arange(len(sets)) \n",
        "amount = [ss1,ss2,ss3,ts1,ts2,ts3,r1,f1]  \n",
        "plt.bar(xlabel, sets, align='center', alpha=0.5) \n",
        "plt.xticks(ypos,xlabel,rotation=30)\n",
        "plt.ylabel('Average Number of Favorites') \n",
        "plt.title('Average Number of Favorites Per Account Per Dataset') "
      ],
      "metadata": {
        "colab": {
          "base_uri": "https://localhost:8080/",
          "height": 518
        },
        "id": "q5xRCw5ZU925",
        "outputId": "3ef31c05-11ea-4360-ae3e-d2d78a42402c"
      },
      "execution_count": 20,
      "outputs": [
        {
          "output_type": "execute_result",
          "data": {
            "text/plain": [
              "Text(0.5, 1.0, 'Average Number of Favorites Per Account Per Dataset')"
            ]
          },
          "metadata": {},
          "execution_count": 20
        },
        {
          "output_type": "display_data",
          "data": {
            "text/plain": [
              "<Figure size 640x480 with 1 Axes>"
            ],
            "image/png": "[encoded data removed]"
          },
          "metadata": {}
        }
      ]
    },
    {
      "cell_type": "code",
      "source": [
        "all_trad_spam = pd.concat([trad_spam_1,trad_spam_2,trad_spam_3])  \n",
        "all_social_spambots = pd.concat([social_spam_1,social_spam_2,social_spam_3])  \n",
        "all_bots = pd.concat([all_trad_spam,all_social_spambots,fake_followers]) "
      ],
      "metadata": {
        "id": "_Rr4Z9BwWKho"
      },
      "execution_count": 21,
      "outputs": []
    },
    {
      "cell_type": "code",
      "source": [
        "df = pd.concat([df,real]) "
      ],
      "metadata": {
        "id": "aZ13WQKsWPoh"
      },
      "execution_count": 22,
      "outputs": []
    },
    {
      "cell_type": "code",
      "source": [
        "df = pd.concat([real, all_bots]) "
      ],
      "metadata": {
        "id": "4NMNnhrcWU1h"
      },
      "execution_count": 23,
      "outputs": []
    },
    {
      "cell_type": "code",
      "source": [
        "df['knownbot'].info\n"
      ],
      "metadata": {
        "colab": {
          "base_uri": "https://localhost:8080/"
        },
        "id": "wvy2Ar2PzuU4",
        "outputId": "af191b86-0bc0-43d8-deec-8919d650aea4"
      },
      "execution_count": 182,
      "outputs": [
        {
          "output_type": "execute_result",
          "data": {
            "text/plain": [
              "<bound method Series.info of 0       0\n",
              "1       0\n",
              "2       0\n",
              "3       0\n",
              "4       0\n",
              "       ..\n",
              "3346    1\n",
              "3347    1\n",
              "3348    1\n",
              "3349    1\n",
              "3350    1\n",
              "Name: knownbot, Length: 13240, dtype: int64>"
            ]
          },
          "metadata": {},
          "execution_count": 182
        }
      ]
    },
    {
      "cell_type": "code",
      "source": [
        "len(df['default_profile']) \n",
        "df.head() "
      ],
      "metadata": {
        "colab": {
          "base_uri": "https://localhost:8080/",
          "height": 577
        },
        "id": "FnjqkMq8WWxh",
        "outputId": "15408886-57b2-423f-dcf7-4611b8131aa4"
      },
      "execution_count": 24,
      "outputs": [
        {
          "output_type": "execute_result",
          "data": {
            "text/plain": [
              "           id               name      screen_name  statuses_count  \\\n",
              "0  1502026416    TASUKU HAYAKAWA         0918Bask            2177   \n",
              "1  2492782375              ro_or         1120Roll            2660   \n",
              "2   293212315           bearclaw        14KBBrown            1254   \n",
              "3   191839658  pocahontas farida      wadespeters          202968   \n",
              "4  3020965143           Ms Kathy  191a5bd05da04dc              82   \n",
              "\n",
              "   followers_count  friends_count  favourites_count  listed_count  \\\n",
              "0              208            332               265             1   \n",
              "1              330            485              3972             5   \n",
              "2              166            177              1185             0   \n",
              "3             2248            981             60304           101   \n",
              "4               21             79                 5             0   \n",
              "\n",
              "                      url lang  ...  \\\n",
              "0                           ja  ...   \n",
              "1                           ja  ...   \n",
              "2                           en  ...   \n",
              "3  http://t.co/rGV0HIJGsu   en  ...   \n",
              "4                           en  ...   \n",
              "\n",
              "                                         description contributors_enabled  \\\n",
              "0                              15years ago X.Lines24                        \n",
              "1   保守見習い地元大好き人間。 経済学、電工、仏教を勉強中、ちなDeではいかんのか？ (*^◯^*)                        \n",
              "2                 Let me see what your best move is!                        \n",
              "3  20. menna: #farida #nyc and the 80s actually y...                        \n",
              "4                                      Cosmetologist                        \n",
              "\n",
              "  following                      created_at            timestamp  \\\n",
              "0            Tue Jun 11 11:20:35 +0000 2013  2013-06-11 13:20:35   \n",
              "1            Tue May 13 10:37:57 +0000 2014  2014-05-13 12:37:57   \n",
              "2            Wed May 04 23:30:37 +0000 2011  2011-05-05 01:30:37   \n",
              "3            Fri Sep 17 14:02:10 +0000 2010  2010-09-17 16:02:10   \n",
              "4            Fri Feb 06 04:10:49 +0000 2015  2015-02-06 05:10:49   \n",
              "\n",
              "            crawled_at              updated test_set_1 test_set_2 knownbot  \n",
              "0  2015-05-02 06:41:46  2016-03-15 15:53:47        0.0        0.0        0  \n",
              "1  2015-05-01 17:20:27  2016-03-15 15:53:48        0.0        0.0        0  \n",
              "2  2015-05-01 18:48:28  2016-03-15 15:53:48        0.0        0.0        0  \n",
              "3  2015-05-01 13:55:16  2016-03-15 15:53:48        0.0        0.0        0  \n",
              "4  2015-05-02 01:17:32  2016-03-15 15:53:48        0.0        0.0        0  \n",
              "\n",
              "[5 rows x 43 columns]"
            ],
            "text/html": [
              "\n",
              "  <div id=\"df-43e3f41c-47fd-4f97-b30a-ae8395693af9\">\n",
              "    <div class=\"colab-df-container\">\n",
              "      <div>\n",
              "<style scoped>\n",
              "    .dataframe tbody tr th:only-of-type {\n",
              "        vertical-align: middle;\n",
              "    }\n",
              "\n",
              "    .dataframe tbody tr th {\n",
              "        vertical-align: top;\n",
              "    }\n",
              "\n",
              "    .dataframe thead th {\n",
              "        text-align: right;\n",
              "    }\n",
              "</style>\n",
              "<table border=\"1\" class=\"dataframe\">\n",
              "  <thead>\n",
              "    <tr style=\"text-align: right;\">\n",
              "      <th></th>\n",
              "      <th>id</th>\n",
              "      <th>name</th>\n",
              "      <th>screen_name</th>\n",
              "      <th>statuses_count</th>\n",
              "      <th>followers_count</th>\n",
              "      <th>friends_count</th>\n",
              "      <th>favourites_count</th>\n",
              "      <th>listed_count</th>\n",
              "      <th>url</th>\n",
              "      <th>lang</th>\n",
              "      <th>...</th>\n",
              "      <th>description</th>\n",
              "      <th>contributors_enabled</th>\n",
              "      <th>following</th>\n",
              "      <th>created_at</th>\n",
              "      <th>timestamp</th>\n",
              "      <th>crawled_at</th>\n",
              "      <th>updated</th>\n",
              "      <th>test_set_1</th>\n",
              "      <th>test_set_2</th>\n",
              "      <th>knownbot</th>\n",
              "    </tr>\n",
              "  </thead>\n",
              "  <tbody>\n",
              "    <tr>\n",
              "      <th>0</th>\n",
              "      <td>1502026416</td>\n",
              "      <td>TASUKU HAYAKAWA</td>\n",
              "      <td>0918Bask</td>\n",
              "      <td>2177</td>\n",
              "      <td>208</td>\n",
              "      <td>332</td>\n",
              "      <td>265</td>\n",
              "      <td>1</td>\n",
              "      <td></td>\n",
              "      <td>ja</td>\n",
              "      <td>...</td>\n",
              "      <td>15years ago X.Lines24</td>\n",
              "      <td></td>\n",
              "      <td></td>\n",
              "      <td>Tue Jun 11 11:20:35 +0000 2013</td>\n",
              "      <td>2013-06-11 13:20:35</td>\n",
              "      <td>2015-05-02 06:41:46</td>\n",
              "      <td>2016-03-15 15:53:47</td>\n",
              "      <td>0.0</td>\n",
              "      <td>0.0</td>\n",
              "      <td>0</td>\n",
              "    </tr>\n",
              "    <tr>\n",
              "      <th>1</th>\n",
              "      <td>2492782375</td>\n",
              "      <td>ro_or</td>\n",
              "      <td>1120Roll</td>\n",
              "      <td>2660</td>\n",
              "      <td>330</td>\n",
              "      <td>485</td>\n",
              "      <td>3972</td>\n",
              "      <td>5</td>\n",
              "      <td></td>\n",
              "      <td>ja</td>\n",
              "      <td>...</td>\n",
              "      <td>保守見習い地元大好き人間。 経済学、電工、仏教を勉強中、ちなDeではいかんのか？ (*^◯^*)</td>\n",
              "      <td></td>\n",
              "      <td></td>\n",
              "      <td>Tue May 13 10:37:57 +0000 2014</td>\n",
              "      <td>2014-05-13 12:37:57</td>\n",
              "      <td>2015-05-01 17:20:27</td>\n",
              "      <td>2016-03-15 15:53:48</td>\n",
              "      <td>0.0</td>\n",
              "      <td>0.0</td>\n",
              "      <td>0</td>\n",
              "    </tr>\n",
              "    <tr>\n",
              "      <th>2</th>\n",
              "      <td>293212315</td>\n",
              "      <td>bearclaw</td>\n",
              "      <td>14KBBrown</td>\n",
              "      <td>1254</td>\n",
              "      <td>166</td>\n",
              "      <td>177</td>\n",
              "      <td>1185</td>\n",
              "      <td>0</td>\n",
              "      <td></td>\n",
              "      <td>en</td>\n",
              "      <td>...</td>\n",
              "      <td>Let me see what your best move is!</td>\n",
              "      <td></td>\n",
              "      <td></td>\n",
              "      <td>Wed May 04 23:30:37 +0000 2011</td>\n",
              "      <td>2011-05-05 01:30:37</td>\n",
              "      <td>2015-05-01 18:48:28</td>\n",
              "      <td>2016-03-15 15:53:48</td>\n",
              "      <td>0.0</td>\n",
              "      <td>0.0</td>\n",
              "      <td>0</td>\n",
              "    </tr>\n",
              "    <tr>\n",
              "      <th>3</th>\n",
              "      <td>191839658</td>\n",
              "      <td>pocahontas farida</td>\n",
              "      <td>wadespeters</td>\n",
              "      <td>202968</td>\n",
              "      <td>2248</td>\n",
              "      <td>981</td>\n",
              "      <td>60304</td>\n",
              "      <td>101</td>\n",
              "      <td>http://t.co/rGV0HIJGsu</td>\n",
              "      <td>en</td>\n",
              "      <td>...</td>\n",
              "      <td>20. menna: #farida #nyc and the 80s actually y...</td>\n",
              "      <td></td>\n",
              "      <td></td>\n",
              "      <td>Fri Sep 17 14:02:10 +0000 2010</td>\n",
              "      <td>2010-09-17 16:02:10</td>\n",
              "      <td>2015-05-01 13:55:16</td>\n",
              "      <td>2016-03-15 15:53:48</td>\n",
              "      <td>0.0</td>\n",
              "      <td>0.0</td>\n",
              "      <td>0</td>\n",
              "    </tr>\n",
              "    <tr>\n",
              "      <th>4</th>\n",
              "      <td>3020965143</td>\n",
              "      <td>Ms Kathy</td>\n",
              "      <td>191a5bd05da04dc</td>\n",
              "      <td>82</td>\n",
              "      <td>21</td>\n",
              "      <td>79</td>\n",
              "      <td>5</td>\n",
              "      <td>0</td>\n",
              "      <td></td>\n",
              "      <td>en</td>\n",
              "      <td>...</td>\n",
              "      <td>Cosmetologist</td>\n",
              "      <td></td>\n",
              "      <td></td>\n",
              "      <td>Fri Feb 06 04:10:49 +0000 2015</td>\n",
              "      <td>2015-02-06 05:10:49</td>\n",
              "      <td>2015-05-02 01:17:32</td>\n",
              "      <td>2016-03-15 15:53:48</td>\n",
              "      <td>0.0</td>\n",
              "      <td>0.0</td>\n",
              "      <td>0</td>\n",
              "    </tr>\n",
              "  </tbody>\n",
              "</table>\n",
              "<p>5 rows × 43 columns</p>\n",
              "</div>\n",
              "      <button class=\"colab-df-convert\" onclick=\"convertToInteractive('df-43e3f41c-47fd-4f97-b30a-ae8395693af9')\"\n",
              "              title=\"Convert this dataframe to an interactive table.\"\n",
              "              style=\"display:none;\">\n",
              "        \n",
              "  <svg xmlns=\"http://www.w3.org/2000/svg\" height=\"24px\"viewBox=\"0 0 24 24\"\n",
              "       width=\"24px\">\n",
              "    <path d=\"M0 0h24v24H0V0z\" fill=\"none\"/>\n",
              "    <path d=\"M18.56 5.44l.94 2.06.94-2.06 2.06-.94-2.06-.94-.94-2.06-.94 2.06-2.06.94zm-11 1L8.5 8.5l.94-2.06 2.06-.94-2.06-.94L8.5 2.5l-.94 2.06-2.06.94zm10 10l.94 2.06.94-2.06 2.06-.94-2.06-.94-.94-2.06-.94 2.06-2.06.94z\"/><path d=\"M17.41 7.96l-1.37-1.37c-.4-.4-.92-.59-1.43-.59-.52 0-1.04.2-1.43.59L10.3 9.45l-7.72 7.72c-.78.78-.78 2.05 0 2.83L4 21.41c.39.39.9.59 1.41.59.51 0 1.02-.2 1.41-.59l7.78-7.78 2.81-2.81c.8-.78.8-2.07 0-2.86zM5.41 20L4 18.59l7.72-7.72 1.47 1.35L5.41 20z\"/>\n",
              "  </svg>\n",
              "      </button>\n",
              "      \n",
              "  <style>\n",
              "    .colab-df-container {\n",
              "      display:flex;\n",
              "      flex-wrap:wrap;\n",
              "      gap: 12px;\n",
              "    }\n",
              "\n",
              "    .colab-df-convert {\n",
              "      background-color: #E8F0FE;\n",
              "      border: none;\n",
              "      border-radius: 50%;\n",
              "      cursor: pointer;\n",
              "      display: none;\n",
              "      fill: #1967D2;\n",
              "      height: 32px;\n",
              "      padding: 0 0 0 0;\n",
              "      width: 32px;\n",
              "    }\n",
              "\n",
              "    .colab-df-convert:hover {\n",
              "      background-color: #E2EBFA;\n",
              "      box-shadow: 0px 1px 2px rgba(60, 64, 67, 0.3), 0px 1px 3px 1px rgba(60, 64, 67, 0.15);\n",
              "      fill: #174EA6;\n",
              "    }\n",
              "\n",
              "    [theme=dark] .colab-df-convert {\n",
              "      background-color: #3B4455;\n",
              "      fill: #D2E3FC;\n",
              "    }\n",
              "\n",
              "    [theme=dark] .colab-df-convert:hover {\n",
              "      background-color: #434B5C;\n",
              "      box-shadow: 0px 1px 3px 1px rgba(0, 0, 0, 0.15);\n",
              "      filter: drop-shadow(0px 1px 2px rgba(0, 0, 0, 0.3));\n",
              "      fill: #FFFFFF;\n",
              "    }\n",
              "  </style>\n",
              "\n",
              "      <script>\n",
              "        const buttonEl =\n",
              "          document.querySelector('#df-43e3f41c-47fd-4f97-b30a-ae8395693af9 button.colab-df-convert');\n",
              "        buttonEl.style.display =\n",
              "          google.colab.kernel.accessAllowed ? 'block' : 'none';\n",
              "\n",
              "        async function convertToInteractive(key) {\n",
              "          const element = document.querySelector('#df-43e3f41c-47fd-4f97-b30a-ae8395693af9');\n",
              "          const dataTable =\n",
              "            await google.colab.kernel.invokeFunction('convertToInteractive',\n",
              "                                                     [key], {});\n",
              "          if (!dataTable) return;\n",
              "\n",
              "          const docLinkHtml = 'Like what you see? Visit the ' +\n",
              "            '<a target=\"_blank\" href=https://colab.research.google.com/notebooks/data_table.ipynb>data table notebook</a>'\n",
              "            + ' to learn more about interactive tables.';\n",
              "          element.innerHTML = '';\n",
              "          dataTable['output_type'] = 'display_data';\n",
              "          await google.colab.output.renderOutput(dataTable, element);\n",
              "          const docLink = document.createElement('div');\n",
              "          docLink.innerHTML = docLinkHtml;\n",
              "          element.appendChild(docLink);\n",
              "        }\n",
              "      </script>\n",
              "    </div>\n",
              "  </div>\n",
              "  "
            ]
          },
          "metadata": {},
          "execution_count": 24
        }
      ]
    },
    {
      "cell_type": "markdown",
      "source": [
        "If language is english"
      ],
      "metadata": {
        "id": "R_Lut4bnasgz"
      }
    },
    {
      "cell_type": "code",
      "source": [
        "def scoring (row): \n",
        "  if row['lang'] == 'en':       \n",
        "    return 1    \n",
        "  else:       \n",
        "    return 0 "
      ],
      "metadata": {
        "id": "O6ivqHG7XGAL"
      },
      "execution_count": 26,
      "outputs": []
    },
    {
      "cell_type": "code",
      "source": [
        "df.apply (lambda row: scoring (row),axis=1)  "
      ],
      "metadata": {
        "colab": {
          "base_uri": "https://localhost:8080/"
        },
        "id": "2riG6p4jXOgu",
        "outputId": "fb2c5037-7e60-4122-f12a-55e7deaf5a09"
      },
      "execution_count": 27,
      "outputs": [
        {
          "output_type": "execute_result",
          "data": {
            "text/plain": [
              "0       0\n",
              "1       0\n",
              "2       1\n",
              "3       1\n",
              "4       1\n",
              "       ..\n",
              "3346    1\n",
              "3347    1\n",
              "3348    1\n",
              "3349    1\n",
              "3350    1\n",
              "Length: 13240, dtype: int64"
            ]
          },
          "metadata": {},
          "execution_count": 27
        }
      ]
    },
    {
      "cell_type": "code",
      "source": [
        "df['score'] = df.apply (lambda row: scoring (row),axis=1)  "
      ],
      "metadata": {
        "id": "VhgwfJT6XZTV"
      },
      "execution_count": 28,
      "outputs": []
    },
    {
      "cell_type": "code",
      "source": [
        "df['score'].isnull().values.sum() "
      ],
      "metadata": {
        "colab": {
          "base_uri": "https://localhost:8080/"
        },
        "id": "xSB87RpAXhpE",
        "outputId": "3b6753f5-6def-43e8-b5c7-f1e567af7aae"
      },
      "execution_count": 29,
      "outputs": [
        {
          "output_type": "execute_result",
          "data": {
            "text/plain": [
              "0"
            ]
          },
          "metadata": {},
          "execution_count": 29
        }
      ]
    },
    {
      "cell_type": "markdown",
      "source": [
        "#Creating a new dataframe Score"
      ],
      "metadata": {
        "id": "-NK6QVEWl4WW"
      }
    },
    {
      "cell_type": "code",
      "source": [
        "score = pd.DataFrame() \n",
        "score['id'] = df['id'] "
      ],
      "metadata": {
        "id": "M9AJoT1QXjLf"
      },
      "execution_count": 30,
      "outputs": []
    },
    {
      "cell_type": "code",
      "source": [
        "score['lang-en'] = df.apply (lambda row: scoring (row),axis=1) "
      ],
      "metadata": {
        "id": "_4U3CynhXmd7"
      },
      "execution_count": 31,
      "outputs": []
    },
    {
      "cell_type": "code",
      "source": [
        "score['id']"
      ],
      "metadata": {
        "colab": {
          "base_uri": "https://localhost:8080/"
        },
        "id": "Uey5dhgJXo6c",
        "outputId": "925eeb22-1cdb-4491-c177-2eaeb810fb74"
      },
      "execution_count": 76,
      "outputs": [
        {
          "output_type": "execute_result",
          "data": {
            "text/plain": [
              "0       1502026416\n",
              "1       2492782375\n",
              "2        293212315\n",
              "3        191839658\n",
              "4       3020965143\n",
              "           ...    \n",
              "3346    1391497074\n",
              "3347    1391544607\n",
              "3348    1391622127\n",
              "3349    1391832212\n",
              "3350    1391998039\n",
              "Name: id, Length: 13240, dtype: int64"
            ]
          },
          "metadata": {},
          "execution_count": 76
        }
      ]
    },
    {
      "cell_type": "markdown",
      "source": [
        "If there a profile image or not"
      ],
      "metadata": {
        "id": "I4EONUHBav7j"
      }
    },
    {
      "cell_type": "code",
      "source": [
        "def scoring (row):    \n",
        "  if row['profile_image_url'] == '':       \n",
        "    return 1    \n",
        "  else:       \n",
        "    return 0 "
      ],
      "metadata": {
        "id": "DvkFwS_gXrDq"
      },
      "execution_count": 32,
      "outputs": []
    },
    {
      "cell_type": "code",
      "source": [
        "df.apply (lambda row: scoring (row),axis=1)"
      ],
      "metadata": {
        "colab": {
          "base_uri": "https://localhost:8080/"
        },
        "id": "NeE1dLeFXyr-",
        "outputId": "54da7149-9150-442d-a6ce-3ae3ea571891"
      },
      "execution_count": 33,
      "outputs": [
        {
          "output_type": "execute_result",
          "data": {
            "text/plain": [
              "0       0\n",
              "1       0\n",
              "2       0\n",
              "3       0\n",
              "4       0\n",
              "       ..\n",
              "3346    0\n",
              "3347    0\n",
              "3348    0\n",
              "3349    0\n",
              "3350    0\n",
              "Length: 13240, dtype: int64"
            ]
          },
          "metadata": {},
          "execution_count": 33
        }
      ]
    },
    {
      "cell_type": "code",
      "source": [
        "df['score'] = df.apply (lambda row: scoring (row),axis=1) "
      ],
      "metadata": {
        "id": "HNv83nYnX3ww"
      },
      "execution_count": 34,
      "outputs": []
    },
    {
      "cell_type": "code",
      "source": [
        "df['score'].isnull().values.sum()"
      ],
      "metadata": {
        "colab": {
          "base_uri": "https://localhost:8080/"
        },
        "id": "kaKQaXdOYIMC",
        "outputId": "7e6aa02c-7050-4e5d-c31d-0492fadf470c"
      },
      "execution_count": 35,
      "outputs": [
        {
          "output_type": "execute_result",
          "data": {
            "text/plain": [
              "0"
            ]
          },
          "metadata": {},
          "execution_count": 35
        }
      ]
    },
    {
      "cell_type": "code",
      "source": [
        "score['profile_pic'] = df.apply (lambda row: scoring (row),axis=1)"
      ],
      "metadata": {
        "id": "k08TgjexYLsF"
      },
      "execution_count": 36,
      "outputs": []
    },
    {
      "cell_type": "code",
      "source": [
        "score['profile_pic'].tail() "
      ],
      "metadata": {
        "colab": {
          "base_uri": "https://localhost:8080/"
        },
        "id": "RyljEqX4YPbX",
        "outputId": "0df6d008-cf01-4c6f-9282-6391d6268160"
      },
      "execution_count": 37,
      "outputs": [
        {
          "output_type": "execute_result",
          "data": {
            "text/plain": [
              "3346    0\n",
              "3347    0\n",
              "3348    0\n",
              "3349    0\n",
              "3350    0\n",
              "Name: profile_pic, dtype: int64"
            ]
          },
          "metadata": {},
          "execution_count": 37
        }
      ]
    },
    {
      "cell_type": "markdown",
      "source": [
        "If there is no user name"
      ],
      "metadata": {
        "id": "0wYIcKBjazzj"
      }
    },
    {
      "cell_type": "code",
      "source": [
        "def scoring (row):    \n",
        "  if row['name'] == '':       \n",
        "    return 1    \n",
        "  else:       \n",
        "    return 0 "
      ],
      "metadata": {
        "id": "Jk9BmBeKZqCO"
      },
      "execution_count": 38,
      "outputs": []
    },
    {
      "cell_type": "code",
      "source": [
        "df.apply (lambda row: scoring (row),axis=1)  "
      ],
      "metadata": {
        "colab": {
          "base_uri": "https://localhost:8080/"
        },
        "id": "yrvsQwTyZ_F4",
        "outputId": "fca9236b-8fa5-4210-f591-c24d064e7253"
      },
      "execution_count": 39,
      "outputs": [
        {
          "output_type": "execute_result",
          "data": {
            "text/plain": [
              "0       0\n",
              "1       0\n",
              "2       0\n",
              "3       0\n",
              "4       0\n",
              "       ..\n",
              "3346    0\n",
              "3347    0\n",
              "3348    0\n",
              "3349    0\n",
              "3350    0\n",
              "Length: 13240, dtype: int64"
            ]
          },
          "metadata": {},
          "execution_count": 39
        }
      ]
    },
    {
      "cell_type": "code",
      "source": [
        "df['score'] = df.apply (lambda row: scoring (row),axis=1)"
      ],
      "metadata": {
        "id": "TLoF5z0eaDh-"
      },
      "execution_count": 40,
      "outputs": []
    },
    {
      "cell_type": "code",
      "source": [
        "df['score'].isnull().values.sum()"
      ],
      "metadata": {
        "colab": {
          "base_uri": "https://localhost:8080/"
        },
        "id": "Z3RDCbBvaZsz",
        "outputId": "93afdcf1-cc8c-4ff4-e1da-73eaf065c708"
      },
      "execution_count": 41,
      "outputs": [
        {
          "output_type": "execute_result",
          "data": {
            "text/plain": [
              "0"
            ]
          },
          "metadata": {},
          "execution_count": 41
        }
      ]
    },
    {
      "cell_type": "code",
      "source": [
        "score['has_screen_name'] = df.apply (lambda row: scoring (row),axis=1) "
      ],
      "metadata": {
        "id": "Gomlfc9Kada4"
      },
      "execution_count": 42,
      "outputs": []
    },
    {
      "cell_type": "code",
      "source": [
        "score['has_screen_name'].head()"
      ],
      "metadata": {
        "colab": {
          "base_uri": "https://localhost:8080/"
        },
        "id": "nwIbdPN4algX",
        "outputId": "1240bc64-b222-4109-deb0-7eacf4df0676"
      },
      "execution_count": 43,
      "outputs": [
        {
          "output_type": "execute_result",
          "data": {
            "text/plain": [
              "0    0\n",
              "1    0\n",
              "2    0\n",
              "3    0\n",
              "4    0\n",
              "Name: has_screen_name, dtype: int64"
            ]
          },
          "metadata": {},
          "execution_count": 43
        }
      ]
    },
    {
      "cell_type": "markdown",
      "source": [
        "If follower counts are less than 30"
      ],
      "metadata": {
        "id": "v2_XGGBXa8Sr"
      }
    },
    {
      "cell_type": "code",
      "source": [
        "def scoring (row):    \n",
        "  if row['followers_count'] < 30:       \n",
        "    return 1    \n",
        "  else:       \n",
        "    return 0 "
      ],
      "metadata": {
        "id": "bWsFlzEOanv3"
      },
      "execution_count": 45,
      "outputs": []
    },
    {
      "cell_type": "code",
      "source": [
        "df.apply (lambda row: scoring (row),axis=1)"
      ],
      "metadata": {
        "colab": {
          "base_uri": "https://localhost:8080/"
        },
        "id": "bg_UIgTCa6ln",
        "outputId": "48705d59-1451-4a05-e08b-2b9671c6ee59"
      },
      "execution_count": 46,
      "outputs": [
        {
          "output_type": "execute_result",
          "data": {
            "text/plain": [
              "0       0\n",
              "1       0\n",
              "2       0\n",
              "3       0\n",
              "4       1\n",
              "       ..\n",
              "3346    1\n",
              "3347    1\n",
              "3348    1\n",
              "3349    1\n",
              "3350    1\n",
              "Length: 13240, dtype: int64"
            ]
          },
          "metadata": {},
          "execution_count": 46
        }
      ]
    },
    {
      "cell_type": "code",
      "source": [
        "df['score'] = df.apply (lambda row: scoring (row),axis=1)"
      ],
      "metadata": {
        "id": "T4YwUGe2bBpK"
      },
      "execution_count": 47,
      "outputs": []
    },
    {
      "cell_type": "code",
      "source": [
        "df['score'].isnull().values.sum() "
      ],
      "metadata": {
        "colab": {
          "base_uri": "https://localhost:8080/"
        },
        "id": "hRStw1_6bDcj",
        "outputId": "16a2d015-01c4-49fd-d702-6f23b1c98a30"
      },
      "execution_count": 48,
      "outputs": [
        {
          "output_type": "execute_result",
          "data": {
            "text/plain": [
              "0"
            ]
          },
          "metadata": {},
          "execution_count": 48
        }
      ]
    },
    {
      "cell_type": "code",
      "source": [
        "score['30followers'] = df.apply (lambda row: scoring (row),axis=1) "
      ],
      "metadata": {
        "id": "XgXWJrFGbFFo"
      },
      "execution_count": 49,
      "outputs": []
    },
    {
      "cell_type": "code",
      "source": [
        "score['30followers'].head()"
      ],
      "metadata": {
        "colab": {
          "base_uri": "https://localhost:8080/"
        },
        "id": "pRpCwldbbGxm",
        "outputId": "485d5cab-43d2-4d60-ee46-e67a4acfcbf4"
      },
      "execution_count": 50,
      "outputs": [
        {
          "output_type": "execute_result",
          "data": {
            "text/plain": [
              "0    0\n",
              "1    0\n",
              "2    0\n",
              "3    0\n",
              "4    1\n",
              "Name: 30followers, dtype: int64"
            ]
          },
          "metadata": {},
          "execution_count": 50
        }
      ]
    },
    {
      "cell_type": "markdown",
      "source": [
        "If geolocation is enabled"
      ],
      "metadata": {
        "id": "wTeGjKG7bPS7"
      }
    },
    {
      "cell_type": "code",
      "source": [
        "def scoring (row):    \n",
        "  if row['geo_enabled'] == '':       return 1    \n",
        "  else:       return 0"
      ],
      "metadata": {
        "id": "-6XgjQnRbMli"
      },
      "execution_count": 51,
      "outputs": []
    },
    {
      "cell_type": "code",
      "source": [
        "df.apply (lambda row: scoring (row),axis=1) "
      ],
      "metadata": {
        "colab": {
          "base_uri": "https://localhost:8080/"
        },
        "id": "3peQi5YmbTyP",
        "outputId": "3b799455-8a69-4342-920c-61737ec27d58"
      },
      "execution_count": 52,
      "outputs": [
        {
          "output_type": "execute_result",
          "data": {
            "text/plain": [
              "0       0\n",
              "1       0\n",
              "2       1\n",
              "3       0\n",
              "4       1\n",
              "       ..\n",
              "3346    0\n",
              "3347    0\n",
              "3348    0\n",
              "3349    0\n",
              "3350    0\n",
              "Length: 13240, dtype: int64"
            ]
          },
          "metadata": {},
          "execution_count": 52
        }
      ]
    },
    {
      "cell_type": "code",
      "source": [
        "df['score'] = df.apply (lambda row: scoring (row),axis=1) "
      ],
      "metadata": {
        "id": "XM6JK2kKbWkG"
      },
      "execution_count": 53,
      "outputs": []
    },
    {
      "cell_type": "code",
      "source": [
        "df['score'].isnull().values.sum() "
      ],
      "metadata": {
        "colab": {
          "base_uri": "https://localhost:8080/"
        },
        "id": "l1inVQvObYIB",
        "outputId": "07ffe07f-29a0-412a-997d-831b59c5ae1f"
      },
      "execution_count": 54,
      "outputs": [
        {
          "output_type": "execute_result",
          "data": {
            "text/plain": [
              "0"
            ]
          },
          "metadata": {},
          "execution_count": 54
        }
      ]
    },
    {
      "cell_type": "code",
      "source": [
        "score['geoloc'] = df.apply (lambda row: scoring (row),axis=1) "
      ],
      "metadata": {
        "id": "JT1pgKRWbZsO"
      },
      "execution_count": 55,
      "outputs": []
    },
    {
      "cell_type": "code",
      "source": [
        "score['geoloc'].head() "
      ],
      "metadata": {
        "colab": {
          "base_uri": "https://localhost:8080/"
        },
        "id": "T1ozTsmfbbQD",
        "outputId": "5c2e62dd-93dd-42cf-9f59-014a40236170"
      },
      "execution_count": 56,
      "outputs": [
        {
          "output_type": "execute_result",
          "data": {
            "text/plain": [
              "0    0\n",
              "1    0\n",
              "2    1\n",
              "3    0\n",
              "4    1\n",
              "Name: geoloc, dtype: int64"
            ]
          },
          "metadata": {},
          "execution_count": 56
        }
      ]
    },
    {
      "cell_type": "markdown",
      "source": [
        "profile banner contains a link ('http') "
      ],
      "metadata": {
        "id": "tC1aB1i5bvf9"
      }
    },
    {
      "cell_type": "code",
      "source": [
        "def scoring (row):    \n",
        "  if row['profile_banner_url'] == '':       \n",
        "    return 0    \n",
        "  else:       \n",
        "    return 1 "
      ],
      "metadata": {
        "id": "k7imapbcbc2W"
      },
      "execution_count": 57,
      "outputs": []
    },
    {
      "cell_type": "code",
      "source": [
        "df.apply (lambda row: scoring (row),axis=1) "
      ],
      "metadata": {
        "colab": {
          "base_uri": "https://localhost:8080/"
        },
        "id": "3x20qYvTbsPK",
        "outputId": "d1a5ae7c-5fe3-4cdb-e8f0-3e78d194df17"
      },
      "execution_count": 58,
      "outputs": [
        {
          "output_type": "execute_result",
          "data": {
            "text/plain": [
              "0       1\n",
              "1       1\n",
              "2       1\n",
              "3       1\n",
              "4       0\n",
              "       ..\n",
              "3346    1\n",
              "3347    1\n",
              "3348    1\n",
              "3349    1\n",
              "3350    1\n",
              "Length: 13240, dtype: int64"
            ]
          },
          "metadata": {},
          "execution_count": 58
        }
      ]
    },
    {
      "cell_type": "code",
      "source": [
        "df['score'] = df.apply (lambda row: scoring (row),axis=1) "
      ],
      "metadata": {
        "id": "F-G-8sQzbykv"
      },
      "execution_count": 59,
      "outputs": []
    },
    {
      "cell_type": "code",
      "source": [
        "df['score'].isnull().values.sum() "
      ],
      "metadata": {
        "colab": {
          "base_uri": "https://localhost:8080/"
        },
        "id": "N_3WmnFIb0W0",
        "outputId": "1ab268c2-5e0d-446d-a1f1-4e9515e17932"
      },
      "execution_count": 60,
      "outputs": [
        {
          "output_type": "execute_result",
          "data": {
            "text/plain": [
              "0"
            ]
          },
          "metadata": {},
          "execution_count": 60
        }
      ]
    },
    {
      "cell_type": "code",
      "source": [
        "score['banner_link'] = df.apply (lambda row: scoring (row),axis=1) "
      ],
      "metadata": {
        "id": "rzvvi4C-b2Vf"
      },
      "execution_count": 61,
      "outputs": []
    },
    {
      "cell_type": "code",
      "source": [
        "score['banner_link'].head() "
      ],
      "metadata": {
        "colab": {
          "base_uri": "https://localhost:8080/"
        },
        "id": "JFw_trtzb4EF",
        "outputId": "45d7e51b-2343-4037-cbdb-3c94b6bec4a1"
      },
      "execution_count": 62,
      "outputs": [
        {
          "output_type": "execute_result",
          "data": {
            "text/plain": [
              "0    1\n",
              "1    1\n",
              "2    1\n",
              "3    1\n",
              "4    0\n",
              "Name: banner_link, dtype: int64"
            ]
          },
          "metadata": {},
          "execution_count": 62
        }
      ]
    },
    {
      "cell_type": "markdown",
      "source": [
        "Has more than 50 tweets"
      ],
      "metadata": {
        "id": "7aJg84Bcb86E"
      }
    },
    {
      "cell_type": "code",
      "source": [
        "def scoring (row):    \n",
        "  if row['statuses_count'] > 50:       \n",
        "    return 0    \n",
        "  else:       return 1 "
      ],
      "metadata": {
        "id": "nSXTXgflb5iN"
      },
      "execution_count": 63,
      "outputs": []
    },
    {
      "cell_type": "code",
      "source": [
        "df.apply (lambda row: scoring (row),axis=1) "
      ],
      "metadata": {
        "colab": {
          "base_uri": "https://localhost:8080/"
        },
        "id": "lKFyW-pucDT3",
        "outputId": "53da16eb-37fc-423a-aa54-c43b1ba2af9b"
      },
      "execution_count": 64,
      "outputs": [
        {
          "output_type": "execute_result",
          "data": {
            "text/plain": [
              "0       0\n",
              "1       0\n",
              "2       0\n",
              "3       0\n",
              "4       0\n",
              "       ..\n",
              "3346    1\n",
              "3347    1\n",
              "3348    1\n",
              "3349    1\n",
              "3350    1\n",
              "Length: 13240, dtype: int64"
            ]
          },
          "metadata": {},
          "execution_count": 64
        }
      ]
    },
    {
      "cell_type": "code",
      "source": [
        "df['score'] = df.apply (lambda row: scoring (row),axis=1) "
      ],
      "metadata": {
        "id": "4Vmizz5ncGp7"
      },
      "execution_count": 65,
      "outputs": []
    },
    {
      "cell_type": "code",
      "source": [
        "df['score'].isnull().values.sum() "
      ],
      "metadata": {
        "colab": {
          "base_uri": "https://localhost:8080/"
        },
        "id": "cXho1UJJcIq7",
        "outputId": "070de425-6780-490e-d94e-03a69b63e73c"
      },
      "execution_count": 66,
      "outputs": [
        {
          "output_type": "execute_result",
          "data": {
            "text/plain": [
              "0"
            ]
          },
          "metadata": {},
          "execution_count": 66
        }
      ]
    },
    {
      "cell_type": "code",
      "source": [
        "score['50tweets'] = df.apply (lambda row: scoring (row),axis=1) "
      ],
      "metadata": {
        "id": "uhC46YTucLIL"
      },
      "execution_count": 67,
      "outputs": []
    },
    {
      "cell_type": "code",
      "source": [
        "score['50tweets'].head()"
      ],
      "metadata": {
        "colab": {
          "base_uri": "https://localhost:8080/"
        },
        "id": "lKQS-CPFcNq7",
        "outputId": "df2f6108-60d2-4402-db5d-f3717989a05f"
      },
      "execution_count": 68,
      "outputs": [
        {
          "output_type": "execute_result",
          "data": {
            "text/plain": [
              "0    0\n",
              "1    0\n",
              "2    0\n",
              "3    0\n",
              "4    0\n",
              "Name: 50tweets, dtype: int64"
            ]
          },
          "metadata": {},
          "execution_count": 68
        }
      ]
    },
    {
      "cell_type": "markdown",
      "source": [
        "Friends follower ratio"
      ],
      "metadata": {
        "id": "wCkgnKlMcOSr"
      }
    },
    {
      "cell_type": "code",
      "source": [
        "def scoring (row):    \n",
        "  if 2*row['followers_count'] >= row['friends_count']:       return 0    \n",
        "  else:       return 1 "
      ],
      "metadata": {
        "id": "lYyEE89DcQfX"
      },
      "execution_count": 69,
      "outputs": []
    },
    {
      "cell_type": "code",
      "source": [
        "df.apply (lambda row: scoring (row),axis=1)"
      ],
      "metadata": {
        "colab": {
          "base_uri": "https://localhost:8080/"
        },
        "id": "LRyYG18BcUm3",
        "outputId": "42f1c53f-bcec-4fa3-889b-0f78003a7264"
      },
      "execution_count": 70,
      "outputs": [
        {
          "output_type": "execute_result",
          "data": {
            "text/plain": [
              "0       0\n",
              "1       0\n",
              "2       0\n",
              "3       0\n",
              "4       1\n",
              "       ..\n",
              "3346    1\n",
              "3347    1\n",
              "3348    1\n",
              "3349    1\n",
              "3350    1\n",
              "Length: 13240, dtype: int64"
            ]
          },
          "metadata": {},
          "execution_count": 70
        }
      ]
    },
    {
      "cell_type": "code",
      "source": [
        "df['score'] = df.apply (lambda row: scoring (row),axis=1) "
      ],
      "metadata": {
        "id": "M2vmwGYRcY8b"
      },
      "execution_count": 71,
      "outputs": []
    },
    {
      "cell_type": "code",
      "source": [
        "df['score'].isnull().values.sum() "
      ],
      "metadata": {
        "colab": {
          "base_uri": "https://localhost:8080/"
        },
        "id": "sOZr3Yzkcap7",
        "outputId": "0761f88c-cebd-451d-f87a-1896fba6dcc4"
      },
      "execution_count": 72,
      "outputs": [
        {
          "output_type": "execute_result",
          "data": {
            "text/plain": [
              "0"
            ]
          },
          "metadata": {},
          "execution_count": 72
        }
      ]
    },
    {
      "cell_type": "code",
      "source": [
        "score['twice_num_followers'] = df.apply (lambda row: scoring (row),axis=1)"
      ],
      "metadata": {
        "id": "cCrufTtmccfj"
      },
      "execution_count": 73,
      "outputs": []
    },
    {
      "cell_type": "code",
      "source": [
        "score['twice_num_followers'].head() "
      ],
      "metadata": {
        "colab": {
          "base_uri": "https://localhost:8080/"
        },
        "id": "9397guDQcd5c",
        "outputId": "d8c6c6fe-9dde-4805-812a-82379df207c7"
      },
      "execution_count": 74,
      "outputs": [
        {
          "output_type": "execute_result",
          "data": {
            "text/plain": [
              "0    0\n",
              "1    0\n",
              "2    0\n",
              "3    0\n",
              "4    1\n",
              "Name: twice_num_followers, dtype: int64"
            ]
          },
          "metadata": {},
          "execution_count": 74
        }
      ]
    },
    {
      "cell_type": "markdown",
      "source": [
        "does not have 1000s of friends, spambot "
      ],
      "metadata": {
        "id": "V4rTHrIycgCc"
      }
    },
    {
      "cell_type": "code",
      "source": [
        "def scoring (row):    \n",
        "  if row['friends_count'] > 1000:       return 1    \n",
        "  else:       return 0"
      ],
      "metadata": {
        "id": "60aExEWVchhh"
      },
      "execution_count": 75,
      "outputs": []
    },
    {
      "cell_type": "code",
      "source": [
        "df.apply (lambda row: scoring (row),axis=1)"
      ],
      "metadata": {
        "colab": {
          "base_uri": "https://localhost:8080/"
        },
        "id": "PviQN7SlcoBs",
        "outputId": "735d6a4d-51e9-454c-a894-b942a534d265"
      },
      "execution_count": 77,
      "outputs": [
        {
          "output_type": "execute_result",
          "data": {
            "text/plain": [
              "0       0\n",
              "1       0\n",
              "2       0\n",
              "3       0\n",
              "4       0\n",
              "       ..\n",
              "3346    0\n",
              "3347    0\n",
              "3348    0\n",
              "3349    0\n",
              "3350    0\n",
              "Length: 13240, dtype: int64"
            ]
          },
          "metadata": {},
          "execution_count": 77
        }
      ]
    },
    {
      "cell_type": "code",
      "source": [
        "df['score'] = df.apply (lambda row: scoring (row),axis=1) "
      ],
      "metadata": {
        "id": "I-vKiCUMcrDq"
      },
      "execution_count": 78,
      "outputs": []
    },
    {
      "cell_type": "code",
      "source": [
        "df['score'].isnull().values.sum() "
      ],
      "metadata": {
        "colab": {
          "base_uri": "https://localhost:8080/"
        },
        "id": "pC54lVofcu_c",
        "outputId": "5ae54c39-bd38-4b80-c078-4487032101d3"
      },
      "execution_count": 79,
      "outputs": [
        {
          "output_type": "execute_result",
          "data": {
            "text/plain": [
              "0"
            ]
          },
          "metadata": {},
          "execution_count": 79
        }
      ]
    },
    {
      "cell_type": "code",
      "source": [
        "score['1000friends'] = df.apply (lambda row: scoring (row),axis=1) "
      ],
      "metadata": {
        "id": "bh65WugLcwvl"
      },
      "execution_count": 80,
      "outputs": []
    },
    {
      "cell_type": "code",
      "source": [
        "score['1000friends'].head() "
      ],
      "metadata": {
        "colab": {
          "base_uri": "https://localhost:8080/"
        },
        "id": "ttqmAsyRcycU",
        "outputId": "320a22cb-d94e-4918-edac-b4cf42e01b23"
      },
      "execution_count": 81,
      "outputs": [
        {
          "output_type": "execute_result",
          "data": {
            "text/plain": [
              "0    0\n",
              "1    0\n",
              "2    0\n",
              "3    0\n",
              "4    0\n",
              "Name: 1000friends, dtype: int64"
            ]
          },
          "metadata": {},
          "execution_count": 81
        }
      ]
    },
    {
      "cell_type": "markdown",
      "source": [
        "sent less than 20 tweets, spambot "
      ],
      "metadata": {
        "id": "2zVQk5pIc1Ic"
      }
    },
    {
      "cell_type": "code",
      "source": [
        "def scoring (row):    \n",
        "  if row['statuses_count'] < 20:       return 1    \n",
        "  else:       return 0 "
      ],
      "metadata": {
        "id": "j-IKnzXZc1ZM"
      },
      "execution_count": 83,
      "outputs": []
    },
    {
      "cell_type": "code",
      "source": [
        "df.apply (lambda row: scoring (row),axis=1) "
      ],
      "metadata": {
        "colab": {
          "base_uri": "https://localhost:8080/"
        },
        "id": "LvUr61aFc4i2",
        "outputId": "13599702-dbe1-40e0-b723-2cf85d07d342"
      },
      "execution_count": 84,
      "outputs": [
        {
          "output_type": "execute_result",
          "data": {
            "text/plain": [
              "0       0\n",
              "1       0\n",
              "2       0\n",
              "3       0\n",
              "4       0\n",
              "       ..\n",
              "3346    1\n",
              "3347    1\n",
              "3348    1\n",
              "3349    1\n",
              "3350    1\n",
              "Length: 13240, dtype: int64"
            ]
          },
          "metadata": {},
          "execution_count": 84
        }
      ]
    },
    {
      "cell_type": "code",
      "source": [
        "df['score'] = df.apply (lambda row: scoring (row),axis=1)"
      ],
      "metadata": {
        "id": "0veU2OSoc-lz"
      },
      "execution_count": 86,
      "outputs": []
    },
    {
      "cell_type": "code",
      "source": [
        "df['score'].isnull().values.sum() "
      ],
      "metadata": {
        "colab": {
          "base_uri": "https://localhost:8080/"
        },
        "id": "wyMxCXyrdA2u",
        "outputId": "6f328722-6fe5-45ec-e910-75df860b7126"
      },
      "execution_count": 87,
      "outputs": [
        {
          "output_type": "execute_result",
          "data": {
            "text/plain": [
              "0"
            ]
          },
          "metadata": {},
          "execution_count": 87
        }
      ]
    },
    {
      "cell_type": "code",
      "source": [
        "score['1000friends'] = df.apply (lambda row: scoring (row),axis=1) "
      ],
      "metadata": {
        "id": "d57B7lM5dEq0"
      },
      "execution_count": 88,
      "outputs": []
    },
    {
      "cell_type": "code",
      "source": [
        "score['1000friends'].head() "
      ],
      "metadata": {
        "colab": {
          "base_uri": "https://localhost:8080/"
        },
        "id": "5XUH22EudHLk",
        "outputId": "578dba8f-a836-4f60-8814-dbcb07491c3b"
      },
      "execution_count": 89,
      "outputs": [
        {
          "output_type": "execute_result",
          "data": {
            "text/plain": [
              "0    0\n",
              "1    0\n",
              "2    0\n",
              "3    0\n",
              "4    0\n",
              "Name: 1000friends, dtype: int64"
            ]
          },
          "metadata": {},
          "execution_count": 89
        }
      ]
    },
    {
      "cell_type": "markdown",
      "source": [
        "Default profile"
      ],
      "metadata": {
        "id": "BDb7fO-VdLhs"
      }
    },
    {
      "cell_type": "code",
      "source": [
        "def scoring (row):    \n",
        "  if row['default_profile_image'] == '':       return 0    \n",
        "  else:       return 1      "
      ],
      "metadata": {
        "id": "jKfvkJdIdN4x"
      },
      "execution_count": 90,
      "outputs": []
    },
    {
      "cell_type": "code",
      "source": [
        "df.apply (lambda row: scoring (row),axis=1) "
      ],
      "metadata": {
        "colab": {
          "base_uri": "https://localhost:8080/"
        },
        "id": "MAsAIBKfdPNg",
        "outputId": "855aa7d9-f1cf-4099-f033-c729b135471a"
      },
      "execution_count": 91,
      "outputs": [
        {
          "output_type": "execute_result",
          "data": {
            "text/plain": [
              "0       0\n",
              "1       0\n",
              "2       0\n",
              "3       0\n",
              "4       0\n",
              "       ..\n",
              "3346    1\n",
              "3347    1\n",
              "3348    1\n",
              "3349    1\n",
              "3350    1\n",
              "Length: 13240, dtype: int64"
            ]
          },
          "metadata": {},
          "execution_count": 91
        }
      ]
    },
    {
      "cell_type": "code",
      "source": [
        "df['score'] = df.apply (lambda row: scoring (row),axis=1)"
      ],
      "metadata": {
        "id": "meupsvGjdUes"
      },
      "execution_count": 92,
      "outputs": []
    },
    {
      "cell_type": "code",
      "source": [
        "df['score'].isnull().values.sum() "
      ],
      "metadata": {
        "colab": {
          "base_uri": "https://localhost:8080/"
        },
        "id": "fzGgv5GWdWTM",
        "outputId": "53395e11-aa6a-4192-f7b4-053d3d7c1a3f"
      },
      "execution_count": 93,
      "outputs": [
        {
          "output_type": "execute_result",
          "data": {
            "text/plain": [
              "0"
            ]
          },
          "metadata": {},
          "execution_count": 93
        }
      ]
    },
    {
      "cell_type": "code",
      "source": [
        "score['profile_pic'] = df.apply (lambda row: scoring (row),axis=1) "
      ],
      "metadata": {
        "id": "R9kpYbe3dYLE"
      },
      "execution_count": 94,
      "outputs": []
    },
    {
      "cell_type": "code",
      "source": [
        "score['profile_pic'].head() "
      ],
      "metadata": {
        "colab": {
          "base_uri": "https://localhost:8080/"
        },
        "id": "86EDXLFAdbdL",
        "outputId": "dab89d84-b949-495f-852e-61b8df7a1ef1"
      },
      "execution_count": 95,
      "outputs": [
        {
          "output_type": "execute_result",
          "data": {
            "text/plain": [
              "0    0\n",
              "1    0\n",
              "2    0\n",
              "3    0\n",
              "4    0\n",
              "Name: profile_pic, dtype: int64"
            ]
          },
          "metadata": {},
          "execution_count": 95
        }
      ]
    },
    {
      "cell_type": "markdown",
      "source": [
        "Never tweeted"
      ],
      "metadata": {
        "id": "NKzAyZEldd-r"
      }
    },
    {
      "cell_type": "code",
      "source": [
        "def scoring (row):    \n",
        "  if row['statuses_count'] == 0:       return 1    \n",
        "  else:       return 0"
      ],
      "metadata": {
        "id": "Fu-8UrOXdbtG"
      },
      "execution_count": 96,
      "outputs": []
    },
    {
      "cell_type": "code",
      "source": [
        "df.apply (lambda row: scoring (row),axis=1)"
      ],
      "metadata": {
        "colab": {
          "base_uri": "https://localhost:8080/"
        },
        "id": "cNqw6O5NdfQD",
        "outputId": "cd2a2fc5-cacc-46d2-ec98-915f5fe27329"
      },
      "execution_count": 97,
      "outputs": [
        {
          "output_type": "execute_result",
          "data": {
            "text/plain": [
              "0       0\n",
              "1       0\n",
              "2       0\n",
              "3       0\n",
              "4       0\n",
              "       ..\n",
              "3346    0\n",
              "3347    1\n",
              "3348    0\n",
              "3349    0\n",
              "3350    1\n",
              "Length: 13240, dtype: int64"
            ]
          },
          "metadata": {},
          "execution_count": 97
        }
      ]
    },
    {
      "cell_type": "code",
      "source": [
        "df['score'] = df.apply (lambda row: scoring (row),axis=1) "
      ],
      "metadata": {
        "id": "bTLFT03AdlT8"
      },
      "execution_count": 98,
      "outputs": []
    },
    {
      "cell_type": "code",
      "source": [
        "df['score'].isnull().values.sum() "
      ],
      "metadata": {
        "colab": {
          "base_uri": "https://localhost:8080/"
        },
        "id": "0rwTPdNOdm4r",
        "outputId": "92b5439f-bc30-4644-c8a4-6316c78cbfe0"
      },
      "execution_count": 99,
      "outputs": [
        {
          "output_type": "execute_result",
          "data": {
            "text/plain": [
              "0"
            ]
          },
          "metadata": {},
          "execution_count": 99
        }
      ]
    },
    {
      "cell_type": "code",
      "source": [
        "score['NeverTweeted'] = df.apply (lambda row: scoring (row),axis=1) "
      ],
      "metadata": {
        "id": "JeZzGUAodoVs"
      },
      "execution_count": 100,
      "outputs": []
    },
    {
      "cell_type": "code",
      "source": [
        "score['NeverTweeted'].head() "
      ],
      "metadata": {
        "colab": {
          "base_uri": "https://localhost:8080/"
        },
        "id": "YeSJCESjdqQ6",
        "outputId": "269f0c4a-f4d1-471a-c43a-b79fcf8b30f1"
      },
      "execution_count": 101,
      "outputs": [
        {
          "output_type": "execute_result",
          "data": {
            "text/plain": [
              "0    0\n",
              "1    0\n",
              "2    0\n",
              "3    0\n",
              "4    0\n",
              "Name: NeverTweeted, dtype: int64"
            ]
          },
          "metadata": {},
          "execution_count": 101
        }
      ]
    },
    {
      "cell_type": "markdown",
      "source": [
        "follower following ratio"
      ],
      "metadata": {
        "id": "IEQyGYXNdt8L"
      }
    },
    {
      "cell_type": "code",
      "source": [
        "def scoring (row): \n",
        "  if 50*row['followers_count'] <= row['friends_count']:       return 1    \n",
        "  else:       return 0 "
      ],
      "metadata": {
        "id": "fu8d-shFdv4Q"
      },
      "execution_count": 103,
      "outputs": []
    },
    {
      "cell_type": "code",
      "source": [
        "df.apply (lambda row: scoring (row),axis=1) "
      ],
      "metadata": {
        "colab": {
          "base_uri": "https://localhost:8080/"
        },
        "id": "eiqpA-z4d1YI",
        "outputId": "abee0fd6-4ead-40bb-e8ef-6f9a8171ab06"
      },
      "execution_count": 104,
      "outputs": [
        {
          "output_type": "execute_result",
          "data": {
            "text/plain": [
              "0       0\n",
              "1       0\n",
              "2       0\n",
              "3       0\n",
              "4       0\n",
              "       ..\n",
              "3346    1\n",
              "3347    0\n",
              "3348    1\n",
              "3349    1\n",
              "3350    1\n",
              "Length: 13240, dtype: int64"
            ]
          },
          "metadata": {},
          "execution_count": 104
        }
      ]
    },
    {
      "cell_type": "code",
      "source": [
        "df['score'] = df.apply (lambda row: scoring (row),axis=1) "
      ],
      "metadata": {
        "id": "EQHEPCvwd6te"
      },
      "execution_count": 105,
      "outputs": []
    },
    {
      "cell_type": "code",
      "source": [
        "df['score'].isnull().values.sum() "
      ],
      "metadata": {
        "colab": {
          "base_uri": "https://localhost:8080/"
        },
        "id": "XKafbGyZd-O1",
        "outputId": "e8933d8c-ee8b-4319-b705-3f7956056c8b"
      },
      "execution_count": 106,
      "outputs": [
        {
          "output_type": "execute_result",
          "data": {
            "text/plain": [
              "0"
            ]
          },
          "metadata": {},
          "execution_count": 106
        }
      ]
    },
    {
      "cell_type": "code",
      "source": [
        "score['fifty_FriendsFollowersRatio'] = df.apply (lambda row: scoring (row),axis=1) "
      ],
      "metadata": {
        "id": "YMJgvupgeBr7"
      },
      "execution_count": 107,
      "outputs": []
    },
    {
      "cell_type": "code",
      "source": [
        "score['fifty_FriendsFollowersRatio'].head()"
      ],
      "metadata": {
        "colab": {
          "base_uri": "https://localhost:8080/"
        },
        "id": "ZnNN2CYMeDQb",
        "outputId": "11bd653b-8604-4460-a6d5-aa5250a5966d"
      },
      "execution_count": 109,
      "outputs": [
        {
          "output_type": "execute_result",
          "data": {
            "text/plain": [
              "0    0\n",
              "1    0\n",
              "2    0\n",
              "3    0\n",
              "4    0\n",
              "Name: fifty_FriendsFollowersRatio, dtype: int64"
            ]
          },
          "metadata": {},
          "execution_count": 109
        }
      ]
    },
    {
      "cell_type": "markdown",
      "source": [
        "100:1 friends/followers  "
      ],
      "metadata": {
        "id": "hZ3oKbA5eMec"
      }
    },
    {
      "cell_type": "code",
      "source": [
        "def scoring (row):    \n",
        "  if 100*row['followers_count'] <= row['friends_count']:       return 1    \n",
        "  else:       return 0 "
      ],
      "metadata": {
        "id": "Rbvqyx-reHPF"
      },
      "execution_count": 110,
      "outputs": []
    },
    {
      "cell_type": "code",
      "source": [
        "df.apply (lambda row: scoring (row),axis=1) "
      ],
      "metadata": {
        "colab": {
          "base_uri": "https://localhost:8080/"
        },
        "id": "8hBWl48HeOaV",
        "outputId": "17c4f80a-eade-47ad-9c28-30095ebb93f6"
      },
      "execution_count": 111,
      "outputs": [
        {
          "output_type": "execute_result",
          "data": {
            "text/plain": [
              "0       0\n",
              "1       0\n",
              "2       0\n",
              "3       0\n",
              "4       0\n",
              "       ..\n",
              "3346    1\n",
              "3347    0\n",
              "3348    1\n",
              "3349    1\n",
              "3350    1\n",
              "Length: 13240, dtype: int64"
            ]
          },
          "metadata": {},
          "execution_count": 111
        }
      ]
    },
    {
      "cell_type": "code",
      "source": [
        "df['score'] = df.apply (lambda row: scoring (row),axis=1) "
      ],
      "metadata": {
        "id": "HRNoMEJaeSIU"
      },
      "execution_count": 113,
      "outputs": []
    },
    {
      "cell_type": "code",
      "source": [
        "df['score'].isnull().values.sum() "
      ],
      "metadata": {
        "colab": {
          "base_uri": "https://localhost:8080/"
        },
        "id": "SjnMyFZweYOt",
        "outputId": "e95088c9-9b2b-4ef5-dd52-ca2f6a1c06e4"
      },
      "execution_count": 114,
      "outputs": [
        {
          "output_type": "execute_result",
          "data": {
            "text/plain": [
              "0"
            ]
          },
          "metadata": {},
          "execution_count": 114
        }
      ]
    },
    {
      "cell_type": "code",
      "source": [
        "score['hundred_FriendsFollowersRatio'] = df.apply (lambda row: scoring (row),axis=1)"
      ],
      "metadata": {
        "id": "kpXznywfebkx"
      },
      "execution_count": 115,
      "outputs": []
    },
    {
      "cell_type": "code",
      "source": [
        "score['hundred_FriendsFollowersRatio'].head() "
      ],
      "metadata": {
        "colab": {
          "base_uri": "https://localhost:8080/"
        },
        "id": "Nj7mRQrWeez_",
        "outputId": "acf82956-9d61-4507-9bae-7997be7aacc9"
      },
      "execution_count": 116,
      "outputs": [
        {
          "output_type": "execute_result",
          "data": {
            "text/plain": [
              "0    0\n",
              "1    0\n",
              "2    0\n",
              "3    0\n",
              "4    0\n",
              "Name: hundred_FriendsFollowersRatio, dtype: int64"
            ]
          },
          "metadata": {},
          "execution_count": 116
        }
      ]
    },
    {
      "cell_type": "markdown",
      "source": [
        "profile with description"
      ],
      "metadata": {
        "id": "47kdt81XelU8"
      }
    },
    {
      "cell_type": "code",
      "source": [
        "def scoring (row):    \n",
        "  if row['description'] == '':       return 1    \n",
        "  else:       return 0 "
      ],
      "metadata": {
        "id": "tyBhguw0em-_"
      },
      "execution_count": 117,
      "outputs": []
    },
    {
      "cell_type": "code",
      "source": [
        "df.apply (lambda row: scoring (row),axis=1) "
      ],
      "metadata": {
        "colab": {
          "base_uri": "https://localhost:8080/"
        },
        "id": "zWeHGV7qerxy",
        "outputId": "84474d0f-d0ab-487b-e632-5ac159608870"
      },
      "execution_count": 118,
      "outputs": [
        {
          "output_type": "execute_result",
          "data": {
            "text/plain": [
              "0       0\n",
              "1       0\n",
              "2       0\n",
              "3       0\n",
              "4       0\n",
              "       ..\n",
              "3346    0\n",
              "3347    0\n",
              "3348    0\n",
              "3349    0\n",
              "3350    0\n",
              "Length: 13240, dtype: int64"
            ]
          },
          "metadata": {},
          "execution_count": 118
        }
      ]
    },
    {
      "cell_type": "code",
      "source": [
        "df['score'] = df.apply (lambda row: scoring (row),axis=1) "
      ],
      "metadata": {
        "id": "5q_NDiYpevJW"
      },
      "execution_count": 120,
      "outputs": []
    },
    {
      "cell_type": "code",
      "source": [
        "df['score'].isnull().values.sum() "
      ],
      "metadata": {
        "colab": {
          "base_uri": "https://localhost:8080/"
        },
        "id": "NTztw-D6ezCj",
        "outputId": "dfdbb680-70cd-40dd-df27-328d1e3798ca"
      },
      "execution_count": 121,
      "outputs": [
        {
          "output_type": "execute_result",
          "data": {
            "text/plain": [
              "0"
            ]
          },
          "metadata": {},
          "execution_count": 121
        }
      ]
    },
    {
      "cell_type": "code",
      "source": [
        "score['has_description'] = df.apply (lambda row: scoring (row),axis=1) "
      ],
      "metadata": {
        "id": "8u0Bgq8We1Xk"
      },
      "execution_count": 122,
      "outputs": []
    },
    {
      "cell_type": "code",
      "source": [
        "score['has_description'].head() "
      ],
      "metadata": {
        "colab": {
          "base_uri": "https://localhost:8080/"
        },
        "id": "SJCuItQNe4lD",
        "outputId": "f996a17d-4443-48ce-b930-6067f92762f8"
      },
      "execution_count": 123,
      "outputs": [
        {
          "output_type": "execute_result",
          "data": {
            "text/plain": [
              "0    0\n",
              "1    0\n",
              "2    0\n",
              "3    0\n",
              "4    0\n",
              "Name: has_description, dtype: int64"
            ]
          },
          "metadata": {},
          "execution_count": 123
        }
      ]
    },
    {
      "cell_type": "markdown",
      "source": [
        "Known bot"
      ],
      "metadata": {
        "id": "TesZBA43fCvW"
      }
    },
    {
      "cell_type": "code",
      "source": [
        "def scoring (row):    \n",
        "  if row['knownbot'] == 1:       return 1    \n",
        "  else:       return 0 "
      ],
      "metadata": {
        "id": "lLemIijsfD1U"
      },
      "execution_count": 124,
      "outputs": []
    },
    {
      "cell_type": "code",
      "source": [
        "df.apply (lambda row: scoring (row),axis=1)"
      ],
      "metadata": {
        "colab": {
          "base_uri": "https://localhost:8080/"
        },
        "id": "UQ9YRiAMfNyU",
        "outputId": "3c428eb3-2bc2-4058-de4c-4624527630ba"
      },
      "execution_count": 125,
      "outputs": [
        {
          "output_type": "execute_result",
          "data": {
            "text/plain": [
              "0       0\n",
              "1       0\n",
              "2       0\n",
              "3       0\n",
              "4       0\n",
              "       ..\n",
              "3346    1\n",
              "3347    1\n",
              "3348    1\n",
              "3349    1\n",
              "3350    1\n",
              "Length: 13240, dtype: int64"
            ]
          },
          "metadata": {},
          "execution_count": 125
        }
      ]
    },
    {
      "cell_type": "code",
      "source": [
        "df['score'] = df.apply (lambda row: scoring (row),axis=1)"
      ],
      "metadata": {
        "id": "p7nMz-1PfMl2"
      },
      "execution_count": 126,
      "outputs": []
    },
    {
      "cell_type": "code",
      "source": [
        "df['score'].isnull().values.sum()"
      ],
      "metadata": {
        "colab": {
          "base_uri": "https://localhost:8080/"
        },
        "id": "DVkLmQEQfIEH",
        "outputId": "a1172234-99f1-4586-9952-a6d57a09ef53"
      },
      "execution_count": 127,
      "outputs": [
        {
          "output_type": "execute_result",
          "data": {
            "text/plain": [
              "0"
            ]
          },
          "metadata": {},
          "execution_count": 127
        }
      ]
    },
    {
      "cell_type": "code",
      "source": [
        "score['knownbot'] = df.apply (lambda row: scoring (row),axis=1) "
      ],
      "metadata": {
        "id": "iOKBzWq8fS_G"
      },
      "execution_count": 128,
      "outputs": []
    },
    {
      "cell_type": "code",
      "source": [
        "score['knownbot'].head() "
      ],
      "metadata": {
        "colab": {
          "base_uri": "https://localhost:8080/"
        },
        "id": "JBk_bSD3fU9c",
        "outputId": "406804f1-b5f4-4737-9771-b32f2b81581b"
      },
      "execution_count": 129,
      "outputs": [
        {
          "output_type": "execute_result",
          "data": {
            "text/plain": [
              "0    0\n",
              "1    0\n",
              "2    0\n",
              "3    0\n",
              "4    0\n",
              "Name: knownbot, dtype: int64"
            ]
          },
          "metadata": {},
          "execution_count": 129
        }
      ]
    },
    {
      "cell_type": "code",
      "source": [
        "score.shape "
      ],
      "metadata": {
        "colab": {
          "base_uri": "https://localhost:8080/"
        },
        "id": "5ow9P4rifZWt",
        "outputId": "c3c4fd0d-e80d-4101-9497-b461a10e29e8"
      },
      "execution_count": 130,
      "outputs": [
        {
          "output_type": "execute_result",
          "data": {
            "text/plain": [
              "(13240, 15)"
            ]
          },
          "metadata": {},
          "execution_count": 130
        }
      ]
    },
    {
      "cell_type": "code",
      "source": [
        "score.describe() "
      ],
      "metadata": {
        "colab": {
          "base_uri": "https://localhost:8080/",
          "height": 364
        },
        "id": "HCBdXQ1zfb4E",
        "outputId": "d3832d49-23ae-4fb9-e3c0-33bba89dc6ac"
      },
      "execution_count": 131,
      "outputs": [
        {
          "output_type": "execute_result",
          "data": {
            "text/plain": [
              "                 id       lang-en   profile_pic  has_screen_name  \\\n",
              "count  1.324000e+04  13240.000000  13240.000000     13240.000000   \n",
              "mean   1.209061e+09      0.798112      0.258308         0.000076   \n",
              "std    9.816362e+08      0.401424      0.437721         0.008691   \n",
              "min    6.780330e+05      0.000000      0.000000         0.000000   \n",
              "25%    3.337846e+08      1.000000      0.000000         0.000000   \n",
              "50%    9.017673e+08      1.000000      0.000000         0.000000   \n",
              "75%    2.356624e+09      1.000000      1.000000         0.000000   \n",
              "max    4.331280e+09      1.000000      1.000000         1.000000   \n",
              "\n",
              "        30followers        geoloc   banner_link      50tweets  \\\n",
              "count  13240.000000  13240.000000  13240.000000  13240.000000   \n",
              "mean       0.556420      0.579909      0.532100      0.389804   \n",
              "std        0.496825      0.493592      0.498987      0.487724   \n",
              "min        0.000000      0.000000      0.000000      0.000000   \n",
              "25%        0.000000      0.000000      0.000000      0.000000   \n",
              "50%        1.000000      1.000000      1.000000      0.000000   \n",
              "75%        1.000000      1.000000      1.000000      1.000000   \n",
              "max        1.000000      1.000000      1.000000      1.000000   \n",
              "\n",
              "       twice_num_followers   1000friends  NeverTweeted  \\\n",
              "count         13240.000000  13240.000000   13240.00000   \n",
              "mean              0.654079      0.143656       0.01065   \n",
              "std               0.475686      0.350753       0.10265   \n",
              "min               0.000000      0.000000       0.00000   \n",
              "25%               0.000000      0.000000       0.00000   \n",
              "50%               1.000000      0.000000       0.00000   \n",
              "75%               1.000000      0.000000       0.00000   \n",
              "max               1.000000      1.000000       1.00000   \n",
              "\n",
              "       fifty_FriendsFollowersRatio  hundred_FriendsFollowersRatio  \\\n",
              "count                 13240.000000                    13240.00000   \n",
              "mean                      0.077039                        0.05642   \n",
              "std                       0.266664                        0.23074   \n",
              "min                       0.000000                        0.00000   \n",
              "25%                       0.000000                        0.00000   \n",
              "50%                       0.000000                        0.00000   \n",
              "75%                       0.000000                        0.00000   \n",
              "max                       1.000000                        1.00000   \n",
              "\n",
              "       has_description      knownbot  \n",
              "count     13240.000000  13240.000000  \n",
              "mean          0.352795      0.737613  \n",
              "std           0.477858      0.439948  \n",
              "min           0.000000      0.000000  \n",
              "25%           0.000000      0.000000  \n",
              "50%           0.000000      1.000000  \n",
              "75%           1.000000      1.000000  \n",
              "max           1.000000      1.000000  "
            ],
            "text/html": [
              "\n",
              "  <div id=\"df-8583809a-0dcd-41b9-98c4-0da9608bba22\">\n",
              "    <div class=\"colab-df-container\">\n",
              "      <div>\n",
              "<style scoped>\n",
              "    .dataframe tbody tr th:only-of-type {\n",
              "        vertical-align: middle;\n",
              "    }\n",
              "\n",
              "    .dataframe tbody tr th {\n",
              "        vertical-align: top;\n",
              "    }\n",
              "\n",
              "    .dataframe thead th {\n",
              "        text-align: right;\n",
              "    }\n",
              "</style>\n",
              "<table border=\"1\" class=\"dataframe\">\n",
              "  <thead>\n",
              "    <tr style=\"text-align: right;\">\n",
              "      <th></th>\n",
              "      <th>id</th>\n",
              "      <th>lang-en</th>\n",
              "      <th>profile_pic</th>\n",
              "      <th>has_screen_name</th>\n",
              "      <th>30followers</th>\n",
              "      <th>geoloc</th>\n",
              "      <th>banner_link</th>\n",
              "      <th>50tweets</th>\n",
              "      <th>twice_num_followers</th>\n",
              "      <th>1000friends</th>\n",
              "      <th>NeverTweeted</th>\n",
              "      <th>fifty_FriendsFollowersRatio</th>\n",
              "      <th>hundred_FriendsFollowersRatio</th>\n",
              "      <th>has_description</th>\n",
              "      <th>knownbot</th>\n",
              "    </tr>\n",
              "  </thead>\n",
              "  <tbody>\n",
              "    <tr>\n",
              "      <th>count</th>\n",
              "      <td>1.324000e+04</td>\n",
              "      <td>13240.000000</td>\n",
              "      <td>13240.000000</td>\n",
              "      <td>13240.000000</td>\n",
              "      <td>13240.000000</td>\n",
              "      <td>13240.000000</td>\n",
              "      <td>13240.000000</td>\n",
              "      <td>13240.000000</td>\n",
              "      <td>13240.000000</td>\n",
              "      <td>13240.000000</td>\n",
              "      <td>13240.00000</td>\n",
              "      <td>13240.000000</td>\n",
              "      <td>13240.00000</td>\n",
              "      <td>13240.000000</td>\n",
              "      <td>13240.000000</td>\n",
              "    </tr>\n",
              "    <tr>\n",
              "      <th>mean</th>\n",
              "      <td>1.209061e+09</td>\n",
              "      <td>0.798112</td>\n",
              "      <td>0.258308</td>\n",
              "      <td>0.000076</td>\n",
              "      <td>0.556420</td>\n",
              "      <td>0.579909</td>\n",
              "      <td>0.532100</td>\n",
              "      <td>0.389804</td>\n",
              "      <td>0.654079</td>\n",
              "      <td>0.143656</td>\n",
              "      <td>0.01065</td>\n",
              "      <td>0.077039</td>\n",
              "      <td>0.05642</td>\n",
              "      <td>0.352795</td>\n",
              "      <td>0.737613</td>\n",
              "    </tr>\n",
              "    <tr>\n",
              "      <th>std</th>\n",
              "      <td>9.816362e+08</td>\n",
              "      <td>0.401424</td>\n",
              "      <td>0.437721</td>\n",
              "      <td>0.008691</td>\n",
              "      <td>0.496825</td>\n",
              "      <td>0.493592</td>\n",
              "      <td>0.498987</td>\n",
              "      <td>0.487724</td>\n",
              "      <td>0.475686</td>\n",
              "      <td>0.350753</td>\n",
              "      <td>0.10265</td>\n",
              "      <td>0.266664</td>\n",
              "      <td>0.23074</td>\n",
              "      <td>0.477858</td>\n",
              "      <td>0.439948</td>\n",
              "    </tr>\n",
              "    <tr>\n",
              "      <th>min</th>\n",
              "      <td>6.780330e+05</td>\n",
              "      <td>0.000000</td>\n",
              "      <td>0.000000</td>\n",
              "      <td>0.000000</td>\n",
              "      <td>0.000000</td>\n",
              "      <td>0.000000</td>\n",
              "      <td>0.000000</td>\n",
              "      <td>0.000000</td>\n",
              "      <td>0.000000</td>\n",
              "      <td>0.000000</td>\n",
              "      <td>0.00000</td>\n",
              "      <td>0.000000</td>\n",
              "      <td>0.00000</td>\n",
              "      <td>0.000000</td>\n",
              "      <td>0.000000</td>\n",
              "    </tr>\n",
              "    <tr>\n",
              "      <th>25%</th>\n",
              "      <td>3.337846e+08</td>\n",
              "      <td>1.000000</td>\n",
              "      <td>0.000000</td>\n",
              "      <td>0.000000</td>\n",
              "      <td>0.000000</td>\n",
              "      <td>0.000000</td>\n",
              "      <td>0.000000</td>\n",
              "      <td>0.000000</td>\n",
              "      <td>0.000000</td>\n",
              "      <td>0.000000</td>\n",
              "      <td>0.00000</td>\n",
              "      <td>0.000000</td>\n",
              "      <td>0.00000</td>\n",
              "      <td>0.000000</td>\n",
              "      <td>0.000000</td>\n",
              "    </tr>\n",
              "    <tr>\n",
              "      <th>50%</th>\n",
              "      <td>9.017673e+08</td>\n",
              "      <td>1.000000</td>\n",
              "      <td>0.000000</td>\n",
              "      <td>0.000000</td>\n",
              "      <td>1.000000</td>\n",
              "      <td>1.000000</td>\n",
              "      <td>1.000000</td>\n",
              "      <td>0.000000</td>\n",
              "      <td>1.000000</td>\n",
              "      <td>0.000000</td>\n",
              "      <td>0.00000</td>\n",
              "      <td>0.000000</td>\n",
              "      <td>0.00000</td>\n",
              "      <td>0.000000</td>\n",
              "      <td>1.000000</td>\n",
              "    </tr>\n",
              "    <tr>\n",
              "      <th>75%</th>\n",
              "      <td>2.356624e+09</td>\n",
              "      <td>1.000000</td>\n",
              "      <td>1.000000</td>\n",
              "      <td>0.000000</td>\n",
              "      <td>1.000000</td>\n",
              "      <td>1.000000</td>\n",
              "      <td>1.000000</td>\n",
              "      <td>1.000000</td>\n",
              "      <td>1.000000</td>\n",
              "      <td>0.000000</td>\n",
              "      <td>0.00000</td>\n",
              "      <td>0.000000</td>\n",
              "      <td>0.00000</td>\n",
              "      <td>1.000000</td>\n",
              "      <td>1.000000</td>\n",
              "    </tr>\n",
              "    <tr>\n",
              "      <th>max</th>\n",
              "      <td>4.331280e+09</td>\n",
              "      <td>1.000000</td>\n",
              "      <td>1.000000</td>\n",
              "      <td>1.000000</td>\n",
              "      <td>1.000000</td>\n",
              "      <td>1.000000</td>\n",
              "      <td>1.000000</td>\n",
              "      <td>1.000000</td>\n",
              "      <td>1.000000</td>\n",
              "      <td>1.000000</td>\n",
              "      <td>1.00000</td>\n",
              "      <td>1.000000</td>\n",
              "      <td>1.00000</td>\n",
              "      <td>1.000000</td>\n",
              "      <td>1.000000</td>\n",
              "    </tr>\n",
              "  </tbody>\n",
              "</table>\n",
              "</div>\n",
              "      <button class=\"colab-df-convert\" onclick=\"convertToInteractive('df-8583809a-0dcd-41b9-98c4-0da9608bba22')\"\n",
              "              title=\"Convert this dataframe to an interactive table.\"\n",
              "              style=\"display:none;\">\n",
              "        \n",
              "  <svg xmlns=\"http://www.w3.org/2000/svg\" height=\"24px\"viewBox=\"0 0 24 24\"\n",
              "       width=\"24px\">\n",
              "    <path d=\"M0 0h24v24H0V0z\" fill=\"none\"/>\n",
              "    <path d=\"M18.56 5.44l.94 2.06.94-2.06 2.06-.94-2.06-.94-.94-2.06-.94 2.06-2.06.94zm-11 1L8.5 8.5l.94-2.06 2.06-.94-2.06-.94L8.5 2.5l-.94 2.06-2.06.94zm10 10l.94 2.06.94-2.06 2.06-.94-2.06-.94-.94-2.06-.94 2.06-2.06.94z\"/><path d=\"M17.41 7.96l-1.37-1.37c-.4-.4-.92-.59-1.43-.59-.52 0-1.04.2-1.43.59L10.3 9.45l-7.72 7.72c-.78.78-.78 2.05 0 2.83L4 21.41c.39.39.9.59 1.41.59.51 0 1.02-.2 1.41-.59l7.78-7.78 2.81-2.81c.8-.78.8-2.07 0-2.86zM5.41 20L4 18.59l7.72-7.72 1.47 1.35L5.41 20z\"/>\n",
              "  </svg>\n",
              "      </button>\n",
              "      \n",
              "  <style>\n",
              "    .colab-df-container {\n",
              "      display:flex;\n",
              "      flex-wrap:wrap;\n",
              "      gap: 12px;\n",
              "    }\n",
              "\n",
              "    .colab-df-convert {\n",
              "      background-color: #E8F0FE;\n",
              "      border: none;\n",
              "      border-radius: 50%;\n",
              "      cursor: pointer;\n",
              "      display: none;\n",
              "      fill: #1967D2;\n",
              "      height: 32px;\n",
              "      padding: 0 0 0 0;\n",
              "      width: 32px;\n",
              "    }\n",
              "\n",
              "    .colab-df-convert:hover {\n",
              "      background-color: #E2EBFA;\n",
              "      box-shadow: 0px 1px 2px rgba(60, 64, 67, 0.3), 0px 1px 3px 1px rgba(60, 64, 67, 0.15);\n",
              "      fill: #174EA6;\n",
              "    }\n",
              "\n",
              "    [theme=dark] .colab-df-convert {\n",
              "      background-color: #3B4455;\n",
              "      fill: #D2E3FC;\n",
              "    }\n",
              "\n",
              "    [theme=dark] .colab-df-convert:hover {\n",
              "      background-color: #434B5C;\n",
              "      box-shadow: 0px 1px 3px 1px rgba(0, 0, 0, 0.15);\n",
              "      filter: drop-shadow(0px 1px 2px rgba(0, 0, 0, 0.3));\n",
              "      fill: #FFFFFF;\n",
              "    }\n",
              "  </style>\n",
              "\n",
              "      <script>\n",
              "        const buttonEl =\n",
              "          document.querySelector('#df-8583809a-0dcd-41b9-98c4-0da9608bba22 button.colab-df-convert');\n",
              "        buttonEl.style.display =\n",
              "          google.colab.kernel.accessAllowed ? 'block' : 'none';\n",
              "\n",
              "        async function convertToInteractive(key) {\n",
              "          const element = document.querySelector('#df-8583809a-0dcd-41b9-98c4-0da9608bba22');\n",
              "          const dataTable =\n",
              "            await google.colab.kernel.invokeFunction('convertToInteractive',\n",
              "                                                     [key], {});\n",
              "          if (!dataTable) return;\n",
              "\n",
              "          const docLinkHtml = 'Like what you see? Visit the ' +\n",
              "            '<a target=\"_blank\" href=https://colab.research.google.com/notebooks/data_table.ipynb>data table notebook</a>'\n",
              "            + ' to learn more about interactive tables.';\n",
              "          element.innerHTML = '';\n",
              "          dataTable['output_type'] = 'display_data';\n",
              "          await google.colab.output.renderOutput(dataTable, element);\n",
              "          const docLink = document.createElement('div');\n",
              "          docLink.innerHTML = docLinkHtml;\n",
              "          element.appendChild(docLink);\n",
              "        }\n",
              "      </script>\n",
              "    </div>\n",
              "  </div>\n",
              "  "
            ]
          },
          "metadata": {},
          "execution_count": 131
        }
      ]
    },
    {
      "cell_type": "markdown",
      "source": [
        "#Model"
      ],
      "metadata": {
        "id": "wginwMfrmBwl"
      }
    },
    {
      "cell_type": "code",
      "source": [
        "from sklearn.model_selection import ShuffleSplit\n",
        "\n",
        "if 'knownbot' in score:\n",
        "  y = score['knownbot'].values \n",
        "  del score['knownbot']\n",
        "  X = score.values \n",
        "\n",
        "num_cv_iterations = 3\n",
        "num_instances = len(y)\n",
        "cv_object = ShuffleSplit(n_splits=num_cv_iterations,test_size = 0.2)\n",
        "print(cv_object)"
      ],
      "metadata": {
        "colab": {
          "base_uri": "https://localhost:8080/"
        },
        "id": "SYFIPCD_fcwo",
        "outputId": "b273f147-cfac-4728-8648-c1abd9ae48b9"
      },
      "execution_count": 132,
      "outputs": [
        {
          "output_type": "stream",
          "name": "stdout",
          "text": [
            "ShuffleSplit(n_splits=3, random_state=None, test_size=0.2, train_size=None)\n"
          ]
        }
      ]
    },
    {
      "cell_type": "code",
      "source": [
        "for col in score.columns:\n",
        "    print(col)"
      ],
      "metadata": {
        "colab": {
          "base_uri": "https://localhost:8080/"
        },
        "id": "AXR3GaKznV_F",
        "outputId": "75d7af3d-762e-4393-a943-534ec3c0331d"
      },
      "execution_count": 163,
      "outputs": [
        {
          "output_type": "stream",
          "name": "stdout",
          "text": [
            "id\n",
            "lang-en\n",
            "profile_pic\n",
            "has_screen_name\n",
            "30followers\n",
            "geoloc\n",
            "banner_link\n",
            "50tweets\n",
            "twice_num_followers\n",
            "1000friends\n",
            "NeverTweeted\n",
            "fifty_FriendsFollowersRatio\n",
            "hundred_FriendsFollowersRatio\n",
            "has_description\n"
          ]
        }
      ]
    },
    {
      "cell_type": "code",
      "source": [
        "from sklearn.linear_model import LogisticRegression \n",
        "from sklearn import metrics as mt\n",
        "\n",
        "lr_clf = LogisticRegression(penalty='l2', C=1.0, class_weight=None) "
      ],
      "metadata": {
        "id": "TCqp02EvgB0C"
      },
      "execution_count": 136,
      "outputs": []
    },
    {
      "cell_type": "code",
      "source": [
        "iter_num=0 \n",
        "for train_indices, test_indices in cv_object.split(X,y):     \n",
        "  X_train = X[train_indices]     \n",
        "  y_train = y[train_indices]          \n",
        "  X_test = X[test_indices]    \n",
        "  y_test = y[test_indices]         \n",
        "  lr_clf.fit(X_train,y_train) \n",
        "  y_hat = lr_clf.predict(X_test)     \n",
        "  acc = mt.accuracy_score(y_test,y_hat)     \n",
        "  conf = mt.confusion_matrix(y_test,y_hat)     \n",
        "  print(\"Iteration\",iter_num)     \n",
        "  print(\"accuracy\", acc )     \n",
        "  print(\"confusion matrix\\n\",conf)     \n",
        "  iter_num+=1 "
      ],
      "metadata": {
        "colab": {
          "base_uri": "https://localhost:8080/"
        },
        "id": "oLe5EJdgheHK",
        "outputId": "bfa126f6-6bd5-4bd4-a9d9-8997605b8863"
      },
      "execution_count": 138,
      "outputs": [
        {
          "output_type": "stream",
          "name": "stdout",
          "text": [
            "Iteration 0\n",
            "accuracy 0.7367824773413897\n",
            "confusion matrix\n",
            " [[   0  697]\n",
            " [   0 1951]]\n",
            "Iteration 1\n",
            "accuracy 0.7224320241691843\n",
            "confusion matrix\n",
            " [[   0  735]\n",
            " [   0 1913]]\n",
            "Iteration 2\n",
            "accuracy 0.7273413897280967\n",
            "confusion matrix\n",
            " [[   0  722]\n",
            " [   0 1926]]\n"
          ]
        }
      ]
    },
    {
      "cell_type": "code",
      "source": [
        "weights = lr_clf.coef_.T\n",
        "variable_names = score.columns \n",
        "for coef, name in zip(weights,variable_names):     \n",
        "  print(name, 'has weight of', coef[0]) "
      ],
      "metadata": {
        "colab": {
          "base_uri": "https://localhost:8080/"
        },
        "id": "P8CY-IVbhfzb",
        "outputId": "50e81f8b-9baf-45cc-fe57-d95ed06552f0"
      },
      "execution_count": 139,
      "outputs": [
        {
          "output_type": "stream",
          "name": "stdout",
          "text": [
            "id has weight of 7.293389803218404e-10\n",
            "lang-en has weight of 1.1203563253250928e-19\n",
            "profile_pic has weight of 2.0525356564206856e-18\n",
            "has_screen_name has weight of -1.6264292421855361e-21\n",
            "30followers has weight of 3.112428171897854e-18\n",
            "geoloc has weight of 1.5353991812280929e-18\n",
            "banner_link has weight of -1.0198989142329338e-18\n",
            "50tweets has weight of 2.7156685208572918e-18\n",
            "twice_num_followers has weight of 3.2676242689087147e-18\n",
            "1000friends has weight of 1.2053975526135132e-18\n",
            "NeverTweeted has weight of 9.4644581209472e-20\n",
            "fifty_FriendsFollowersRatio has weight of 6.721588496429359e-19\n",
            "hundred_FriendsFollowersRatio has weight of 4.768968841386055e-19\n",
            "has_description has weight of 1.3208392059282928e-18\n"
          ]
        }
      ]
    },
    {
      "cell_type": "code",
      "source": [
        "from sklearn.preprocessing import StandardScaler "
      ],
      "metadata": {
        "id": "GEfY2nqsicFZ"
      },
      "execution_count": 140,
      "outputs": []
    },
    {
      "cell_type": "code",
      "source": [
        "scl_obj = StandardScaler() \n",
        "scl_obj.fit(X_train) "
      ],
      "metadata": {
        "id": "C_n5Lp_ZilBg"
      },
      "execution_count": null,
      "outputs": []
    },
    {
      "cell_type": "code",
      "source": [
        "X_train_scaled = scl_obj.transform(X_train)\n",
        "X_test_scaled = scl_obj.transform(X_test)"
      ],
      "metadata": {
        "id": "h2amR1Axiq6Q"
      },
      "execution_count": 172,
      "outputs": []
    },
    {
      "cell_type": "code",
      "source": [
        "lr_clf = LogisticRegression(penalty='l2', C=0.05) \n",
        "lr_clf.fit(X_train_scaled,y_train)"
      ],
      "metadata": {
        "colab": {
          "base_uri": "https://localhost:8080/",
          "height": 74
        },
        "id": "m7H_mizgizGY",
        "outputId": "fde56bd9-de23-43ab-9d1e-0660018fd746"
      },
      "execution_count": 173,
      "outputs": [
        {
          "output_type": "execute_result",
          "data": {
            "text/plain": [
              "LogisticRegression(C=0.05)"
            ],
            "text/html": [
              "<style>#sk-container-id-4 {color: black;background-color: white;}#sk-container-id-4 pre{padding: 0;}#sk-container-id-4 div.sk-toggleable {background-color: white;}#sk-container-id-4 label.sk-toggleable__label {cursor: pointer;display: block;width: 100%;margin-bottom: 0;padding: 0.3em;box-sizing: border-box;text-align: center;}#sk-container-id-4 label.sk-toggleable__label-arrow:before {content: \"▸\";float: left;margin-right: 0.25em;color: #696969;}#sk-container-id-4 label.sk-toggleable__label-arrow:hover:before {color: black;}#sk-container-id-4 div.sk-estimator:hover label.sk-toggleable__label-arrow:before {color: black;}#sk-container-id-4 div.sk-toggleable__content {max-height: 0;max-width: 0;overflow: hidden;text-align: left;background-color: #f0f8ff;}#sk-container-id-4 div.sk-toggleable__content pre {margin: 0.2em;color: black;border-radius: 0.25em;background-color: #f0f8ff;}#sk-container-id-4 input.sk-toggleable__control:checked~div.sk-toggleable__content {max-height: 200px;max-width: 100%;overflow: auto;}#sk-container-id-4 input.sk-toggleable__control:checked~label.sk-toggleable__label-arrow:before {content: \"▾\";}#sk-container-id-4 div.sk-estimator input.sk-toggleable__control:checked~label.sk-toggleable__label {background-color: #d4ebff;}#sk-container-id-4 div.sk-label input.sk-toggleable__control:checked~label.sk-toggleable__label {background-color: #d4ebff;}#sk-container-id-4 input.sk-hidden--visually {border: 0;clip: rect(1px 1px 1px 1px);clip: rect(1px, 1px, 1px, 1px);height: 1px;margin: -1px;overflow: hidden;padding: 0;position: absolute;width: 1px;}#sk-container-id-4 div.sk-estimator {font-family: monospace;background-color: #f0f8ff;border: 1px dotted black;border-radius: 0.25em;box-sizing: border-box;margin-bottom: 0.5em;}#sk-container-id-4 div.sk-estimator:hover {background-color: #d4ebff;}#sk-container-id-4 div.sk-parallel-item::after {content: \"\";width: 100%;border-bottom: 1px solid gray;flex-grow: 1;}#sk-container-id-4 div.sk-label:hover label.sk-toggleable__label {background-color: #d4ebff;}#sk-container-id-4 div.sk-serial::before {content: \"\";position: absolute;border-left: 1px solid gray;box-sizing: border-box;top: 0;bottom: 0;left: 50%;z-index: 0;}#sk-container-id-4 div.sk-serial {display: flex;flex-direction: column;align-items: center;background-color: white;padding-right: 0.2em;padding-left: 0.2em;position: relative;}#sk-container-id-4 div.sk-item {position: relative;z-index: 1;}#sk-container-id-4 div.sk-parallel {display: flex;align-items: stretch;justify-content: center;background-color: white;position: relative;}#sk-container-id-4 div.sk-item::before, #sk-container-id-4 div.sk-parallel-item::before {content: \"\";position: absolute;border-left: 1px solid gray;box-sizing: border-box;top: 0;bottom: 0;left: 50%;z-index: -1;}#sk-container-id-4 div.sk-parallel-item {display: flex;flex-direction: column;z-index: 1;position: relative;background-color: white;}#sk-container-id-4 div.sk-parallel-item:first-child::after {align-self: flex-end;width: 50%;}#sk-container-id-4 div.sk-parallel-item:last-child::after {align-self: flex-start;width: 50%;}#sk-container-id-4 div.sk-parallel-item:only-child::after {width: 0;}#sk-container-id-4 div.sk-dashed-wrapped {border: 1px dashed gray;margin: 0 0.4em 0.5em 0.4em;box-sizing: border-box;padding-bottom: 0.4em;background-color: white;}#sk-container-id-4 div.sk-label label {font-family: monospace;font-weight: bold;display: inline-block;line-height: 1.2em;}#sk-container-id-4 div.sk-label-container {text-align: center;}#sk-container-id-4 div.sk-container {/* jupyter's `normalize.less` sets `[hidden] { display: none; }` but bootstrap.min.css set `[hidden] { display: none !important; }` so we also need the `!important` here to be able to override the default hidden behavior on the sphinx rendered scikit-learn.org. See: https://github.com/scikit-learn/scikit-learn/issues/21755 */display: inline-block !important;position: relative;}#sk-container-id-4 div.sk-text-repr-fallback {display: none;}</style><div id=\"sk-container-id-4\" class=\"sk-top-container\"><div class=\"sk-text-repr-fallback\"><pre>LogisticRegression(C=0.05)</pre><b>In a Jupyter environment, please rerun this cell to show the HTML representation or trust the notebook. <br />On GitHub, the HTML representation is unable to render, please try loading this page with nbviewer.org.</b></div><div class=\"sk-container\" hidden><div class=\"sk-item\"><div class=\"sk-estimator sk-toggleable\"><input class=\"sk-toggleable__control sk-hidden--visually\" id=\"sk-estimator-id-4\" type=\"checkbox\" checked><label for=\"sk-estimator-id-4\" class=\"sk-toggleable__label sk-toggleable__label-arrow\">LogisticRegression</label><div class=\"sk-toggleable__content\"><pre>LogisticRegression(C=0.05)</pre></div></div></div></div></div>"
            ]
          },
          "metadata": {},
          "execution_count": 173
        }
      ]
    },
    {
      "cell_type": "code",
      "source": [
        "y_hat = lr_clf.predict(X_test_scaled)"
      ],
      "metadata": {
        "id": "L_T4fdnPi6Nj"
      },
      "execution_count": 174,
      "outputs": []
    },
    {
      "cell_type": "code",
      "source": [
        "acc = mt.accuracy_score(y_test,y_hat) \n",
        "conf = mt.confusion_matrix(y_test,y_hat) \n",
        "print('accuracy:', acc ) \n",
        "print(conf ) "
      ],
      "metadata": {
        "colab": {
          "base_uri": "https://localhost:8080/"
        },
        "id": "danVUm9Bi9xi",
        "outputId": "f1e0d5d9-71bf-452d-9e45-acdd23613750"
      },
      "execution_count": 175,
      "outputs": [
        {
          "output_type": "stream",
          "name": "stdout",
          "text": [
            "accuracy: 0.9531722054380665\n",
            "[[ 606   70]\n",
            " [  54 1918]]\n"
          ]
        }
      ]
    },
    {
      "cell_type": "code",
      "source": [
        "zip_vars = zip(lr_clf.coef_.T,score.columns)\n",
        "zip_vars = sorted(zip_vars) \n",
        "for coef, name in zip_vars:     \n",
        "  print(name, 'has weight of', coef[0]) "
      ],
      "metadata": {
        "colab": {
          "base_uri": "https://localhost:8080/"
        },
        "id": "T4jrGnyQjCuq",
        "outputId": "01b00a2f-280d-4f95-a694-44e89bcb79de"
      },
      "execution_count": 146,
      "outputs": [
        {
          "output_type": "stream",
          "name": "stdout",
          "text": [
            "banner_link has weight of -1.7432624997127413\n",
            "lang-en has weight of -0.7623755294504199\n",
            "has_description has weight of -0.20572340651745047\n",
            "has_screen_name has weight of -0.03387003518445633\n",
            "NeverTweeted has weight of 0.0663560564883215\n",
            "1000friends has weight of 0.11735908690160345\n",
            "twice_num_followers has weight of 0.1332168887812092\n",
            "hundred_FriendsFollowersRatio has weight of 0.20299177454578693\n",
            "fifty_FriendsFollowersRatio has weight of 0.2840287655070238\n",
            "50tweets has weight of 0.4869855282743872\n",
            "id has weight of 0.6068822729630278\n",
            "30followers has weight of 0.7488496528418566\n",
            "geoloc has weight of 1.1893583486730055\n",
            "profile_pic has weight of 2.733861797007906\n"
          ]
        }
      ]
    },
    {
      "cell_type": "code",
      "source": [
        "from matplotlib import pyplot as plt \n",
        "get_ipython().magic('matplotlib inline')"
      ],
      "metadata": {
        "id": "rhX4DfdYjPfR"
      },
      "execution_count": 147,
      "outputs": []
    },
    {
      "cell_type": "code",
      "source": [
        "plt.style.use('ggplot')   \n",
        "weights = pd.Series(lr_clf.coef_[0],index=score.columns) \n",
        "weights.plot(kind='bar') \n",
        "plt.show() "
      ],
      "metadata": {
        "colab": {
          "base_uri": "https://localhost:8080/",
          "height": 632
        },
        "id": "twfVq0WajVig",
        "outputId": "aebf970c-c02a-4290-9dc7-b340a9993eab"
      },
      "execution_count": 149,
      "outputs": [
        {
          "output_type": "display_data",
          "data": {
            "text/plain": [
              "<Figure size 640x480 with 1 Axes>"
            ],
            "image/png": "[encoded data removed]"
          },
          "metadata": {}
        }
      ]
    },
    {
      "cell_type": "code",
      "source": [
        "from sklearn.pipeline import Pipeline \n",
        "std_scl = StandardScaler() \n",
        "lr_clf = LogisticRegression(penalty='l2', C=0.05)    \n",
        "piped_object = Pipeline([('scale', std_scl),('logit_model', lr_clf)])\n",
        "weights = [] \n",
        "\n",
        "for iter_num, (train_indices, test_indices) in enumerate(cv_object.split(X,y)):     \n",
        "  piped_object.fit(X[train_indices],y[train_indices])  \n",
        "  weights.append(piped_object.named_steps['logit_model'].coef_[0])       \n",
        "weights = np.array(weights) "
      ],
      "metadata": {
        "id": "WDL_sOmdjfaN"
      },
      "execution_count": 150,
      "outputs": []
    },
    {
      "cell_type": "code",
      "source": [
        "import plotly\n",
        "error_y=dict(type='data',array=np.std(weights,axis=0),visible=True)  \n",
        "graph1 = {'x': score.columns,'y': np.mean(weights,axis=0),'error_y':error_y,'type': 'bar'}  \n",
        "fig = dict() \n",
        "fig['data'] = [graph1] \n",
        "fig['layout'] = {'title': 'Logistic Regression Weights, with error bars'}  \n",
        "plotly.offline.iplot(fig) "
      ],
      "metadata": {
        "colab": {
          "base_uri": "https://localhost:8080/",
          "height": 542
        },
        "id": "5q9bcuaHkN1q",
        "outputId": "d53ed6b7-3ebb-4058-c906-53a14300b05f"
      },
      "execution_count": 153,
      "outputs": [
        {
          "output_type": "display_data",
          "data": {
            "text/html": [
              "<html>\n",
              "<head><meta charset=\"utf-8\" /></head>\n",
              "<body>\n",
              "    <div>            <script src=\"https://cdnjs.cloudflare.com/ajax/libs/mathjax/2.7.5/MathJax.js?config=TeX-AMS-MML_SVG\"></script><script type=\"text/javascript\">if (window.MathJax && window.MathJax.Hub && window.MathJax.Hub.Config) {window.MathJax.Hub.Config({SVG: {font: \"STIX-Web\"}});}</script>                <script type=\"text/javascript\">window.PlotlyConfig = {MathJaxConfig: 'local'};</script>\n",
              "        <script src=\"https://cdn.plot.ly/plotly-2.18.2.min.js\"></script>                <div id=\"d819521b-6ec3-4347-9707-cd3e245997d7\" class=\"plotly-graph-div\" style=\"height:525px; width:100%;\"></div>            <script type=\"text/javascript\">                                    window.PLOTLYENV=window.PLOTLYENV || {};                                    if (document.getElementById(\"d819521b-6ec3-4347-9707-cd3e245997d7\")) {                    Plotly.newPlot(                        \"d819521b-6ec3-4347-9707-cd3e245997d7\",                        [{\"error_y\":{\"array\":[0.027699521287034103,0.019079328061803968,0.03490637088656051,0.015733492012653123,0.011644444509004065,0.023959058682863348,0.028673518452575802,0.009678338945144173,0.03454044672840315,0.0353173746504398,0.002705652685941009,0.0031732250350695497,0.005250279335340716,0.03241171245542937],\"type\":\"data\",\"visible\":true},\"x\":[\"id\",\"lang-en\",\"profile_pic\",\"has_screen_name\",\"30followers\",\"geoloc\",\"banner_link\",\"50tweets\",\"twice_num_followers\",\"1000friends\",\"NeverTweeted\",\"fifty_FriendsFollowersRatio\",\"hundred_FriendsFollowersRatio\",\"has_description\"],\"y\":[0.5784248206459524,-0.7107913841991093,2.6949769904502623,-0.02223778992840753,0.7472115815913315,1.2358244302526347,-1.7272259917453223,0.5263263769378504,0.17186924608023135,0.11634934479957186,0.07971030566361922,0.28407392532887193,0.20566435681825893,-0.2601763376204363],\"type\":\"bar\"}],                        {\"template\":{\"data\":{\"barpolar\":[{\"marker\":{\"line\":{\"color\":\"#E5ECF6\",\"width\":0.5},\"pattern\":{\"fillmode\":\"overlay\",\"size\":10,\"solidity\":0.2}},\"type\":\"barpolar\"}],\"bar\":[{\"error_x\":{\"color\":\"#2a3f5f\"},\"error_y\":{\"color\":\"#2a3f5f\"},\"marker\":{\"line\":{\"color\":\"#E5ECF6\",\"width\":0.5},\"pattern\":{\"fillmode\":\"overlay\",\"size\":10,\"solidity\":0.2}},\"type\":\"bar\"}],\"carpet\":[{\"aaxis\":{\"endlinecolor\":\"#2a3f5f\",\"gridcolor\":\"white\",\"linecolor\":\"white\",\"minorgridcolor\":\"white\",\"startlinecolor\":\"#2a3f5f\"},\"baxis\":{\"endlinecolor\":\"#2a3f5f\",\"gridcolor\":\"white\",\"linecolor\":\"white\",\"minorgridcolor\":\"white\",\"startlinecolor\":\"#2a3f5f\"},\"type\":\"carpet\"}],\"choropleth\":[{\"colorbar\":{\"outlinewidth\":0,\"ticks\":\"\"},\"type\":\"choropleth\"}],\"contourcarpet\":[{\"colorbar\":{\"outlinewidth\":0,\"ticks\":\"\"},\"type\":\"contourcarpet\"}],\"contour\":[{\"colorbar\":{\"outlinewidth\":0,\"ticks\":\"\"},\"colorscale\":[[0.0,\"#0d0887\"],[0.1111111111111111,\"#46039f\"],[0.2222222222222222,\"#7201a8\"],[0.3333333333333333,\"#9c179e\"],[0.4444444444444444,\"#bd3786\"],[0.5555555555555556,\"#d8576b\"],[0.6666666666666666,\"#ed7953\"],[0.7777777777777778,\"#fb9f3a\"],[0.8888888888888888,\"#fdca26\"],[1.0,\"#f0f921\"]],\"type\":\"contour\"}],\"heatmapgl\":[{\"colorbar\":{\"outlinewidth\":0,\"ticks\":\"\"},\"colorscale\":[[0.0,\"#0d0887\"],[0.1111111111111111,\"#46039f\"],[0.2222222222222222,\"#7201a8\"],[0.3333333333333333,\"#9c179e\"],[0.4444444444444444,\"#bd3786\"],[0.5555555555555556,\"#d8576b\"],[0.6666666666666666,\"#ed7953\"],[0.7777777777777778,\"#fb9f3a\"],[0.8888888888888888,\"#fdca26\"],[1.0,\"#f0f921\"]],\"type\":\"heatmapgl\"}],\"heatmap\":[{\"colorbar\":{\"outlinewidth\":0,\"ticks\":\"\"},\"colorscale\":[[0.0,\"#0d0887\"],[0.1111111111111111,\"#46039f\"],[0.2222222222222222,\"#7201a8\"],[0.3333333333333333,\"#9c179e\"],[0.4444444444444444,\"#bd3786\"],[0.5555555555555556,\"#d8576b\"],[0.6666666666666666,\"#ed7953\"],[0.7777777777777778,\"#fb9f3a\"],[0.8888888888888888,\"#fdca26\"],[1.0,\"#f0f921\"]],\"type\":\"heatmap\"}],\"histogram2dcontour\":[{\"colorbar\":{\"outlinewidth\":0,\"ticks\":\"\"},\"colorscale\":[[0.0,\"#0d0887\"],[0.1111111111111111,\"#46039f\"],[0.2222222222222222,\"#7201a8\"],[0.3333333333333333,\"#9c179e\"],[0.4444444444444444,\"#bd3786\"],[0.5555555555555556,\"#d8576b\"],[0.6666666666666666,\"#ed7953\"],[0.7777777777777778,\"#fb9f3a\"],[0.8888888888888888,\"#fdca26\"],[1.0,\"#f0f921\"]],\"type\":\"histogram2dcontour\"}],\"histogram2d\":[{\"colorbar\":{\"outlinewidth\":0,\"ticks\":\"\"},\"colorscale\":[[0.0,\"#0d0887\"],[0.1111111111111111,\"#46039f\"],[0.2222222222222222,\"#7201a8\"],[0.3333333333333333,\"#9c179e\"],[0.4444444444444444,\"#bd3786\"],[0.5555555555555556,\"#d8576b\"],[0.6666666666666666,\"#ed7953\"],[0.7777777777777778,\"#fb9f3a\"],[0.8888888888888888,\"#fdca26\"],[1.0,\"#f0f921\"]],\"type\":\"histogram2d\"}],\"histogram\":[{\"marker\":{\"pattern\":{\"fillmode\":\"overlay\",\"size\":10,\"solidity\":0.2}},\"type\":\"histogram\"}],\"mesh3d\":[{\"colorbar\":{\"outlinewidth\":0,\"ticks\":\"\"},\"type\":\"mesh3d\"}],\"parcoords\":[{\"line\":{\"colorbar\":{\"outlinewidth\":0,\"ticks\":\"\"}},\"type\":\"parcoords\"}],\"pie\":[{\"automargin\":true,\"type\":\"pie\"}],\"scatter3d\":[{\"line\":{\"colorbar\":{\"outlinewidth\":0,\"ticks\":\"\"}},\"marker\":{\"colorbar\":{\"outlinewidth\":0,\"ticks\":\"\"}},\"type\":\"scatter3d\"}],\"scattercarpet\":[{\"marker\":{\"colorbar\":{\"outlinewidth\":0,\"ticks\":\"\"}},\"type\":\"scattercarpet\"}],\"scattergeo\":[{\"marker\":{\"colorbar\":{\"outlinewidth\":0,\"ticks\":\"\"}},\"type\":\"scattergeo\"}],\"scattergl\":[{\"marker\":{\"colorbar\":{\"outlinewidth\":0,\"ticks\":\"\"}},\"type\":\"scattergl\"}],\"scattermapbox\":[{\"marker\":{\"colorbar\":{\"outlinewidth\":0,\"ticks\":\"\"}},\"type\":\"scattermapbox\"}],\"scatterpolargl\":[{\"marker\":{\"colorbar\":{\"outlinewidth\":0,\"ticks\":\"\"}},\"type\":\"scatterpolargl\"}],\"scatterpolar\":[{\"marker\":{\"colorbar\":{\"outlinewidth\":0,\"ticks\":\"\"}},\"type\":\"scatterpolar\"}],\"scatter\":[{\"fillpattern\":{\"fillmode\":\"overlay\",\"size\":10,\"solidity\":0.2},\"type\":\"scatter\"}],\"scatterternary\":[{\"marker\":{\"colorbar\":{\"outlinewidth\":0,\"ticks\":\"\"}},\"type\":\"scatterternary\"}],\"surface\":[{\"colorbar\":{\"outlinewidth\":0,\"ticks\":\"\"},\"colorscale\":[[0.0,\"#0d0887\"],[0.1111111111111111,\"#46039f\"],[0.2222222222222222,\"#7201a8\"],[0.3333333333333333,\"#9c179e\"],[0.4444444444444444,\"#bd3786\"],[0.5555555555555556,\"#d8576b\"],[0.6666666666666666,\"#ed7953\"],[0.7777777777777778,\"#fb9f3a\"],[0.8888888888888888,\"#fdca26\"],[1.0,\"#f0f921\"]],\"type\":\"surface\"}],\"table\":[{\"cells\":{\"fill\":{\"color\":\"#EBF0F8\"},\"line\":{\"color\":\"white\"}},\"header\":{\"fill\":{\"color\":\"#C8D4E3\"},\"line\":{\"color\":\"white\"}},\"type\":\"table\"}]},\"layout\":{\"annotationdefaults\":{\"arrowcolor\":\"#2a3f5f\",\"arrowhead\":0,\"arrowwidth\":1},\"autotypenumbers\":\"strict\",\"coloraxis\":{\"colorbar\":{\"outlinewidth\":0,\"ticks\":\"\"}},\"colorscale\":{\"diverging\":[[0,\"#8e0152\"],[0.1,\"#c51b7d\"],[0.2,\"#de77ae\"],[0.3,\"#f1b6da\"],[0.4,\"#fde0ef\"],[0.5,\"#f7f7f7\"],[0.6,\"#e6f5d0\"],[0.7,\"#b8e186\"],[0.8,\"#7fbc41\"],[0.9,\"#4d9221\"],[1,\"#276419\"]],\"sequential\":[[0.0,\"#0d0887\"],[0.1111111111111111,\"#46039f\"],[0.2222222222222222,\"#7201a8\"],[0.3333333333333333,\"#9c179e\"],[0.4444444444444444,\"#bd3786\"],[0.5555555555555556,\"#d8576b\"],[0.6666666666666666,\"#ed7953\"],[0.7777777777777778,\"#fb9f3a\"],[0.8888888888888888,\"#fdca26\"],[1.0,\"#f0f921\"]],\"sequentialminus\":[[0.0,\"#0d0887\"],[0.1111111111111111,\"#46039f\"],[0.2222222222222222,\"#7201a8\"],[0.3333333333333333,\"#9c179e\"],[0.4444444444444444,\"#bd3786\"],[0.5555555555555556,\"#d8576b\"],[0.6666666666666666,\"#ed7953\"],[0.7777777777777778,\"#fb9f3a\"],[0.8888888888888888,\"#fdca26\"],[1.0,\"#f0f921\"]]},\"colorway\":[\"#636efa\",\"#EF553B\",\"#00cc96\",\"#ab63fa\",\"#FFA15A\",\"#19d3f3\",\"#FF6692\",\"#B6E880\",\"#FF97FF\",\"#FECB52\"],\"font\":{\"color\":\"#2a3f5f\"},\"geo\":{\"bgcolor\":\"white\",\"lakecolor\":\"white\",\"landcolor\":\"#E5ECF6\",\"showlakes\":true,\"showland\":true,\"subunitcolor\":\"white\"},\"hoverlabel\":{\"align\":\"left\"},\"hovermode\":\"closest\",\"mapbox\":{\"style\":\"light\"},\"paper_bgcolor\":\"white\",\"plot_bgcolor\":\"#E5ECF6\",\"polar\":{\"angularaxis\":{\"gridcolor\":\"white\",\"linecolor\":\"white\",\"ticks\":\"\"},\"bgcolor\":\"#E5ECF6\",\"radialaxis\":{\"gridcolor\":\"white\",\"linecolor\":\"white\",\"ticks\":\"\"}},\"scene\":{\"xaxis\":{\"backgroundcolor\":\"#E5ECF6\",\"gridcolor\":\"white\",\"gridwidth\":2,\"linecolor\":\"white\",\"showbackground\":true,\"ticks\":\"\",\"zerolinecolor\":\"white\"},\"yaxis\":{\"backgroundcolor\":\"#E5ECF6\",\"gridcolor\":\"white\",\"gridwidth\":2,\"linecolor\":\"white\",\"showbackground\":true,\"ticks\":\"\",\"zerolinecolor\":\"white\"},\"zaxis\":{\"backgroundcolor\":\"#E5ECF6\",\"gridcolor\":\"white\",\"gridwidth\":2,\"linecolor\":\"white\",\"showbackground\":true,\"ticks\":\"\",\"zerolinecolor\":\"white\"}},\"shapedefaults\":{\"line\":{\"color\":\"#2a3f5f\"}},\"ternary\":{\"aaxis\":{\"gridcolor\":\"white\",\"linecolor\":\"white\",\"ticks\":\"\"},\"baxis\":{\"gridcolor\":\"white\",\"linecolor\":\"white\",\"ticks\":\"\"},\"bgcolor\":\"#E5ECF6\",\"caxis\":{\"gridcolor\":\"white\",\"linecolor\":\"white\",\"ticks\":\"\"}},\"title\":{\"x\":0.05},\"xaxis\":{\"automargin\":true,\"gridcolor\":\"white\",\"linecolor\":\"white\",\"ticks\":\"\",\"title\":{\"standoff\":15},\"zerolinecolor\":\"white\",\"zerolinewidth\":2},\"yaxis\":{\"automargin\":true,\"gridcolor\":\"white\",\"linecolor\":\"white\",\"ticks\":\"\",\"title\":{\"standoff\":15},\"zerolinecolor\":\"white\",\"zerolinewidth\":2}}},\"title\":{\"text\":\"Logistic Regression Weights, with error bars\"}},                        {\"responsive\": true}                    ).then(function(){\n",
              "                            \n",
              "var gd = document.getElementById('d819521b-6ec3-4347-9707-cd3e245997d7');\n",
              "var x = new MutationObserver(function (mutations, observer) {{\n",
              "        var display = window.getComputedStyle(gd).display;\n",
              "        if (!display || display === 'none') {{\n",
              "            console.log([gd, 'removed!']);\n",
              "            Plotly.purge(gd);\n",
              "            observer.disconnect();\n",
              "        }}\n",
              "}});\n",
              "\n",
              "// Listen for the removal of the full notebook cells\n",
              "var notebookContainer = gd.closest('#notebook-container');\n",
              "if (notebookContainer) {{\n",
              "    x.observe(notebookContainer, {childList: true});\n",
              "}}\n",
              "\n",
              "// Listen for the clearing of the current output cell\n",
              "var outputEl = gd.closest('.output');\n",
              "if (outputEl) {{\n",
              "    x.observe(outputEl, {childList: true});\n",
              "}}\n",
              "\n",
              "                        })                };                            </script>        </div>\n",
              "</body>\n",
              "</html>"
            ]
          },
          "metadata": {}
        }
      ]
    },
    {
      "cell_type": "code",
      "source": [
        "for train_indices, test_indices in cv_object.split(X,y):      \n",
        "  X_train = X[train_indices]     \n",
        "  y_train = y[train_indices]          \n",
        "  X_test = X[test_indices]     \n",
        "  y_test = y[test_indices]      \n",
        "  X_train_scaled = scl_obj.transform(X_train) \n",
        "  X_test_scaled = scl_obj.transform(X_test) "
      ],
      "metadata": {
        "id": "MmYAGGpDkaH4"
      },
      "execution_count": 154,
      "outputs": []
    },
    {
      "cell_type": "code",
      "source": [
        "score.head() "
      ],
      "metadata": {
        "colab": {
          "base_uri": "https://localhost:8080/",
          "height": 287
        },
        "id": "7qOxl4EOlBpe",
        "outputId": "9e2ee83c-4530-4f67-bf84-1f5723b50ee3"
      },
      "execution_count": 155,
      "outputs": [
        {
          "output_type": "execute_result",
          "data": {
            "text/plain": [
              "           id  lang-en  profile_pic  has_screen_name  30followers  geoloc  \\\n",
              "0  1502026416        0            0                0            0       0   \n",
              "1  2492782375        0            0                0            0       0   \n",
              "2   293212315        1            0                0            0       1   \n",
              "3   191839658        1            0                0            0       0   \n",
              "4  3020965143        1            0                0            1       1   \n",
              "\n",
              "   banner_link  50tweets  twice_num_followers  1000friends  NeverTweeted  \\\n",
              "0            1         0                    0            0             0   \n",
              "1            1         0                    0            0             0   \n",
              "2            1         0                    0            0             0   \n",
              "3            1         0                    0            0             0   \n",
              "4            0         0                    1            0             0   \n",
              "\n",
              "   fifty_FriendsFollowersRatio  hundred_FriendsFollowersRatio  has_description  \n",
              "0                            0                              0                0  \n",
              "1                            0                              0                0  \n",
              "2                            0                              0                0  \n",
              "3                            0                              0                0  \n",
              "4                            0                              0                0  "
            ],
            "text/html": [
              "\n",
              "  <div id=\"df-4f3e3a3b-2198-42c3-ba67-89c5ce33b276\">\n",
              "    <div class=\"colab-df-container\">\n",
              "      <div>\n",
              "<style scoped>\n",
              "    .dataframe tbody tr th:only-of-type {\n",
              "        vertical-align: middle;\n",
              "    }\n",
              "\n",
              "    .dataframe tbody tr th {\n",
              "        vertical-align: top;\n",
              "    }\n",
              "\n",
              "    .dataframe thead th {\n",
              "        text-align: right;\n",
              "    }\n",
              "</style>\n",
              "<table border=\"1\" class=\"dataframe\">\n",
              "  <thead>\n",
              "    <tr style=\"text-align: right;\">\n",
              "      <th></th>\n",
              "      <th>id</th>\n",
              "      <th>lang-en</th>\n",
              "      <th>profile_pic</th>\n",
              "      <th>has_screen_name</th>\n",
              "      <th>30followers</th>\n",
              "      <th>geoloc</th>\n",
              "      <th>banner_link</th>\n",
              "      <th>50tweets</th>\n",
              "      <th>twice_num_followers</th>\n",
              "      <th>1000friends</th>\n",
              "      <th>NeverTweeted</th>\n",
              "      <th>fifty_FriendsFollowersRatio</th>\n",
              "      <th>hundred_FriendsFollowersRatio</th>\n",
              "      <th>has_description</th>\n",
              "    </tr>\n",
              "  </thead>\n",
              "  <tbody>\n",
              "    <tr>\n",
              "      <th>0</th>\n",
              "      <td>1502026416</td>\n",
              "      <td>0</td>\n",
              "      <td>0</td>\n",
              "      <td>0</td>\n",
              "      <td>0</td>\n",
              "      <td>0</td>\n",
              "      <td>1</td>\n",
              "      <td>0</td>\n",
              "      <td>0</td>\n",
              "      <td>0</td>\n",
              "      <td>0</td>\n",
              "      <td>0</td>\n",
              "      <td>0</td>\n",
              "      <td>0</td>\n",
              "    </tr>\n",
              "    <tr>\n",
              "      <th>1</th>\n",
              "      <td>2492782375</td>\n",
              "      <td>0</td>\n",
              "      <td>0</td>\n",
              "      <td>0</td>\n",
              "      <td>0</td>\n",
              "      <td>0</td>\n",
              "      <td>1</td>\n",
              "      <td>0</td>\n",
              "      <td>0</td>\n",
              "      <td>0</td>\n",
              "      <td>0</td>\n",
              "      <td>0</td>\n",
              "      <td>0</td>\n",
              "      <td>0</td>\n",
              "    </tr>\n",
              "    <tr>\n",
              "      <th>2</th>\n",
              "      <td>293212315</td>\n",
              "      <td>1</td>\n",
              "      <td>0</td>\n",
              "      <td>0</td>\n",
              "      <td>0</td>\n",
              "      <td>1</td>\n",
              "      <td>1</td>\n",
              "      <td>0</td>\n",
              "      <td>0</td>\n",
              "      <td>0</td>\n",
              "      <td>0</td>\n",
              "      <td>0</td>\n",
              "      <td>0</td>\n",
              "      <td>0</td>\n",
              "    </tr>\n",
              "    <tr>\n",
              "      <th>3</th>\n",
              "      <td>191839658</td>\n",
              "      <td>1</td>\n",
              "      <td>0</td>\n",
              "      <td>0</td>\n",
              "      <td>0</td>\n",
              "      <td>0</td>\n",
              "      <td>1</td>\n",
              "      <td>0</td>\n",
              "      <td>0</td>\n",
              "      <td>0</td>\n",
              "      <td>0</td>\n",
              "      <td>0</td>\n",
              "      <td>0</td>\n",
              "      <td>0</td>\n",
              "    </tr>\n",
              "    <tr>\n",
              "      <th>4</th>\n",
              "      <td>3020965143</td>\n",
              "      <td>1</td>\n",
              "      <td>0</td>\n",
              "      <td>0</td>\n",
              "      <td>1</td>\n",
              "      <td>1</td>\n",
              "      <td>0</td>\n",
              "      <td>0</td>\n",
              "      <td>1</td>\n",
              "      <td>0</td>\n",
              "      <td>0</td>\n",
              "      <td>0</td>\n",
              "      <td>0</td>\n",
              "      <td>0</td>\n",
              "    </tr>\n",
              "  </tbody>\n",
              "</table>\n",
              "</div>\n",
              "      <button class=\"colab-df-convert\" onclick=\"convertToInteractive('df-4f3e3a3b-2198-42c3-ba67-89c5ce33b276')\"\n",
              "              title=\"Convert this dataframe to an interactive table.\"\n",
              "              style=\"display:none;\">\n",
              "        \n",
              "  <svg xmlns=\"http://www.w3.org/2000/svg\" height=\"24px\"viewBox=\"0 0 24 24\"\n",
              "       width=\"24px\">\n",
              "    <path d=\"M0 0h24v24H0V0z\" fill=\"none\"/>\n",
              "    <path d=\"M18.56 5.44l.94 2.06.94-2.06 2.06-.94-2.06-.94-.94-2.06-.94 2.06-2.06.94zm-11 1L8.5 8.5l.94-2.06 2.06-.94-2.06-.94L8.5 2.5l-.94 2.06-2.06.94zm10 10l.94 2.06.94-2.06 2.06-.94-2.06-.94-.94-2.06-.94 2.06-2.06.94z\"/><path d=\"M17.41 7.96l-1.37-1.37c-.4-.4-.92-.59-1.43-.59-.52 0-1.04.2-1.43.59L10.3 9.45l-7.72 7.72c-.78.78-.78 2.05 0 2.83L4 21.41c.39.39.9.59 1.41.59.51 0 1.02-.2 1.41-.59l7.78-7.78 2.81-2.81c.8-.78.8-2.07 0-2.86zM5.41 20L4 18.59l7.72-7.72 1.47 1.35L5.41 20z\"/>\n",
              "  </svg>\n",
              "      </button>\n",
              "      \n",
              "  <style>\n",
              "    .colab-df-container {\n",
              "      display:flex;\n",
              "      flex-wrap:wrap;\n",
              "      gap: 12px;\n",
              "    }\n",
              "\n",
              "    .colab-df-convert {\n",
              "      background-color: #E8F0FE;\n",
              "      border: none;\n",
              "      border-radius: 50%;\n",
              "      cursor: pointer;\n",
              "      display: none;\n",
              "      fill: #1967D2;\n",
              "      height: 32px;\n",
              "      padding: 0 0 0 0;\n",
              "      width: 32px;\n",
              "    }\n",
              "\n",
              "    .colab-df-convert:hover {\n",
              "      background-color: #E2EBFA;\n",
              "      box-shadow: 0px 1px 2px rgba(60, 64, 67, 0.3), 0px 1px 3px 1px rgba(60, 64, 67, 0.15);\n",
              "      fill: #174EA6;\n",
              "    }\n",
              "\n",
              "    [theme=dark] .colab-df-convert {\n",
              "      background-color: #3B4455;\n",
              "      fill: #D2E3FC;\n",
              "    }\n",
              "\n",
              "    [theme=dark] .colab-df-convert:hover {\n",
              "      background-color: #434B5C;\n",
              "      box-shadow: 0px 1px 3px 1px rgba(0, 0, 0, 0.15);\n",
              "      filter: drop-shadow(0px 1px 2px rgba(0, 0, 0, 0.3));\n",
              "      fill: #FFFFFF;\n",
              "    }\n",
              "  </style>\n",
              "\n",
              "      <script>\n",
              "        const buttonEl =\n",
              "          document.querySelector('#df-4f3e3a3b-2198-42c3-ba67-89c5ce33b276 button.colab-df-convert');\n",
              "        buttonEl.style.display =\n",
              "          google.colab.kernel.accessAllowed ? 'block' : 'none';\n",
              "\n",
              "        async function convertToInteractive(key) {\n",
              "          const element = document.querySelector('#df-4f3e3a3b-2198-42c3-ba67-89c5ce33b276');\n",
              "          const dataTable =\n",
              "            await google.colab.kernel.invokeFunction('convertToInteractive',\n",
              "                                                     [key], {});\n",
              "          if (!dataTable) return;\n",
              "\n",
              "          const docLinkHtml = 'Like what you see? Visit the ' +\n",
              "            '<a target=\"_blank\" href=https://colab.research.google.com/notebooks/data_table.ipynb>data table notebook</a>'\n",
              "            + ' to learn more about interactive tables.';\n",
              "          element.innerHTML = '';\n",
              "          dataTable['output_type'] = 'display_data';\n",
              "          await google.colab.output.renderOutput(dataTable, element);\n",
              "          const docLink = document.createElement('div');\n",
              "          docLink.innerHTML = docLinkHtml;\n",
              "          element.appendChild(docLink);\n",
              "        }\n",
              "      </script>\n",
              "    </div>\n",
              "  </div>\n",
              "  "
            ]
          },
          "metadata": {},
          "execution_count": 155
        }
      ]
    },
    {
      "cell_type": "code",
      "source": [
        "from sklearn.svm import SVC  \n",
        "svm_clf = SVC(C=0.5, kernel='rbf', degree=3, gamma='auto') \n",
        "svm_clf.fit(X_train_scaled, y_train)  \n",
        "y_hat = svm_clf.predict(X_test_scaled) \n",
        "acc = mt.accuracy_score(y_test,y_hat) \n",
        "conf = mt.confusion_matrix(y_test,y_hat) \n",
        "print('accuracy:', acc ) \n",
        "print(conf) "
      ],
      "metadata": {
        "colab": {
          "base_uri": "https://localhost:8080/"
        },
        "id": "jxHapOJAlH28",
        "outputId": "0e16d849-fc0d-4578-825a-fd1a2ef5cdcc"
      },
      "execution_count": 157,
      "outputs": [
        {
          "output_type": "stream",
          "name": "stdout",
          "text": [
            "accuracy: 0.9599697885196374\n",
            "[[ 627   49]\n",
            " [  57 1915]]\n"
          ]
        }
      ]
    },
    {
      "cell_type": "code",
      "source": [
        "id = int(input(\"Enter id : \"))\n",
        "\n",
        "language = input(\"English(en)/Hindi(hi)/Marathi(mr) : \")\n",
        "if language == 'en':\n",
        "  lang_input = 1\n",
        "else:\n",
        "  lang_input = 0\n",
        "\n",
        "profile_image_url = input(\"Enter url for profile image : \")\n",
        "if profile_image_url=='':\n",
        "  profile_image_url_input = 1\n",
        "else :\n",
        "  profile_image_url_input = 0\n",
        "\n",
        "screen_name = input(\"Enter screen name : \")\n",
        "if screen_name=='':\n",
        "  screen_name_input = 1\n",
        "else :\n",
        "  screen_name_input = 0\n",
        "\n",
        "follower_count = int(input(\"Enter follower count : \"))\n",
        "if follower_count<30:\n",
        "  follower_count_input = 1\n",
        "else :\n",
        "  follower_count_input = 0\n",
        "\n",
        "geolocation = input(\"Enter if geo enabled (T-Yes/ F-No) : \")\n",
        "if geolocation =='F':\n",
        "  geolocation_input=1\n",
        "else:\n",
        "  geolocation_input=0\n",
        "\n",
        "profile_banner = input(\"Enter url for profile banner : \")\n",
        "if profile_banner=='':\n",
        "  profile_banner_input = 0\n",
        "else :\n",
        "  profile_banner_input = 1\n",
        "\n",
        "tweet_count = int(input(\"Enter tweet count : \"))\n",
        "if tweet_count>50:\n",
        "  tweet_count_input = 0\n",
        "else :\n",
        "  tweet_count_input = 1\n",
        "\n",
        "friend_count = int(input(\"Enter friend count : \"))\n",
        "if 2*follower_count>=friend_count:\n",
        "  twice_num_followers_input = 0\n",
        "else :\n",
        "  twice_num_followers_input = 1\n",
        "\n",
        "\n",
        "if friend_count>1000:\n",
        "  thousand_or_more_friends_input = 1\n",
        "else :\n",
        "  thousand_or_more_friends_input = 0\n",
        "\n",
        "num_tweets_posted = int(input(\"Enter number of tweets posted : \"))\n",
        "if num_tweets_posted == 0:\n",
        "  posted_notposted_input = 1\n",
        "else :\n",
        "  posted_notposted_input = 0\n",
        "\n",
        "if 50*follower_count<=friend_count:\n",
        "  fifty_follower_friend_input =1\n",
        "else :\n",
        "  fifty_follower_friend_input =0\n",
        "\n",
        "if 100*follower_count<=friend_count:\n",
        "  hundred_follower_friend_input =1\n",
        "else :\n",
        "  hundred_follower_friend_input =0\n",
        "\n",
        "description = input(\"Enter profile bio : \")\n",
        "if description=='':\n",
        "  description_input = 1\n",
        "else :\n",
        "  description_input = 0"
      ],
      "metadata": {
        "colab": {
          "base_uri": "https://localhost:8080/"
        },
        "id": "S6Guz8sooj69",
        "outputId": "7422f678-f2a8-4517-bc99-cfc44f19c39e"
      },
      "execution_count": 183,
      "outputs": [
        {
          "name": "stdout",
          "output_type": "stream",
          "text": [
            "Enter id : 105916557\n",
            "English(en)/Hindi(hi)/Marathi(mr) : en\n",
            "Enter url for profile image : https://pbs.twimg.com/profile_images/632916759557840896/35puTLF2_normal.jpg\n",
            "Enter screen name : CBirckner\n",
            "Enter follower count : 60\n",
            "Enter if geo enabled (T-Yes/ F-No) : T\n",
            "Enter url for profile banner : https://abs.twimg.com/images/themes/theme3/bg.gif\n",
            "Enter tweet count : 260\n",
            "Enter friend count : 128\n",
            "Enter number of tweets posted : 1038\n",
            "Enter profile bio : Television producer. Emmy Award winner. Disney enthusiast. ZBB followers. Kitty crazy.\n"
          ]
        }
      ]
    },
    {
      "cell_type": "code",
      "source": [
        "input_data = [[id,lang_input,profile_image_url_input,screen_name_input,follower_count_input,geolocation_input,profile_banner_input,tweet_count_input,twice_num_followers_input,thousand_or_more_friends_input,posted_notposted_input,fifty_follower_friend_input,hundred_follower_friend_input,description_input]]"
      ],
      "metadata": {
        "id": "7yJUbQ-hwW34"
      },
      "execution_count": 184,
      "outputs": []
    },
    {
      "cell_type": "code",
      "source": [
        "new_data_scaled = scl_obj.transform(input_data)\n",
        "predicted_label = lr_clf.predict(new_data_scaled)\n",
        "if predicted_label==1:\n",
        "  print(\"Bot\")\n",
        "else :\n",
        "  print(\"not a bot\")"
      ],
      "metadata": {
        "colab": {
          "base_uri": "https://localhost:8080/"
        },
        "id": "wc-ExqCKlMx0",
        "outputId": "0c2ea398-4490-449b-d8a8-8a7e38d477d6"
      },
      "execution_count": 185,
      "outputs": [
        {
          "output_type": "stream",
          "name": "stdout",
          "text": [
            "not a bot\n"
          ]
        }
      ]
    },
    {
      "cell_type": "code",
      "source": [],
      "metadata": {
        "id": "oUt6sPD7oL3M"
      },
      "execution_count": null,
      "outputs": []
    }
  ]
}